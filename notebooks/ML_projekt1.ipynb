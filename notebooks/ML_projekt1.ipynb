{
 "cells": [
  {
   "cell_type": "code",
   "execution_count": 1,
   "metadata": {
    "collapsed": false
   },
   "outputs": [
    {
     "data": {
      "text/html": [
       "<script>\n",
       "code_show=true; \n",
       "function code_toggle() {\n",
       " if (code_show){\n",
       " $('div.input').hide();\n",
       " } else {\n",
       " $('div.input').show();\n",
       " }\n",
       " code_show = !code_show\n",
       "} \n",
       "$( document ).ready(code_toggle);\n",
       "</script>\n",
       "<form action=\"javascript:code_toggle()\"><input type=\"submit\" value=\"Click here to toggle on/off the raw code.\"></form>"
      ],
      "text/plain": [
       "<IPython.core.display.HTML object>"
      ]
     },
     "execution_count": 1,
     "metadata": {},
     "output_type": "execute_result"
    }
   ],
   "source": [
    "from IPython.display import HTML\n",
    "\n",
    "HTML('''<script>\n",
    "code_show=true; \n",
    "function code_toggle() {\n",
    " if (code_show){\n",
    " $('div.input').hide();\n",
    " } else {\n",
    " $('div.input').show();\n",
    " }\n",
    " code_show = !code_show\n",
    "} \n",
    "$( document ).ready(code_toggle);\n",
    "</script>\n",
    "<form action=\"javascript:code_toggle()\"><input type=\"submit\" value=\"Click here to toggle on/off the raw code.\"></form>''')"
   ]
  },
  {
   "cell_type": "code",
   "execution_count": 1,
   "metadata": {
    "collapsed": true
   },
   "outputs": [],
   "source": [
    "import os\n",
    "\n",
    "def git_get():\n",
    "    '''Get latest version from github'''\n",
    "    os.system(\"git remote update\")\n",
    "    os.system(\"git pull\")\n",
    "    \n",
    "def git_put(message):\n",
    "    '''Adds/commits this notebook'''\n",
    "    os.system(\"git add ML_projekt1.ipynb\")\n",
    "    os.system('git commit -m \"{}\"'.format(message))\n",
    "    os.system(\"git push\")"
   ]
  },
  {
   "cell_type": "code",
   "execution_count": 10,
   "metadata": {
    "collapsed": true
   },
   "outputs": [],
   "source": [
    "%matplotlib inline \n",
    "import pandas as pd\n",
    "import seaborn as sns\n",
    "import numpy as np\n",
    "import matplotlib.pyplot as plt\n",
    "from matplotlib.patches import Rectangle\n",
    "from sklearn.decomposition import PCA\n",
    "from sklearn.preprocessing import StandardScaler\n",
    "from sklearn.cluster import KMeans"
   ]
  },
  {
   "cell_type": "markdown",
   "metadata": {},
   "source": [
    "# IMDB Movie Analysis (fælles)"
   ]
  },
  {
   "cell_type": "markdown",
   "metadata": {},
   "source": [
    "Kristian Rygaard Svendsen (s153856)<br>\n",
    "Christian Bill Pedersen (s154241)"
   ]
  },
  {
   "cell_type": "markdown",
   "metadata": {},
   "source": [
    "## Analysis goals"
   ]
  },
  {
   "cell_type": "markdown",
   "metadata": {},
   "source": [
    "In this analysis we will explore the world of movies through a 5000+ entries dataset from IMDB.com. The ultimate goal for this dataanalysis is to determine which features make a movie \"successful\". The definition of \"successful\" is of course a bit vague, but during this dataanalysis we will define success as high popularity and/or gross revenue. We will also be exploring grouping of movies through a variety of machine learning methods."
   ]
  },
  {
   "cell_type": "markdown",
   "metadata": {},
   "source": [
    "## Initial assumptions"
   ]
  },
  {
   "cell_type": "markdown",
   "metadata": {},
   "source": [
    "Our initial assumption is that more popular movies in general generate a bigger revenue, since we assume popularity is highly correlated with the total number of consumers for that specific movie."
   ]
  },
  {
   "cell_type": "markdown",
   "metadata": {},
   "source": [
    "## Method of analysis"
   ]
  },
  {
   "cell_type": "markdown",
   "metadata": {},
   "source": [
    "This analysis uses the OSEMN model, which is an acronym for: Obtain, Scrub, Explore, Model, and iNterpret.\n",
    "\n",
    "https://machinelearningmastery.com/how-to-work-through-a-problem-like-a-data-scientist/"
   ]
  },
  {
   "cell_type": "markdown",
   "metadata": {},
   "source": [
    "# 1. Obtain Data"
   ]
  },
  {
   "cell_type": "markdown",
   "metadata": {},
   "source": [
    "## Dataset source and description"
   ]
  },
  {
   "cell_type": "markdown",
   "metadata": {},
   "source": [
    "The IMDB Movie dataset from Kaggle.com, contains information from 5000 movies, obtained by webscraping IMDB.com. Note that at the time of writing, the dataset was recently removed from Kaggle and replaced with a new dataset which is not compatible with this notebook. Kaggle hosts a multitude of \"kernels\" (runable data science papers) using this dataset, with titles such as: \"film recommendation engine\", \"Movie Recommendations\" and \"Categorizing actors\".\n",
    "\n",
    "https://www.kaggle.com/tmdb/tmdb-movie-metadata/data"
   ]
  },
  {
   "cell_type": "markdown",
   "metadata": {},
   "source": [
    "# 2. Scrub Data"
   ]
  },
  {
   "cell_type": "markdown",
   "metadata": {},
   "source": [
    "## Data preparation, cleaning and structure"
   ]
  },
  {
   "cell_type": "markdown",
   "metadata": {},
   "source": [
    "Throughout this analysis we will handle the dataset in a dictionary named \"data\". It is the hope of the authors that this structure will make code-snippets more readable and remove the need for redundant comment/explanations (this paragraph excluded). In addition to the raw data, we will prepare two other versions of our dataset: 'No_na' - where entries containing N/A data have been removed and 'numerical' which contain only numerical data columns. We justify this by assuming representation similarity in columns such as 'director_name' and 'director_facebook_likes'. This is due to the fact that \"being James Cameron\" doesn't mean anything, but having a \"relavant attribute\" such as popularity is expected to have a higher impact."
   ]
  },
  {
   "cell_type": "code",
   "execution_count": 2,
   "metadata": {
    "collapsed": false
   },
   "outputs": [
    {
     "name": "stdout",
     "output_type": "stream",
     "text": [
      "Number of removed rows in 'no_na' dataset: 1287 out of 5043\n"
     ]
    }
   ],
   "source": [
    "data = {}\n",
    "data['raw'] = pd.read_csv(\"movie_metadata.csv\")\n",
    "data['no_na'] = data['raw'].dropna();\n",
    "data['n_removed_na'] = data['raw'].shape[0] - data['no_na'].shape[0]\n",
    "data['numerical'] = data['no_na'].select_dtypes(exclude=['object']) #.fillna(value=0, axis=1)\n",
    "print(f\"Number of removed rows in 'no_na' dataset: {data['n_removed_na']} out of {data['raw'].shape[0]}\")"
   ]
  },
  {
   "cell_type": "markdown",
   "metadata": {},
   "source": [
    "## Post-cleaning data validation"
   ]
  },
  {
   "cell_type": "markdown",
   "metadata": {},
   "source": [
    "As indicated above, many rows containing N/A-data was removed from the dataset. It is acknowledged by the authors that may reduce the prediction generalizability, but at the time of writing this decision seems justifiable in comparisson to potentially mishandling N/A's."
   ]
  },
  {
   "cell_type": "markdown",
   "metadata": {},
   "source": [
    "# 3. Explore Data (Kristian)"
   ]
  },
  {
   "cell_type": "markdown",
   "metadata": {},
   "source": [
    "## Attribute overview"
   ]
  },
  {
   "cell_type": "markdown",
   "metadata": {},
   "source": [
    "In the following table all the 28 different attributes are explained and it's shown whether they are discrete or continous together with their level of measurement.  \n",
    "\n",
    "\n",
    "<table valign=\"left\">\n",
    "  <tr>\n",
    "    <th>Attribute</th>\n",
    "    <th>Explanation</th>\n",
    "    <th>Discrete/continous</th>\n",
    "    <th>Nominal/Ordinal/Interval/Ratio</th>\n",
    "  </tr>\n",
    "  <tr>\n",
    "    <td>color</td>\n",
    "    <td>Is the movie in color or black and white</td>\n",
    "    <td>Discrete</td>\n",
    "    <td>Nominal</td>\n",
    "  </tr>\n",
    "  <tr>\n",
    "    <td>director_name</td>\n",
    "    <td>Name of the director</td>\n",
    "    <td>Discrete</td>\n",
    "    <td>Nominal</td>\n",
    "  </tr>\n",
    "  <tr>\n",
    "    <td>num_critic_for_reviews</td>\n",
    "    <td>Number of critics reviews</td>\n",
    "    <td>Discrete</td>\n",
    "    <td>Ratio</td>\n",
    "  </tr>\n",
    "  <tr>\n",
    "    <td>duration</td>\n",
    "    <td>Duration of the movie</td>\n",
    "    <td>Continous</td>\n",
    "    <td>Ratio</td>\n",
    "  </tr>\n",
    "  <tr>\n",
    "    <td>director_facebook_likes</td>\n",
    "    <td>The directors amount of facebook likes</td>\n",
    "    <td>Discrete</td>\n",
    "    <td>Ratio</td>\n",
    "  </tr>\n",
    "  <tr>\n",
    "    <td>actor_3_facebook_likes</td>\n",
    "    <td>Third actor likes on Facebook</td>\n",
    "    <td>Discrete</td>\n",
    "    <td>Ratio</td>\n",
    "  </tr>\n",
    "  <tr>\n",
    "    <td>actor_2_name</td>\n",
    "    <td>Second actor's name</td>\n",
    "    <td>Discrete</td>\n",
    "    <td>Nominal</td>\n",
    "  </tr>\n",
    "  <tr>\n",
    "    <td>actor_1_facebook_likes</td>\n",
    "    <td>First actor likes on Facebook</td>\n",
    "    <td>Discrete</td>\n",
    "    <td>Ratio</td>\n",
    "  </tr>\n",
    "  <tr>\n",
    "    <td>gross</td>\n",
    "    <td>Gross income of the movie</td>\n",
    "    <td>Continous</td>\n",
    "    <td>Ratio</td>\n",
    "  </tr>\n",
    "  <tr>\n",
    "    <td>genres</td>\n",
    "    <td>The movies genre </td>\n",
    "    <td>Discrete</td>\n",
    "    <td>Nominal</td>\n",
    "  </tr>\n",
    "  <tr>\n",
    "    <td>actor_1_name</td>\n",
    "    <td>First actor's name</td>\n",
    "    <td>Discrete</td>\n",
    "    <td>Nominal</td>\n",
    "  </tr>\n",
    "  <tr>\n",
    "    <td>movie_title</td>\n",
    "    <td>Title of the movie</td>\n",
    "    <td>Discrete</td>\n",
    "    <td>Nominal</td>\n",
    "  </tr>\n",
    "  <tr>\n",
    "    <td>num_voted_users</td>\n",
    "    <td>Number of votes at IMDB</td>\n",
    "    <td>Discrete</td>\n",
    "    <td>Ratio</td>\n",
    "  </tr>\n",
    "  <tr>\n",
    "    <td>cast_total_facebook_likes</td>\n",
    "    <td>Total Facebook likes for the cast</td>\n",
    "    <td>Discrete</td>\n",
    "    <td>Ratio</td>\n",
    "  </tr>\n",
    "  <tr>\n",
    "    <td>actor_3_name</td>\n",
    "    <td>Third actor's name</td>\n",
    "    <td>Discrete</td>\n",
    "    <td>Nominal</td>\n",
    "  </tr>\n",
    "  <tr>\n",
    "    <td>facenumber_in_poster</td>\n",
    "    <td>Amount of faces in the poster</td>\n",
    "    <td>Discrete</td>\n",
    "    <td>Ratio</td>\n",
    "  </tr>\n",
    "  <tr>\n",
    "    <td>plot_keywords</td>\n",
    "    <td>Keyword related to movie plot</td>\n",
    "    <td>Discrete</td>\n",
    "    <td>Nominal</td>\n",
    "  </tr>\n",
    "  <tr>\n",
    "    <td>movie_imdb_link</td>\n",
    "    <td>The movies imdb link</td>\n",
    "    <td>Discrete</td>\n",
    "    <td>Nominal</td>\n",
    "  </tr>\n",
    "  <tr>\n",
    "    <td>num_user_for_reviews</td>\n",
    "    <td>Number of user reviews</td>\n",
    "    <td>Discrete</td>\n",
    "    <td>Ratio</td>\n",
    "  </tr>\n",
    "  <tr>\n",
    "    <td>language</td>\n",
    "    <td>Spoken language</td>\n",
    "    <td>Discrete</td>\n",
    "    <td>Nominal</td>\n",
    "  </tr>\n",
    "  <tr>\n",
    "    <td>country</td>\n",
    "    <td>Country of origin </td>\n",
    "    <td>Discrete</td>\n",
    "    <td>Nominal </td>\n",
    "  </tr>\n",
    "  <tr>\n",
    "    <td>content_rating</td>\n",
    "    <td>Content rating</td>\n",
    "    <td>Discrete</td>\n",
    "    <td>Nominal</td>\n",
    "  </tr>\n",
    "  <tr>\n",
    "    <td>budget</td>\n",
    "    <td>The budget of the movie</td>\n",
    "    <td>Continous</td>\n",
    "    <td>Ratio</td>\n",
    "  </tr>\n",
    "  <tr>\n",
    "    <td>title_year</td>\n",
    "    <td>Release date</td>\n",
    "    <td>Discrete</td>\n",
    "    <td>Interval</td>\n",
    "  </tr>\n",
    "  <tr>\n",
    "    <td>actor_2_facebook_likes</td>\n",
    "    <td>Second actor likes on Facebook</td>\n",
    "    <td>Discrete</td>\n",
    "    <td>Ratio</td>\n",
    "  </tr>\n",
    "  <tr>\n",
    "    <td>imdb_score</td>\n",
    "    <td>Score on imdb (voted by users)</td>\n",
    "    <td>Discrete</td>\n",
    "    <td>Ratio</td>\n",
    "  </tr>\n",
    "  <tr>\n",
    "    <td>aspect_ratio</td>\n",
    "    <td>Aspect ratio of the movie</td>\n",
    "    <td>Discrete</td>\n",
    "    <td>Nominal </td>\n",
    "  </tr>\n",
    "  <tr>\n",
    "    <td>movie_facebook_likes</td>\n",
    "    <td>Total Facebook likes of the movie</td>\n",
    "    <td>Discrete</td>\n",
    "    <td>Ratio</td>\n",
    "  </tr>\n",
    "</table>"
   ]
  },
  {
   "cell_type": "markdown",
   "metadata": {},
   "source": [
    "## Summary statistics of numerical data"
   ]
  },
  {
   "cell_type": "markdown",
   "metadata": {},
   "source": [
    "A summary of the statistics are given below, including the mean, standard deviation, and the different quartiles for each attribute. These values will be relevant later, when interpreting results. Example given for 'gross', 'budget' and 'imdb_score'."
   ]
  },
  {
   "cell_type": "code",
   "execution_count": 3,
   "metadata": {
    "collapsed": false
   },
   "outputs": [
    {
     "data": {
      "text/html": [
       "<div>\n",
       "<table border=\"1\" class=\"dataframe\">\n",
       "  <thead>\n",
       "    <tr style=\"text-align: right;\">\n",
       "      <th></th>\n",
       "      <th>gross</th>\n",
       "      <th>budget</th>\n",
       "      <th>imdb_score</th>\n",
       "    </tr>\n",
       "  </thead>\n",
       "  <tbody>\n",
       "    <tr>\n",
       "      <th>count</th>\n",
       "      <td>3.756000e+03</td>\n",
       "      <td>3.756000e+03</td>\n",
       "      <td>3756.00</td>\n",
       "    </tr>\n",
       "    <tr>\n",
       "      <th>mean</th>\n",
       "      <td>5.261282e+07</td>\n",
       "      <td>4.623685e+07</td>\n",
       "      <td>6.47</td>\n",
       "    </tr>\n",
       "    <tr>\n",
       "      <th>std</th>\n",
       "      <td>7.031787e+07</td>\n",
       "      <td>2.260103e+08</td>\n",
       "      <td>1.06</td>\n",
       "    </tr>\n",
       "    <tr>\n",
       "      <th>min</th>\n",
       "      <td>1.620000e+02</td>\n",
       "      <td>2.180000e+02</td>\n",
       "      <td>1.60</td>\n",
       "    </tr>\n",
       "    <tr>\n",
       "      <th>25%</th>\n",
       "      <td>8.270233e+06</td>\n",
       "      <td>1.000000e+07</td>\n",
       "      <td>5.90</td>\n",
       "    </tr>\n",
       "    <tr>\n",
       "      <th>50%</th>\n",
       "      <td>3.009311e+07</td>\n",
       "      <td>2.500000e+07</td>\n",
       "      <td>6.60</td>\n",
       "    </tr>\n",
       "    <tr>\n",
       "      <th>75%</th>\n",
       "      <td>6.688194e+07</td>\n",
       "      <td>5.000000e+07</td>\n",
       "      <td>7.20</td>\n",
       "    </tr>\n",
       "    <tr>\n",
       "      <th>max</th>\n",
       "      <td>7.605058e+08</td>\n",
       "      <td>1.221550e+10</td>\n",
       "      <td>9.30</td>\n",
       "    </tr>\n",
       "  </tbody>\n",
       "</table>\n",
       "</div>"
      ],
      "text/plain": [
       "              gross        budget  imdb_score\n",
       "count  3.756000e+03  3.756000e+03     3756.00\n",
       "mean   5.261282e+07  4.623685e+07        6.47\n",
       "std    7.031787e+07  2.260103e+08        1.06\n",
       "min    1.620000e+02  2.180000e+02        1.60\n",
       "25%    8.270233e+06  1.000000e+07        5.90\n",
       "50%    3.009311e+07  2.500000e+07        6.60\n",
       "75%    6.688194e+07  5.000000e+07        7.20\n",
       "max    7.605058e+08  1.221550e+10        9.30"
      ]
     },
     "execution_count": 3,
     "metadata": {},
     "output_type": "execute_result"
    }
   ],
   "source": [
    "data['numerical'][['gross','budget','imdb_score']].describe().round(decimals=2)"
   ]
  },
  {
   "cell_type": "markdown",
   "metadata": {},
   "source": [
    "## Columns containing catagorical data"
   ]
  },
  {
   "cell_type": "markdown",
   "metadata": {},
   "source": [
    "In pandas dataframes, catagorical data is represented as 'object' data."
   ]
  },
  {
   "cell_type": "code",
   "execution_count": 4,
   "metadata": {
    "collapsed": false
   },
   "outputs": [
    {
     "data": {
      "text/plain": [
       "float64    13\n",
       "object     12\n",
       "int64       3\n",
       "dtype: int64"
      ]
     },
     "execution_count": 4,
     "metadata": {},
     "output_type": "execute_result"
    }
   ],
   "source": [
    "data['raw'].dtypes.value_counts()"
   ]
  },
  {
   "cell_type": "markdown",
   "metadata": {},
   "source": [
    "## Outlier detection"
   ]
  },
  {
   "cell_type": "markdown",
   "metadata": {},
   "source": [
    "For numerical data we wish to see if there are outliers. According to the \"Central limit theorem\" we should expect most distributions to tend towards a normal distribution."
   ]
  },
  {
   "cell_type": "code",
   "execution_count": 5,
   "metadata": {
    "collapsed": false
   },
   "outputs": [
    {
     "data": {
      "image/png": "[encoded data removed]",
      "text/plain": [
       "<matplotlib.figure.Figure at 0x29a6ec7d198>"
      ]
     },
     "metadata": {},
     "output_type": "display_data"
    }
   ],
   "source": [
    "data['no_na'].hist(figsize=(12,12));"
   ]
  },
  {
   "cell_type": "markdown",
   "metadata": {},
   "source": [
    "From our histograms we can see that most of dataset catagories contain outliers. For instance budget seems to have an unlikely high outlier, indicated by the x-axis scaling."
   ]
  },
  {
   "cell_type": "code",
   "execution_count": 6,
   "metadata": {
    "collapsed": false
   },
   "outputs": [
    {
     "data": {
      "text/plain": [
       "movie_title      The Host \n",
       "budget         1.22155e+10\n",
       "Name: 2988, dtype: object"
      ]
     },
     "execution_count": 6,
     "metadata": {},
     "output_type": "execute_result"
    }
   ],
   "source": [
    "data['raw'].loc[data['raw']['budget'].idxmax()][['movie_title','budget']]"
   ]
  },
  {
   "cell_type": "markdown",
   "metadata": {},
   "source": [
    "The highest movie budget is from a movie called \"The Host\". A further investigation on IMDB.com shows this is because the budget currency is described in KRW (Korean Won)."
   ]
  },
  {
   "cell_type": "markdown",
   "metadata": {},
   "source": [
    "## Machine learning tasks"
   ]
  },
  {
   "cell_type": "markdown",
   "metadata": {},
   "source": [
    "By grouping the dataset features, we can select the correct machine learning strategy based on the table below."
   ]
  },
  {
   "cell_type": "markdown",
   "metadata": {},
   "source": [
    "<table>\n",
    "  <tr>\n",
    "    <th></th>\n",
    "    <th>Supervised</th>\n",
    "    <th>Unsupervised</th>\n",
    "  </tr>\n",
    "  <tr>\n",
    "    <td>Continuous</td>\n",
    "    <td>Regression</td>\n",
    "    <td>Clustering</td>\n",
    "  </tr>\n",
    "  <tr>\n",
    "    <td>Discrete</td>\n",
    "    <td>Classification</td>\n",
    "    <td>Association mining</td>\n",
    "  </tr>\n",
    "  <tr>\n",
    "    <td></td>\n",
    "    <td></td>\n",
    "    <td>Anomaly detection</td>\n",
    "  </tr>\n",
    "</table>"
   ]
  },
  {
   "cell_type": "markdown",
   "metadata": {},
   "source": [
    "<h2> Predictive tasks (supervised learning) </h2>"
   ]
  },
  {
   "cell_type": "markdown",
   "metadata": {},
   "source": [
    "In machine learning there are two predictive tasks: regression and classification. "
   ]
  },
  {
   "cell_type": "markdown",
   "metadata": {},
   "source": [
    "### Regression"
   ]
  },
  {
   "cell_type": "markdown",
   "metadata": {},
   "source": [
    "The other predictive task, regression, is performed on the different attributes. But before using regression on all of the attributes, one can look at a created \"Pearson correlation matrix\". To get an idea of which attributes correlate. And then do the regression on these.\n",
    "It could for example be possible to predict the 'gross' as a function of 'budget' and 'cast_total_facebook_likes'."
   ]
  },
  {
   "cell_type": "markdown",
   "metadata": {},
   "source": [
    "### Classification"
   ]
  },
  {
   "cell_type": "markdown",
   "metadata": {},
   "source": [
    "As the primary machine learning aim for the dataset is to predict the most succesful movie, a classification problem could be given to find out what the best movies have in common, for example the 'imdb_score' is sorted in to five groups as seen in the table below:"
   ]
  },
  {
   "cell_type": "markdown",
   "metadata": {},
   "source": [
    "<table style=\"undefined;table-layout: fixed; width: 162px\">\n",
    "<colgroup>\n",
    "<col style=\"width: 89.007161px\">\n",
    "<col style=\"width: 73.007161px\">\n",
    "</colgroup>\n",
    "  <tr>\n",
    "    <th>imdb_score</th>\n",
    "    <th>Movie quality</th>\n",
    "  </tr>\n",
    "  <tr>\n",
    "    <td>[0-2]</td>\n",
    "    <td>Horrible</td>\n",
    "  </tr>\n",
    "  <tr>\n",
    "    <td>[2-4]</td>\n",
    "    <td>Bad</td>\n",
    "  </tr>\n",
    "  <tr>\n",
    "    <td>[4-6]</td>\n",
    "    <td>Mediocre</td>\n",
    "  </tr>\n",
    "  <tr>\n",
    "    <td>[6-8]</td>\n",
    "    <td>Good</td>\n",
    "  </tr>\n",
    "  <tr>\n",
    "    <td>[8-10]</td>\n",
    "    <td>Excellent</td>\n",
    "  </tr>\n",
    "</table>"
   ]
  },
  {
   "cell_type": "markdown",
   "metadata": {},
   "source": [
    "With Movie quality as a class label it could be possible to see what the different qualities have in common. And from that be able to assign a previously unseen project with the correct label. "
   ]
  },
  {
   "cell_type": "markdown",
   "metadata": {},
   "source": [
    "<h2> Descriptive tasks (unsupervised learning) </h2>"
   ]
  },
  {
   "cell_type": "markdown",
   "metadata": {},
   "source": [
    "The other kind of tasks used in machine learning is the descriptive tasks, which differs from the predictive tasks since they are unsupervised.  "
   ]
  },
  {
   "cell_type": "markdown",
   "metadata": {},
   "source": [
    "### Clustering"
   ]
  },
  {
   "cell_type": "markdown",
   "metadata": {},
   "source": [
    "The first descriptive task is clustering, where the goal is to group the given data objects into clusters where the objects within each cluster are similar. A number of features are associated with the objects, and from that the similarity between the objects is defined."
   ]
  },
  {
   "cell_type": "markdown",
   "metadata": {},
   "source": [
    "After calculating Principle Components we can cluster with K-means. With n-cluster we can investigate relevant group attribute distributions, such as 'gross' or 'imdb_score'."
   ]
  },
  {
   "cell_type": "markdown",
   "metadata": {},
   "source": [
    "### Association rule mining"
   ]
  },
  {
   "cell_type": "markdown",
   "metadata": {},
   "source": [
    "Another desriptive task is association rule mining, where the goal is to produce dependency rules from seemingly unrelated data. \n",
    "An association rule has an antecedent (if) and from that a consequent (then). An antecedent is found from the data and the consequent is then calculated from a combination of the antecedent. \n",
    "\n",
    "An association rule from this dataset could be with items from 'genres':\n",
    "<p>{sci-fi,thriller} &rarr; {action}</p>\n",
    "\n",
    "\n",
    "\n",
    "\n",
    "\n",
    " "
   ]
  },
  {
   "cell_type": "markdown",
   "metadata": {},
   "source": [
    "### Anomaly detection"
   ]
  },
  {
   "cell_type": "markdown",
   "metadata": {},
   "source": [
    "The last descriptive task, is anomaly detection which for example can be used to find outliers.\n",
    "For instance a movie with a very high gross, such as Avatar, could deviate from other movies since the gross is extremely high compared to a mean gross. "
   ]
  },
  {
   "cell_type": "markdown",
   "metadata": {},
   "source": [
    "## Preprocessing (Christian)"
   ]
  },
  {
   "cell_type": "markdown",
   "metadata": {},
   "source": [
    "### Principle Component Analysis"
   ]
  },
  {
   "cell_type": "markdown",
   "metadata": {},
   "source": [
    "In our Principe Component Analysis we wish to reduce the number of dimensions in our dataset without losing too much of the data. In this method of analysis it is worth noting, that while we may be able to reduce the number of dimensions these might not be easily, if at all, interpretable. \n",
    "\n",
    "Before doing a Principle Component Analysis we wish to extract only numerical data our dataset as well as find eigenvalues and eigenvectors. From this information we can generate a visualization of the individual and cumulative variance explained by the eigenvectors. This will be important for determining a suitable number of components for our analysis."
   ]
  },
  {
   "cell_type": "code",
   "execution_count": 7,
   "metadata": {
    "collapsed": true
   },
   "outputs": [],
   "source": [
    "data['X_std'] = StandardScaler().fit_transform(data['numerical'].values)\n",
    "data['covariance'] = np.cov(data['X_std'].T)\n",
    "data['eigenvalues'], data['eigenvectors'] = np.linalg.eig(data['covariance'])\n",
    "data['eigenvalues_variance_explained'] = [(i/data['eigenvalues'].sum())*100 for i in sorted(data['eigenvalues'], reverse=True)]"
   ]
  },
  {
   "cell_type": "code",
   "execution_count": 8,
   "metadata": {
    "collapsed": false
   },
   "outputs": [
    {
     "data": {
      "image/png": "[encoded data removed]",
      "text/plain": [
       "<matplotlib.figure.Figure at 0x29a70e822e8>"
      ]
     },
     "metadata": {},
     "output_type": "display_data"
    }
   ],
   "source": [
    "plt.figure(figsize=(10, 5))\n",
    "plt.bar(range(16), data['eigenvalues_variance_explained'], alpha=0.3333, align='center', label='individual explained variance', color = 'g')\n",
    "plt.axhline(y=95, linewidth=1, color='r', linestyle='dashed', label=\"95%\")\n",
    "plt.axhline(y=90, linewidth=1, color='r', linestyle='dashed', label=\"90%\")\n",
    "plt.step(range(16), np.cumsum(data['eigenvalues_variance_explained']), where='mid',label='cumulative explained variance')\n",
    "plt.ylabel('Explained variance ratio')\n",
    "plt.xlabel('Principal components')\n",
    "plt.legend(loc='best')\n",
    "plt.title('Individual and cumulative variance explained')\n",
    "plt.show()"
   ]
  },
  {
   "cell_type": "markdown",
   "metadata": {},
   "source": [
    "From this plot we can see that using 11 components, our model will be able to explain 90% - 95% of the total variance. So this looks promising for our analysis as we will be able to reduce our total dimensions from 16 to 10."
   ]
  },
  {
   "cell_type": "markdown",
   "metadata": {},
   "source": [
    "### Regression"
   ]
  },
  {
   "cell_type": "markdown",
   "metadata": {},
   "source": [
    "For our regression analysis we want to investigate any correlations, we can calculate a correlation matrix and plot this as a heatmap to get an overview. On this plot we hide the diagonal and upper half, and highlight all correlations above 0.5, or below -0.5."
   ]
  },
  {
   "cell_type": "code",
   "execution_count": 11,
   "metadata": {
    "collapsed": false
   },
   "outputs": [
    {
     "data": {
      "image/png": "[encoded data removed]",
      "text/plain": [
       "<matplotlib.figure.Figure at 0x29a70ccbb38>"
      ]
     },
     "metadata": {},
     "output_type": "display_data"
    }
   ],
   "source": [
    "data['numerical_correlation'] = data['numerical'].corr()\n",
    "plt.subplots(figsize=(15, 12))\n",
    "plt.title('Pearson Correlation of Movie Features')\n",
    "\n",
    "# Mask to remove diagonal and upper half\n",
    "mask = np.zeros_like(data['numerical_correlation'], dtype=np.bool)\n",
    "mask[np.triu_indices_from(mask)] = True\n",
    "ax = sns.heatmap(data['numerical_correlation'],vmax=1,square=True,annot=True,mask=mask);\n",
    "\n",
    "\n",
    "for cell in ax.texts:\n",
    "    if (abs(float(cell.get_text())) > 0.5):\n",
    "        ax.add_patch(Rectangle((int(cell.get_position()[0]-0.5), int(cell.get_position()[1]-0.5)), 1, 1, fill=False, edgecolor='blue', lw=2))\n",
    "\n",
    "plt.show()"
   ]
  },
  {
   "cell_type": "markdown",
   "metadata": {},
   "source": [
    "From our correlation matrix, we can see some interesting correlations: 'imdb_score' and 'budget' do not seem to correlate with anything. On the other hand there is good correlation between 'gross', 'num_voted_users' and 'num_user_for_reviews'. In order to validate our data, we check how many entries have a \"reasonable\" value: num_voted_users should be above 10000 users, num_critic_for_reviews should be more than 50 reviews, and gross should be above 5000000 USD. We can visualize this with a bar chart, by plotting the reasonable values next to the total values."
   ]
  },
  {
   "cell_type": "code",
   "execution_count": 12,
   "metadata": {
    "collapsed": false,
    "scrolled": false
   },
   "outputs": [
    {
     "data": {
      "image/png": "[encoded data removed]",
      "text/plain": [
       "<matplotlib.figure.Figure at 0x29a71056080>"
      ]
     },
     "metadata": {},
     "output_type": "display_data"
    }
   ],
   "source": [
    "a1 = data['numerical'].loc[data['numerical']['num_voted_users'] > 10_000].shape[0]\n",
    "a2 = data['numerical']['num_voted_users'].shape[0]\n",
    "b1 = data['numerical'].loc[data['numerical']['num_critic_for_reviews'] > 50].shape[0]\n",
    "b2 = data['numerical']['num_critic_for_reviews'].shape[0]\n",
    "c1 = data['numerical'].loc[data['numerical']['gross'] > 5_000_000].shape[0]\n",
    "c2 = data['numerical']['gross'].shape[0]\n",
    "data['validation'] = pd.DataFrame([[a1, a2], [b1, b2], [c1, c2]])\n",
    "data['validation'].columns = [\"Individual\", \"Total\"]\n",
    "ax = data['validation'].plot(kind='bar', legend=False, figsize=(10, 3));"
   ]
  },
  {
   "cell_type": "markdown",
   "metadata": {},
   "source": [
    "From the bar chart we can see that the reasonable values constitute the majority of the total datapoint. This is promising for our regression analysis."
   ]
  },
  {
   "cell_type": "markdown",
   "metadata": {},
   "source": [
    "## 4. Model"
   ]
  },
  {
   "cell_type": "markdown",
   "metadata": {},
   "source": [
    "### Principle Component Analysis"
   ]
  },
  {
   "cell_type": "markdown",
   "metadata": {},
   "source": [
    "The goal for our PCA is to create a reduced set of new dimensions."
   ]
  },
  {
   "cell_type": "code",
   "execution_count": 14,
   "metadata": {
    "collapsed": false,
    "scrolled": true
   },
   "outputs": [
    {
     "data": {
      "text/html": [
       "<div>\n",
       "<table border=\"1\" class=\"dataframe\">\n",
       "  <thead>\n",
       "    <tr style=\"text-align: right;\">\n",
       "      <th></th>\n",
       "      <th>0</th>\n",
       "      <th>1</th>\n",
       "      <th>2</th>\n",
       "      <th>3</th>\n",
       "      <th>4</th>\n",
       "      <th>5</th>\n",
       "      <th>6</th>\n",
       "      <th>7</th>\n",
       "      <th>8</th>\n",
       "      <th>9</th>\n",
       "      <th>10</th>\n",
       "      <th>11</th>\n",
       "      <th>12</th>\n",
       "      <th>13</th>\n",
       "      <th>14</th>\n",
       "      <th>15</th>\n",
       "    </tr>\n",
       "  </thead>\n",
       "  <tbody>\n",
       "    <tr>\n",
       "      <th>0</th>\n",
       "      <td>0.362440</td>\n",
       "      <td>0.207521</td>\n",
       "      <td>0.157732</td>\n",
       "      <td>0.251712</td>\n",
       "      <td>0.221450</td>\n",
       "      <td>0.317211</td>\n",
       "      <td>0.385512</td>\n",
       "      <td>0.283258</td>\n",
       "      <td>0.004337</td>\n",
       "      <td>0.340108</td>\n",
       "      <td>0.057476</td>\n",
       "      <td>0.104975</td>\n",
       "      <td>0.262336</td>\n",
       "      <td>0.224365</td>\n",
       "      <td>0.091949</td>\n",
       "      <td>0.318098</td>\n",
       "    </tr>\n",
       "    <tr>\n",
       "      <th>1</th>\n",
       "      <td>-0.154194</td>\n",
       "      <td>-0.177734</td>\n",
       "      <td>-0.094453</td>\n",
       "      <td>0.278092</td>\n",
       "      <td>0.463158</td>\n",
       "      <td>-0.134991</td>\n",
       "      <td>-0.239589</td>\n",
       "      <td>0.505795</td>\n",
       "      <td>0.161038</td>\n",
       "      <td>-0.256853</td>\n",
       "      <td>-0.037041</td>\n",
       "      <td>0.117232</td>\n",
       "      <td>0.365821</td>\n",
       "      <td>-0.238896</td>\n",
       "      <td>-0.006977</td>\n",
       "      <td>-0.120176</td>\n",
       "    </tr>\n",
       "    <tr>\n",
       "      <th>2</th>\n",
       "      <td>-0.330901</td>\n",
       "      <td>0.272510</td>\n",
       "      <td>0.208846</td>\n",
       "      <td>0.007903</td>\n",
       "      <td>0.166501</td>\n",
       "      <td>0.017868</td>\n",
       "      <td>0.094186</td>\n",
       "      <td>0.150565</td>\n",
       "      <td>-0.093013</td>\n",
       "      <td>0.074287</td>\n",
       "      <td>-0.067276</td>\n",
       "      <td>-0.666636</td>\n",
       "      <td>0.063824</td>\n",
       "      <td>0.273229</td>\n",
       "      <td>-0.282531</td>\n",
       "      <td>-0.302210</td>\n",
       "    </tr>\n",
       "    <tr>\n",
       "      <th>3</th>\n",
       "      <td>-0.059230</td>\n",
       "      <td>0.474262</td>\n",
       "      <td>0.127842</td>\n",
       "      <td>-0.136565</td>\n",
       "      <td>0.076515</td>\n",
       "      <td>-0.246248</td>\n",
       "      <td>-0.101489</td>\n",
       "      <td>0.021862</td>\n",
       "      <td>0.350118</td>\n",
       "      <td>-0.108786</td>\n",
       "      <td>-0.067809</td>\n",
       "      <td>0.019088</td>\n",
       "      <td>-0.067790</td>\n",
       "      <td>0.191753</td>\n",
       "      <td>0.688959</td>\n",
       "      <td>-0.062417</td>\n",
       "    </tr>\n",
       "    <tr>\n",
       "      <th>4</th>\n",
       "      <td>0.044003</td>\n",
       "      <td>-0.060543</td>\n",
       "      <td>0.118181</td>\n",
       "      <td>-0.293047</td>\n",
       "      <td>0.291789</td>\n",
       "      <td>-0.116007</td>\n",
       "      <td>-0.065505</td>\n",
       "      <td>0.165750</td>\n",
       "      <td>-0.754693</td>\n",
       "      <td>-0.018235</td>\n",
       "      <td>0.318077</td>\n",
       "      <td>0.094422</td>\n",
       "      <td>-0.105750</td>\n",
       "      <td>0.053235</td>\n",
       "      <td>0.253928</td>\n",
       "      <td>-0.075595</td>\n",
       "    </tr>\n",
       "    <tr>\n",
       "      <th>5</th>\n",
       "      <td>-0.083645</td>\n",
       "      <td>0.156811</td>\n",
       "      <td>-0.158278</td>\n",
       "      <td>0.136836</td>\n",
       "      <td>-0.113997</td>\n",
       "      <td>0.127486</td>\n",
       "      <td>-0.037790</td>\n",
       "      <td>-0.053712</td>\n",
       "      <td>0.200152</td>\n",
       "      <td>0.005387</td>\n",
       "      <td>0.902110</td>\n",
       "      <td>-0.089398</td>\n",
       "      <td>0.066855</td>\n",
       "      <td>-0.102459</td>\n",
       "      <td>0.010454</td>\n",
       "      <td>-0.118805</td>\n",
       "    </tr>\n",
       "    <tr>\n",
       "      <th>6</th>\n",
       "      <td>0.045743</td>\n",
       "      <td>0.090730</td>\n",
       "      <td>-0.849084</td>\n",
       "      <td>-0.285988</td>\n",
       "      <td>0.254021</td>\n",
       "      <td>0.118125</td>\n",
       "      <td>0.067250</td>\n",
       "      <td>0.124596</td>\n",
       "      <td>0.060044</td>\n",
       "      <td>0.124546</td>\n",
       "      <td>-0.082931</td>\n",
       "      <td>-0.063899</td>\n",
       "      <td>-0.168814</td>\n",
       "      <td>0.169853</td>\n",
       "      <td>-0.020948</td>\n",
       "      <td>-0.023506</td>\n",
       "    </tr>\n",
       "    <tr>\n",
       "      <th>7</th>\n",
       "      <td>-0.164878</td>\n",
       "      <td>0.059441</td>\n",
       "      <td>-0.228887</td>\n",
       "      <td>0.323530</td>\n",
       "      <td>-0.238600</td>\n",
       "      <td>0.309118</td>\n",
       "      <td>0.025208</td>\n",
       "      <td>-0.089696</td>\n",
       "      <td>-0.327885</td>\n",
       "      <td>0.180042</td>\n",
       "      <td>-0.228174</td>\n",
       "      <td>-0.143744</td>\n",
       "      <td>0.208344</td>\n",
       "      <td>-0.341127</td>\n",
       "      <td>0.464330</td>\n",
       "      <td>-0.251057</td>\n",
       "    </tr>\n",
       "    <tr>\n",
       "      <th>8</th>\n",
       "      <td>-0.079685</td>\n",
       "      <td>-0.251746</td>\n",
       "      <td>0.277613</td>\n",
       "      <td>-0.333661</td>\n",
       "      <td>0.255540</td>\n",
       "      <td>0.304377</td>\n",
       "      <td>0.204105</td>\n",
       "      <td>0.091269</td>\n",
       "      <td>0.313624</td>\n",
       "      <td>0.307235</td>\n",
       "      <td>0.008518</td>\n",
       "      <td>-0.005196</td>\n",
       "      <td>-0.305867</td>\n",
       "      <td>-0.418076</td>\n",
       "      <td>0.110463</td>\n",
       "      <td>-0.246055</td>\n",
       "    </tr>\n",
       "    <tr>\n",
       "      <th>9</th>\n",
       "      <td>-0.027314</td>\n",
       "      <td>-0.708250</td>\n",
       "      <td>-0.033664</td>\n",
       "      <td>0.077386</td>\n",
       "      <td>-0.074923</td>\n",
       "      <td>-0.024578</td>\n",
       "      <td>0.163241</td>\n",
       "      <td>-0.030165</td>\n",
       "      <td>0.131196</td>\n",
       "      <td>-0.031451</td>\n",
       "      <td>0.086225</td>\n",
       "      <td>-0.189596</td>\n",
       "      <td>0.105270</td>\n",
       "      <td>0.511973</td>\n",
       "      <td>0.331270</td>\n",
       "      <td>-0.110538</td>\n",
       "    </tr>\n",
       "    <tr>\n",
       "      <th>10</th>\n",
       "      <td>0.015916</td>\n",
       "      <td>-0.090187</td>\n",
       "      <td>-0.004491</td>\n",
       "      <td>0.066496</td>\n",
       "      <td>0.109314</td>\n",
       "      <td>0.152063</td>\n",
       "      <td>-0.068520</td>\n",
       "      <td>0.042194</td>\n",
       "      <td>-0.016685</td>\n",
       "      <td>-0.316303</td>\n",
       "      <td>0.025204</td>\n",
       "      <td>-0.535170</td>\n",
       "      <td>-0.253202</td>\n",
       "      <td>-0.231777</td>\n",
       "      <td>0.181511</td>\n",
       "      <td>0.638340</td>\n",
       "    </tr>\n",
       "  </tbody>\n",
       "</table>\n",
       "</div>"
      ],
      "text/plain": [
       "          0         1         2         3         4         5         6   \\\n",
       "0   0.362440  0.207521  0.157732  0.251712  0.221450  0.317211  0.385512   \n",
       "1  -0.154194 -0.177734 -0.094453  0.278092  0.463158 -0.134991 -0.239589   \n",
       "2  -0.330901  0.272510  0.208846  0.007903  0.166501  0.017868  0.094186   \n",
       "3  -0.059230  0.474262  0.127842 -0.136565  0.076515 -0.246248 -0.101489   \n",
       "4   0.044003 -0.060543  0.118181 -0.293047  0.291789 -0.116007 -0.065505   \n",
       "5  -0.083645  0.156811 -0.158278  0.136836 -0.113997  0.127486 -0.037790   \n",
       "6   0.045743  0.090730 -0.849084 -0.285988  0.254021  0.118125  0.067250   \n",
       "7  -0.164878  0.059441 -0.228887  0.323530 -0.238600  0.309118  0.025208   \n",
       "8  -0.079685 -0.251746  0.277613 -0.333661  0.255540  0.304377  0.204105   \n",
       "9  -0.027314 -0.708250 -0.033664  0.077386 -0.074923 -0.024578  0.163241   \n",
       "10  0.015916 -0.090187 -0.004491  0.066496  0.109314  0.152063 -0.068520   \n",
       "\n",
       "          7         8         9         10        11        12        13  \\\n",
       "0   0.283258  0.004337  0.340108  0.057476  0.104975  0.262336  0.224365   \n",
       "1   0.505795  0.161038 -0.256853 -0.037041  0.117232  0.365821 -0.238896   \n",
       "2   0.150565 -0.093013  0.074287 -0.067276 -0.666636  0.063824  0.273229   \n",
       "3   0.021862  0.350118 -0.108786 -0.067809  0.019088 -0.067790  0.191753   \n",
       "4   0.165750 -0.754693 -0.018235  0.318077  0.094422 -0.105750  0.053235   \n",
       "5  -0.053712  0.200152  0.005387  0.902110 -0.089398  0.066855 -0.102459   \n",
       "6   0.124596  0.060044  0.124546 -0.082931 -0.063899 -0.168814  0.169853   \n",
       "7  -0.089696 -0.327885  0.180042 -0.228174 -0.143744  0.208344 -0.341127   \n",
       "8   0.091269  0.313624  0.307235  0.008518 -0.005196 -0.305867 -0.418076   \n",
       "9  -0.030165  0.131196 -0.031451  0.086225 -0.189596  0.105270  0.511973   \n",
       "10  0.042194 -0.016685 -0.316303  0.025204 -0.535170 -0.253202 -0.231777   \n",
       "\n",
       "          14        15  \n",
       "0   0.091949  0.318098  \n",
       "1  -0.006977 -0.120176  \n",
       "2  -0.282531 -0.302210  \n",
       "3   0.688959 -0.062417  \n",
       "4   0.253928 -0.075595  \n",
       "5   0.010454 -0.118805  \n",
       "6  -0.020948 -0.023506  \n",
       "7   0.464330 -0.251057  \n",
       "8   0.110463 -0.246055  \n",
       "9   0.331270 -0.110538  \n",
       "10  0.181511  0.638340  "
      ]
     },
     "execution_count": 14,
     "metadata": {},
     "output_type": "execute_result"
    }
   ],
   "source": [
    "pca = PCA(n_components=11)\n",
    "data['PCA11'] = pca.fit_transform(data['X_std'])\n",
    "pd.DataFrame(pca.components_)"
   ]
  },
  {
   "cell_type": "markdown",
   "metadata": {},
   "source": [
    "The above table outlines our new dimensions in terms of their attributes similarity, for instance component 0 correlates more closely to attributes 0 than attributes 1."
   ]
  }
 ],
 "metadata": {
  "kernelspec": {
   "display_name": "Python 3",
   "language": "python",
   "name": "python3"
  },
  "language_info": {
   "codemirror_mode": {
    "name": "ipython",
    "version": 3
   },
   "file_extension": ".py",
   "mimetype": "text/x-python",
   "name": "python",
   "nbconvert_exporter": "python",
   "pygments_lexer": "ipython3",
   "version": "3.6.0"
  }
 },
 "nbformat": 4,
 "nbformat_minor": 2
}
