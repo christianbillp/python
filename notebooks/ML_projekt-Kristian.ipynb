{
 "cells": [
  {
   "cell_type": "code",
   "execution_count": 1,
   "metadata": {},
   "outputs": [
    {
     "data": {
      "text/html": [
       "<script>\n",
       "code_show=true; \n",
       "function code_toggle() {\n",
       " if (code_show){\n",
       " $('div.input').hide();\n",
       " } else {\n",
       " $('div.input').show();\n",
       " }\n",
       " code_show = !code_show\n",
       "} \n",
       "$( document ).ready(code_toggle);\n",
       "</script>\n",
       "<form action=\"javascript:code_toggle()\"><input type=\"submit\" value=\"Click here to toggle on/off the raw code.\"></form>"
      ],
      "text/plain": [
       "<IPython.core.display.HTML object>"
      ]
     },
     "execution_count": 1,
     "metadata": {},
     "output_type": "execute_result"
    }
   ],
   "source": [
    "from IPython.display import HTML\n",
    "\n",
    "HTML('''<script>\n",
    "code_show=true; \n",
    "function code_toggle() {\n",
    " if (code_show){\n",
    " $('div.input').hide();\n",
    " } else {\n",
    " $('div.input').show();\n",
    " }\n",
    " code_show = !code_show\n",
    "} \n",
    "$( document ).ready(code_toggle);\n",
    "</script>\n",
    "<form action=\"javascript:code_toggle()\"><input type=\"submit\" value=\"Click here to toggle on/off the raw code.\"></form>''')"
   ]
  },
  {
   "cell_type": "code",
   "execution_count": 2,
   "metadata": {
    "collapsed": true
   },
   "outputs": [],
   "source": [
    "import os\n",
    "\n",
    "def git_get():\n",
    "    '''Get latest version from github'''\n",
    "    os.system(\"git remote update\")\n",
    "    os.system(\"git pull\")\n",
    "    \n",
    "def git_put(message):\n",
    "    '''Adds/commits this notebook'''\n",
    "    os.system(\"git add ML_projekt1.ipynb\")\n",
    "    os.system('git commit -m \"{}\"'.format(message))\n",
    "    os.system(\"git push\")"
   ]
  },
  {
   "cell_type": "code",
   "execution_count": 2,
   "metadata": {
    "collapsed": true
   },
   "outputs": [],
   "source": [
    "%matplotlib inline \n",
    "import pandas as pd\n",
    "import seaborn as sns\n",
    "import numpy as np\n",
    "import matplotlib.pyplot as plt\n",
    "from matplotlib.patches import Rectangle\n",
    "from sklearn.decomposition import PCA\n",
    "from sklearn.preprocessing import StandardScaler\n",
    "from sklearn.cluster import KMeans"
   ]
  },
  {
   "cell_type": "markdown",
   "metadata": {},
   "source": [
    "# IMDB Movie Analysis (fælles)"
   ]
  },
  {
   "cell_type": "markdown",
   "metadata": {},
   "source": [
    "Kristian Rygaard Svendsen (s153856)<br>\n",
    "Christian Bill Pedersen (s154241)"
   ]
  },
  {
   "cell_type": "markdown",
   "metadata": {},
   "source": [
    "## Analysis goals"
   ]
  },
  {
   "cell_type": "markdown",
   "metadata": {},
   "source": [
    "In this analysis we will explore the world of movies through a 5000+ entries dataset from IMDB.com. The ultimate goal for this dataanalysis is to determine which features make a movie \"successful\". The definition of \"successful\" is of course a bit vague, but during this dataanalysis we will define success as high popularity and/or gross revenue. We will also be exploring grouping of movies through a variety of machine learning methods."
   ]
  },
  {
   "cell_type": "markdown",
   "metadata": {},
   "source": [
    "## Initial assumptions"
   ]
  },
  {
   "cell_type": "markdown",
   "metadata": {},
   "source": [
    "Our initial assumption is that more popular movies in general generate a bigger revenue, since we assume popularity is highly correlated with the total number of consumers for that specific movie."
   ]
  },
  {
   "cell_type": "markdown",
   "metadata": {},
   "source": [
    "## Method of analysis"
   ]
  },
  {
   "cell_type": "markdown",
   "metadata": {},
   "source": [
    "This analysis uses the OSEMN model, which is an acronym for: Obtain, Scrub, Explore, Model, and iNterpret.\n",
    "\n",
    "https://machinelearningmastery.com/how-to-work-through-a-problem-like-a-data-scientist/"
   ]
  },
  {
   "cell_type": "markdown",
   "metadata": {},
   "source": [
    "# 1. Obtain Data"
   ]
  },
  {
   "cell_type": "markdown",
   "metadata": {},
   "source": [
    "## Dataset source and description"
   ]
  },
  {
   "cell_type": "markdown",
   "metadata": {},
   "source": [
    "The IMDB Movie dataset from Kaggle.com, contains information from 5000 movies, obtained by webscraping IMDB.com. Note that at the time of writing, the dataset was recently removed from Kaggle and replaced with a new dataset which is not compatible with this notebook. Kaggle hosts a multitude of \"kernels\" (runable data science papers) using this dataset, with titles such as: \"film recommendation engine\", \"Movie Recommendations\" and \"Categorizing actors\".\n",
    "\n",
    "https://www.kaggle.com/tmdb/tmdb-movie-metadata/data"
   ]
  },
  {
   "cell_type": "markdown",
   "metadata": {},
   "source": [
    "# 2. Scrub Data"
   ]
  },
  {
   "cell_type": "markdown",
   "metadata": {},
   "source": [
    "## Data preparation, cleaning and structure"
   ]
  },
  {
   "cell_type": "markdown",
   "metadata": {},
   "source": [
    "Throughout this analysis we will handle the dataset in a dictionary named \"data\". It is the hope of the authors that this structure will make code-snippets more readable and remove the need for redundant comment/explanations (this paragraph excluded). In addition to the raw data, we will prepare two other versions of our dataset: 'No_na' - where entries containing N/A data have been removed and 'numerical' which contain only numerical data columns. We justify this by assuming representation similarity in columns such as 'director_name' and 'director_facebook_likes'. This is due to the fact that \"being James Cameron\" doesn't mean anything, but having a \"relavant attribute\" such as popularity is expected to have a higher impact."
   ]
  },
  {
   "cell_type": "code",
   "execution_count": 11,
   "metadata": {},
   "outputs": [
    {
     "name": "stdout",
     "output_type": "stream",
     "text": [
      "Number of removed rows in 'no_na' dataset: 1287 out of 5043\n"
     ]
    }
   ],
   "source": [
    "data = {}\n",
    "data['raw'] = pd.read_csv(\"movie_metadata.csv\")\n",
    "data['no_na'] = data['raw'].dropna();\n",
    "data['n_removed_na'] = data['raw'].shape[0] - data['no_na'].shape[0]\n",
    "data['numerical'] = data['no_na'].select_dtypes(exclude=['object']) #.fillna(value=0, axis=1)\n",
    "print(f\"Number of removed rows in 'no_na' dataset: {data['n_removed_na']} out of {data['raw'].shape[0]}\")"
   ]
  },
  {
   "cell_type": "markdown",
   "metadata": {},
   "source": [
    "## Post-cleaning data validation"
   ]
  },
  {
   "cell_type": "markdown",
   "metadata": {},
   "source": [
    "As indicated above, many rows containing N/A-data was removed from the dataset. It is acknowledged by the authors that may reduce the prediction generalizability, but at the time of writing this decision seems justifiable in comparisson to potentially mishandling N/A's."
   ]
  },
  {
   "cell_type": "markdown",
   "metadata": {},
   "source": [
    "# 3. Explore Data (Kristian)"
   ]
  },
  {
   "cell_type": "markdown",
   "metadata": {},
   "source": [
    "## Attribute overview"
   ]
  },
  {
   "cell_type": "markdown",
   "metadata": {},
   "source": [
    "In the following table all the 28 different attributes are explained and it's shown whether they are discrete or continous together with their level of measurement.  \n",
    "\n",
    "\n",
    "<table valign=\"left\">\n",
    "  <tr>\n",
    "    <th>Attribute</th>\n",
    "    <th>Explanation</th>\n",
    "    <th>Discrete/continous</th>\n",
    "    <th>Nominal/Ordinal/Interval/Ratio</th>\n",
    "  </tr>\n",
    "  <tr>\n",
    "    <td>color</td>\n",
    "    <td>Is the movie in color or black and white</td>\n",
    "    <td>Discrete</td>\n",
    "    <td>Nominal</td>\n",
    "  </tr>\n",
    "  <tr>\n",
    "    <td>director_name</td>\n",
    "    <td>Name of the director</td>\n",
    "    <td>Discrete</td>\n",
    "    <td>Nominal</td>\n",
    "  </tr>\n",
    "  <tr>\n",
    "    <td>num_critic_for_reviews</td>\n",
    "    <td>Number of critics reviews</td>\n",
    "    <td>Discrete</td>\n",
    "    <td>Ratio</td>\n",
    "  </tr>\n",
    "  <tr>\n",
    "    <td>duration</td>\n",
    "    <td>Duration of the movie</td>\n",
    "    <td>Continous</td>\n",
    "    <td>Ratio</td>\n",
    "  </tr>\n",
    "  <tr>\n",
    "    <td>director_facebook_likes</td>\n",
    "    <td>The directors amount of facebook likes</td>\n",
    "    <td>Discrete</td>\n",
    "    <td>Ratio</td>\n",
    "  </tr>\n",
    "  <tr>\n",
    "    <td>actor_3_facebook_likes</td>\n",
    "    <td>Third actor likes on Facebook</td>\n",
    "    <td>Discrete</td>\n",
    "    <td>Ratio</td>\n",
    "  </tr>\n",
    "  <tr>\n",
    "    <td>actor_2_name</td>\n",
    "    <td>Second actor's name</td>\n",
    "    <td>Discrete</td>\n",
    "    <td>Nominal</td>\n",
    "  </tr>\n",
    "  <tr>\n",
    "    <td>actor_1_facebook_likes</td>\n",
    "    <td>First actor likes on Facebook</td>\n",
    "    <td>Discrete</td>\n",
    "    <td>Ratio</td>\n",
    "  </tr>\n",
    "  <tr>\n",
    "    <td>gross</td>\n",
    "    <td>Gross income of the movie</td>\n",
    "    <td>Continous</td>\n",
    "    <td>Ratio</td>\n",
    "  </tr>\n",
    "  <tr>\n",
    "    <td>genres</td>\n",
    "    <td>The movies genre </td>\n",
    "    <td>Discrete</td>\n",
    "    <td>Nominal</td>\n",
    "  </tr>\n",
    "  <tr>\n",
    "    <td>actor_1_name</td>\n",
    "    <td>First actor's name</td>\n",
    "    <td>Discrete</td>\n",
    "    <td>Nominal</td>\n",
    "  </tr>\n",
    "  <tr>\n",
    "    <td>movie_title</td>\n",
    "    <td>Title of the movie</td>\n",
    "    <td>Discrete</td>\n",
    "    <td>Nominal</td>\n",
    "  </tr>\n",
    "  <tr>\n",
    "    <td>num_voted_users</td>\n",
    "    <td>Number of votes at IMDB</td>\n",
    "    <td>Discrete</td>\n",
    "    <td>Ratio</td>\n",
    "  </tr>\n",
    "  <tr>\n",
    "    <td>cast_total_facebook_likes</td>\n",
    "    <td>Total Facebook likes for the cast</td>\n",
    "    <td>Discrete</td>\n",
    "    <td>Ratio</td>\n",
    "  </tr>\n",
    "  <tr>\n",
    "    <td>actor_3_name</td>\n",
    "    <td>Third actor's name</td>\n",
    "    <td>Discrete</td>\n",
    "    <td>Nominal</td>\n",
    "  </tr>\n",
    "  <tr>\n",
    "    <td>facenumber_in_poster</td>\n",
    "    <td>Amount of faces in the poster</td>\n",
    "    <td>Discrete</td>\n",
    "    <td>Ratio</td>\n",
    "  </tr>\n",
    "  <tr>\n",
    "    <td>plot_keywords</td>\n",
    "    <td>Keyword related to movie plot</td>\n",
    "    <td>Discrete</td>\n",
    "    <td>Nominal</td>\n",
    "  </tr>\n",
    "  <tr>\n",
    "    <td>movie_imdb_link</td>\n",
    "    <td>The movies imdb link</td>\n",
    "    <td>Discrete</td>\n",
    "    <td>Nominal</td>\n",
    "  </tr>\n",
    "  <tr>\n",
    "    <td>num_user_for_reviews</td>\n",
    "    <td>Number of user reviews</td>\n",
    "    <td>Discrete</td>\n",
    "    <td>Ratio</td>\n",
    "  </tr>\n",
    "  <tr>\n",
    "    <td>language</td>\n",
    "    <td>Spoken language</td>\n",
    "    <td>Discrete</td>\n",
    "    <td>Nominal</td>\n",
    "  </tr>\n",
    "  <tr>\n",
    "    <td>country</td>\n",
    "    <td>Country of origin </td>\n",
    "    <td>Discrete</td>\n",
    "    <td>Nominal </td>\n",
    "  </tr>\n",
    "  <tr>\n",
    "    <td>content_rating</td>\n",
    "    <td>Content rating</td>\n",
    "    <td>Discrete</td>\n",
    "    <td>Nominal</td>\n",
    "  </tr>\n",
    "  <tr>\n",
    "    <td>budget</td>\n",
    "    <td>The budget of the movie</td>\n",
    "    <td>Continous</td>\n",
    "    <td>Ratio</td>\n",
    "  </tr>\n",
    "  <tr>\n",
    "    <td>title_year</td>\n",
    "    <td>Release date</td>\n",
    "    <td>Discrete</td>\n",
    "    <td>Interval</td>\n",
    "  </tr>\n",
    "  <tr>\n",
    "    <td>actor_2_facebook_likes</td>\n",
    "    <td>Second actor likes on Facebook</td>\n",
    "    <td>Discrete</td>\n",
    "    <td>Ratio</td>\n",
    "  </tr>\n",
    "  <tr>\n",
    "    <td>imdb_score</td>\n",
    "    <td>Score on imdb (voted by users)</td>\n",
    "    <td>Discrete</td>\n",
    "    <td>Ratio</td>\n",
    "  </tr>\n",
    "  <tr>\n",
    "    <td>aspect_ratio</td>\n",
    "    <td>Aspect ratio of the movie</td>\n",
    "    <td>Discrete</td>\n",
    "    <td>Nominal </td>\n",
    "  </tr>\n",
    "  <tr>\n",
    "    <td>movie_facebook_likes</td>\n",
    "    <td>Total Facebook likes of the movie</td>\n",
    "    <td>Discrete</td>\n",
    "    <td>Ratio</td>\n",
    "  </tr>\n",
    "</table>"
   ]
  },
  {
   "cell_type": "markdown",
   "metadata": {},
   "source": [
    "## Summary statistics of numerical data"
   ]
  },
  {
   "cell_type": "markdown",
   "metadata": {},
   "source": []
  },
  {
   "cell_type": "markdown",
   "metadata": {},
   "source": [
    "A summary of the statistics are given below, including the mean, standard deviation, and the different quartiles for each attribute. These values will be relevant later, when interpreting results. Example given for 'gross', 'budget' and 'imdb_score'."
   ]
  },
  {
   "cell_type": "code",
   "execution_count": 12,
   "metadata": {},
   "outputs": [
    {
     "data": {
      "text/html": [
       "<div>\n",
       "<style>\n",
       "    .dataframe thead tr:only-child th {\n",
       "        text-align: right;\n",
       "    }\n",
       "\n",
       "    .dataframe thead th {\n",
       "        text-align: left;\n",
       "    }\n",
       "\n",
       "    .dataframe tbody tr th {\n",
       "        vertical-align: top;\n",
       "    }\n",
       "</style>\n",
       "<table border=\"1\" class=\"dataframe\">\n",
       "  <thead>\n",
       "    <tr style=\"text-align: right;\">\n",
       "      <th></th>\n",
       "      <th>gross</th>\n",
       "      <th>budget</th>\n",
       "      <th>imdb_score</th>\n",
       "    </tr>\n",
       "  </thead>\n",
       "  <tbody>\n",
       "    <tr>\n",
       "      <th>count</th>\n",
       "      <td>3.756000e+03</td>\n",
       "      <td>3.756000e+03</td>\n",
       "      <td>3756.00</td>\n",
       "    </tr>\n",
       "    <tr>\n",
       "      <th>mean</th>\n",
       "      <td>5.261282e+07</td>\n",
       "      <td>4.623685e+07</td>\n",
       "      <td>6.47</td>\n",
       "    </tr>\n",
       "    <tr>\n",
       "      <th>std</th>\n",
       "      <td>7.031787e+07</td>\n",
       "      <td>2.260103e+08</td>\n",
       "      <td>1.06</td>\n",
       "    </tr>\n",
       "    <tr>\n",
       "      <th>min</th>\n",
       "      <td>1.620000e+02</td>\n",
       "      <td>2.180000e+02</td>\n",
       "      <td>1.60</td>\n",
       "    </tr>\n",
       "    <tr>\n",
       "      <th>25%</th>\n",
       "      <td>8.270233e+06</td>\n",
       "      <td>1.000000e+07</td>\n",
       "      <td>5.90</td>\n",
       "    </tr>\n",
       "    <tr>\n",
       "      <th>50%</th>\n",
       "      <td>3.009311e+07</td>\n",
       "      <td>2.500000e+07</td>\n",
       "      <td>6.60</td>\n",
       "    </tr>\n",
       "    <tr>\n",
       "      <th>75%</th>\n",
       "      <td>6.688194e+07</td>\n",
       "      <td>5.000000e+07</td>\n",
       "      <td>7.20</td>\n",
       "    </tr>\n",
       "    <tr>\n",
       "      <th>max</th>\n",
       "      <td>7.605058e+08</td>\n",
       "      <td>1.221550e+10</td>\n",
       "      <td>9.30</td>\n",
       "    </tr>\n",
       "  </tbody>\n",
       "</table>\n",
       "</div>"
      ],
      "text/plain": [
       "              gross        budget  imdb_score\n",
       "count  3.756000e+03  3.756000e+03     3756.00\n",
       "mean   5.261282e+07  4.623685e+07        6.47\n",
       "std    7.031787e+07  2.260103e+08        1.06\n",
       "min    1.620000e+02  2.180000e+02        1.60\n",
       "25%    8.270233e+06  1.000000e+07        5.90\n",
       "50%    3.009311e+07  2.500000e+07        6.60\n",
       "75%    6.688194e+07  5.000000e+07        7.20\n",
       "max    7.605058e+08  1.221550e+10        9.30"
      ]
     },
     "execution_count": 12,
     "metadata": {},
     "output_type": "execute_result"
    }
   ],
   "source": [
    "data['numerical'][['gross','budget','imdb_score']].describe().round(decimals=2)"
   ]
  },
  {
   "cell_type": "markdown",
   "metadata": {},
   "source": [
    "## Columns containing catagorical data"
   ]
  },
  {
   "cell_type": "markdown",
   "metadata": {},
   "source": [
    "In pandas dataframes, catagorical data is represented as 'object' data."
   ]
  },
  {
   "cell_type": "code",
   "execution_count": 13,
   "metadata": {},
   "outputs": [
    {
     "data": {
      "text/plain": [
       "float64    13\n",
       "object     12\n",
       "int64       3\n",
       "dtype: int64"
      ]
     },
     "execution_count": 13,
     "metadata": {},
     "output_type": "execute_result"
    }
   ],
   "source": [
    "data['raw'].dtypes.value_counts()"
   ]
  },
  {
   "cell_type": "markdown",
   "metadata": {},
   "source": [
    "## Outlier detection"
   ]
  },
  {
   "cell_type": "markdown",
   "metadata": {},
   "source": [
    "For numerical data we wish to see if there are outliers. According to the \"Central limit theorem\" we should expect most distributions to tend towards a normal distribution."
   ]
  },
  {
   "cell_type": "code",
   "execution_count": 14,
   "metadata": {},
   "outputs": [
    {
     "data": {
      "image/png": "[encoded data removed]",
      "text/plain": [
       "<matplotlib.figure.Figure at 0x7fc08134f160>"
      ]
     },
     "metadata": {},
     "output_type": "display_data"
    }
   ],
   "source": [
    "data['no_na'].hist(figsize=(12,12));"
   ]
  },
  {
   "cell_type": "markdown",
   "metadata": {},
   "source": [
    "From our histograms we can see that most of dataset catagories contain outliers. For instance budget seems to have an unlikely high outlier, indicated by the x-axis scaling."
   ]
  },
  {
   "cell_type": "code",
   "execution_count": 15,
   "metadata": {},
   "outputs": [
    {
     "data": {
      "text/plain": [
       "movie_title      The Host \n",
       "budget         1.22155e+10\n",
       "Name: 2988, dtype: object"
      ]
     },
     "execution_count": 15,
     "metadata": {},
     "output_type": "execute_result"
    }
   ],
   "source": [
    "data['raw'].loc[data['raw']['budget'].idxmax()][['movie_title','budget']]"
   ]
  },
  {
   "cell_type": "markdown",
   "metadata": {},
   "source": [
    "The highest movie budget is from a movie called \"The Host\". A further investigation on IMDB.com shows this is because the budget currency is described in KRW (Korean Won)."
   ]
  },
  {
   "cell_type": "code",
   "execution_count": 18,
   "metadata": {},
   "outputs": [
    {
     "data": {
      "text/plain": [
       "USA                     3807\n",
       "UK                       448\n",
       "France                   154\n",
       "Canada                   126\n",
       "Germany                   97\n",
       "Australia                 55\n",
       "India                     34\n",
       "Spain                     33\n",
       "China                     30\n",
       "Japan                     23\n",
       "Italy                     23\n",
       "Mexico                    17\n",
       "Hong Kong                 17\n",
       "New Zealand               15\n",
       "South Korea               14\n",
       "Ireland                   12\n",
       "Denmark                   11\n",
       "Russia                    11\n",
       "Brazil                     8\n",
       "Norway                     8\n",
       "South Africa               8\n",
       "Sweden                     6\n",
       "Poland                     5\n",
       "Netherlands                5\n",
       "Thailand                   5\n",
       "Iran                       4\n",
       "Belgium                    4\n",
       "Romania                    4\n",
       "Argentina                  4\n",
       "Israel                     4\n",
       "                        ... \n",
       "Hungary                    2\n",
       "Greece                     2\n",
       "Aruba                      1\n",
       "Kenya                      1\n",
       "Nigeria                    1\n",
       "Chile                      1\n",
       "Slovakia                   1\n",
       "Colombia                   1\n",
       "Libya                      1\n",
       "Soviet Union               1\n",
       "United Arab Emirates       1\n",
       "Bulgaria                   1\n",
       "New Line                   1\n",
       "Turkey                     1\n",
       "Finland                    1\n",
       "Philippines                1\n",
       "Slovenia                   1\n",
       "Peru                       1\n",
       "Official site              1\n",
       "Panama                     1\n",
       "Cameroon                   1\n",
       "Afghanistan                1\n",
       "Kyrgyzstan                 1\n",
       "Pakistan                   1\n",
       "Georgia                    1\n",
       "Egypt                      1\n",
       "Dominican Republic         1\n",
       "Bahamas                    1\n",
       "Indonesia                  1\n",
       "Cambodia                   1\n",
       "Name: country, Length: 65, dtype: int64"
      ]
     },
     "execution_count": 18,
     "metadata": {},
     "output_type": "execute_result"
    }
   ],
   "source": [
    "data['raw']['country'].value_counts()"
   ]
  },
  {
   "cell_type": "markdown",
   "metadata": {},
   "source": [
    "Since alot of countries isn't that representive, all countries except USA is removed from the dataset to ensure budget and gross is in USD. This will make the dataset alot more precise and better to predict on."
   ]
  },
  {
   "cell_type": "code",
   "execution_count": 51,
   "metadata": {},
   "outputs": [],
   "source": [
    "data['reduced'] = data['no_na'][data['no_na']['country'] == 'USA']\n",
    "data['numerical'] = data['reduced'].select_dtypes(exclude=['object'])"
   ]
  },
  {
   "cell_type": "code",
   "execution_count": 52,
   "metadata": {
    "scrolled": true
   },
   "outputs": [
    {
     "data": {
      "text/plain": [
       "movie_title    Pirates of the Caribbean: At World's End \n",
       "budget                                             3e+08\n",
       "Name: 1, dtype: object"
      ]
     },
     "execution_count": 52,
     "metadata": {},
     "output_type": "execute_result"
    }
   ],
   "source": [
    "data['reduced'].loc[data['reduced']['budget'].idxmax()][['movie_title','budget']]"
   ]
  },
  {
   "cell_type": "markdown",
   "metadata": {},
   "source": [
    "A new histogram is made to see if the above have removed outliers."
   ]
  },
  {
   "cell_type": "code",
   "execution_count": 25,
   "metadata": {
    "scrolled": true
   },
   "outputs": [
    {
     "data": {
      "image/png": "[encoded data removed]",
      "text/plain": [
       "<matplotlib.figure.Figure at 0x7fc080e4bc88>"
      ]
     },
     "metadata": {},
     "output_type": "display_data"
    }
   ],
   "source": [
    "data['reduced'].hist(figsize=(12,12));"
   ]
  },
  {
   "cell_type": "markdown",
   "metadata": {},
   "source": [
    "There are still a lot of outliers and therefore attributes with too many outliers are removed from the dataset."
   ]
  },
  {
   "cell_type": "code",
   "execution_count": 53,
   "metadata": {},
   "outputs": [],
   "source": [
    "data['reduced'] = data['reduced'].drop(['actor_1_facebook_likes', 'actor_2_facebook_likes', 'actor_3_facebook_likes', 'aspect_ratio','cast_total_facebook_likes','director_facebook_likes', 'facenumber_in_poster', 'movie_facebook_likes'], axis=1)\n",
    "data['numerical'] = data['reduced'].select_dtypes(exclude=['object'])"
   ]
  },
  {
   "cell_type": "code",
   "execution_count": 54,
   "metadata": {},
   "outputs": [
    {
     "data": {
      "image/png": "[encoded data removed]",
      "text/plain": [
       "<matplotlib.figure.Figure at 0x7fc07c3918d0>"
      ]
     },
     "metadata": {},
     "output_type": "display_data"
    }
   ],
   "source": [
    "data['reduced'].hist(figsize=(12,12));"
   ]
  },
  {
   "cell_type": "markdown",
   "metadata": {},
   "source": [
    "## Machine learning tasks"
   ]
  },
  {
   "cell_type": "markdown",
   "metadata": {},
   "source": [
    "By grouping the dataset features, we can select the correct machine learning strategy based on the table below."
   ]
  },
  {
   "cell_type": "markdown",
   "metadata": {},
   "source": [
    "<table>\n",
    "  <tr>\n",
    "    <th></th>\n",
    "    <th>Supervised</th>\n",
    "    <th>Unsupervised</th>\n",
    "  </tr>\n",
    "  <tr>\n",
    "    <td>Continuous</td>\n",
    "    <td>Regression</td>\n",
    "    <td>Clustering</td>\n",
    "  </tr>\n",
    "  <tr>\n",
    "    <td>Discrete</td>\n",
    "    <td>Classification</td>\n",
    "    <td>Association mining</td>\n",
    "  </tr>\n",
    "  <tr>\n",
    "    <td></td>\n",
    "    <td></td>\n",
    "    <td>Anomaly detection</td>\n",
    "  </tr>\n",
    "</table>"
   ]
  },
  {
   "cell_type": "markdown",
   "metadata": {},
   "source": [
    "<h2> Predictive tasks (supervised learning) </h2>"
   ]
  },
  {
   "cell_type": "markdown",
   "metadata": {},
   "source": [
    "In machine learning there are two predictive tasks: regression and classification. "
   ]
  },
  {
   "cell_type": "markdown",
   "metadata": {},
   "source": [
    "### Regression"
   ]
  },
  {
   "cell_type": "markdown",
   "metadata": {},
   "source": [
    "The other predictive task, regression, is performed on the different attributes. But before using regression on all of the attributes, one can look at a created \"Pearson correlation matrix\". To get an idea of which attributes correlate. And then do the regression on these.\n",
    "It could for example be possible to predict the 'gross' as a function of 'budget' and 'cast_total_facebook_likes'."
   ]
  },
  {
   "cell_type": "markdown",
   "metadata": {},
   "source": [
    "### Classification"
   ]
  },
  {
   "cell_type": "markdown",
   "metadata": {},
   "source": [
    "As the primary machine learning aim for the dataset is to predict the most succesful movie, a classification problem could be given to find out what the best movies have in common, for example the 'imdb_score' is sorted in to five groups as seen in the table below:"
   ]
  },
  {
   "cell_type": "markdown",
   "metadata": {},
   "source": [
    "<table style=\"undefined;table-layout: fixed; width: 162px\">\n",
    "<colgroup>\n",
    "<col style=\"width: 89.007161px\">\n",
    "<col style=\"width: 73.007161px\">\n",
    "</colgroup>\n",
    "  <tr>\n",
    "    <th>imdb_score</th>\n",
    "    <th>Movie quality</th>\n",
    "  </tr>\n",
    "  <tr>\n",
    "    <td>[0-2]</td>\n",
    "    <td>Horrible</td>\n",
    "  </tr>\n",
    "  <tr>\n",
    "    <td>[2-4]</td>\n",
    "    <td>Bad</td>\n",
    "  </tr>\n",
    "  <tr>\n",
    "    <td>[4-6]</td>\n",
    "    <td>Mediocre</td>\n",
    "  </tr>\n",
    "  <tr>\n",
    "    <td>[6-8]</td>\n",
    "    <td>Good</td>\n",
    "  </tr>\n",
    "  <tr>\n",
    "    <td>[8-10]</td>\n",
    "    <td>Excellent</td>\n",
    "  </tr>\n",
    "</table>"
   ]
  },
  {
   "cell_type": "markdown",
   "metadata": {},
   "source": [
    "With Movie quality as a class label it could be possible to see what the different qualities have in common. And from that be able to assign a previously unseen project with the correct label. "
   ]
  },
  {
   "cell_type": "markdown",
   "metadata": {},
   "source": [
    "<h2> Descriptive tasks (unsupervised learning) </h2>"
   ]
  },
  {
   "cell_type": "markdown",
   "metadata": {},
   "source": [
    "The other kind of tasks used in machine learning is the descriptive tasks, which differs from the predictive tasks since they are unsupervised.  "
   ]
  },
  {
   "cell_type": "markdown",
   "metadata": {},
   "source": [
    "### Clustering"
   ]
  },
  {
   "cell_type": "markdown",
   "metadata": {},
   "source": [
    "The first descriptive task is clustering, where the goal is to group the given data objects into clusters where the objects within each cluster are similar. A number of features are associated with the objects, and from that the similarity between the objects is defined."
   ]
  },
  {
   "cell_type": "markdown",
   "metadata": {},
   "source": [
    "After calculating Principle Components we can cluster with K-means. With n-cluster we can investigate relevant group attribute distributions, such as 'gross' or 'imdb_score'."
   ]
  },
  {
   "cell_type": "markdown",
   "metadata": {},
   "source": [
    "### Association rule mining"
   ]
  },
  {
   "cell_type": "markdown",
   "metadata": {},
   "source": [
    "Another desriptive task is association rule mining, where the goal is to produce dependency rules from seemingly unrelated data. \n",
    "An association rule has an antecedent (if) and from that a consequent (then). An antecedent is found from the data and the consequent is then calculated from a combination of the antecedent. \n",
    "\n",
    "An association rule from this dataset could be with items from 'genres':\n",
    "<p>{sci-fi,thriller} &rarr; {action}</p>\n",
    "\n",
    "\n",
    "\n",
    "\n",
    "\n",
    " "
   ]
  },
  {
   "cell_type": "markdown",
   "metadata": {},
   "source": [
    "### Anomaly detection"
   ]
  },
  {
   "cell_type": "markdown",
   "metadata": {},
   "source": [
    "The last descriptive task, is anomaly detection which for example can be used to find outliers.\n",
    "For instance a movie with a very high gross, such as Avatar, could deviate from other movies since the gross is extremely high compared to a mean gross. "
   ]
  },
  {
   "cell_type": "markdown",
   "metadata": {},
   "source": [
    "## Preprocessing (Christian)"
   ]
  },
  {
   "cell_type": "markdown",
   "metadata": {},
   "source": [
    "### Principle Component Analysis"
   ]
  },
  {
   "cell_type": "markdown",
   "metadata": {},
   "source": [
    "In our Principe Component Analysis we wish to reduce the number of dimensions in our dataset without losing too much of the data. In this method of analysis it is worth noting, that while we may be able to reduce the number of dimensions these might not be easily, if at all, interpretable. \n",
    "\n",
    "Before doing a Principle Component Analysis we wish to extract only numerical data our dataset as well as find eigenvalues and eigenvectors. From this information we can generate a visualization of the individual and cumulative variance explained by the eigenvectors. This will be important for determining a suitable number of components for our analysis."
   ]
  },
  {
   "cell_type": "code",
   "execution_count": 72,
   "metadata": {},
   "outputs": [
    {
     "data": {
      "text/plain": [
       "8"
      ]
     },
     "execution_count": 72,
     "metadata": {},
     "output_type": "execute_result"
    }
   ],
   "source": [
    "data['numerical'].shape[1]"
   ]
  },
  {
   "cell_type": "code",
   "execution_count": 55,
   "metadata": {
    "collapsed": true
   },
   "outputs": [],
   "source": [
    "data['X_std'] = StandardScaler().fit_transform(data['numerical'].values)\n",
    "data['covariance'] = np.cov(data['X_std'].T)\n",
    "data['eigenvalues'], data['eigenvectors'] = np.linalg.eig(data['covariance'])\n",
    "data['eigenvalues_variance_explained'] = [(i/data['eigenvalues'].sum())*100 for i in sorted(data['eigenvalues'], reverse=True)]"
   ]
  },
  {
   "cell_type": "code",
   "execution_count": 73,
   "metadata": {},
   "outputs": [
    {
     "data": {
      "image/png": "[encoded data removed]",
      "text/plain": [
       "<matplotlib.figure.Figure at 0x7fc080e22470>"
      ]
     },
     "metadata": {},
     "output_type": "display_data"
    }
   ],
   "source": [
    "plt.figure(figsize=(10, 10))\n",
    "plt.bar(range(data['numerical'].shape[1]), data['eigenvalues_variance_explained'], alpha=0.3333, align='center', label='individual explained variance', color = 'g')\n",
    "plt.axhline(y=95, linewidth=1, color='r', linestyle='dashed', label=\"95%\")\n",
    "plt.axhline(y=90, linewidth=1, color='r', linestyle='dashed', label=\"90%\")\n",
    "plt.step(range(data['numerical'].shape[1]), np.cumsum(data['eigenvalues_variance_explained']), where='mid',label='cumulative explained variance')\n",
    "plt.ylabel('Explained variance ratio')\n",
    "plt.xlabel('Principal components')\n",
    "plt.legend(loc='best')\n",
    "plt.title('Individual and cumulative variance explained')\n",
    "plt.show()"
   ]
  },
  {
   "cell_type": "markdown",
   "metadata": {},
   "source": [
    "###### From this plot we can see that using 6 components, our model will be able to explain 90% - 95% of the total variance. So this looks promising for our analysis as we will be able to reduce our total dimensions from 16 to 6."
   ]
  },
  {
   "cell_type": "markdown",
   "metadata": {},
   "source": [
    "### Regression"
   ]
  },
  {
   "cell_type": "markdown",
   "metadata": {},
   "source": [
    "For our regression analysis we want to investigate any correlations, we can calculate a correlation matrix and plot this as a heatmap to get an overview. On this plot we hide the diagonal and upper half, and highlight all correlations above 0.5, or below -0.5."
   ]
  },
  {
   "cell_type": "code",
   "execution_count": 74,
   "metadata": {},
   "outputs": [
    {
     "data": {
      "image/png": "[encoded data removed]",
      "text/plain": [
       "<matplotlib.figure.Figure at 0x7fc080e04198>"
      ]
     },
     "metadata": {},
     "output_type": "display_data"
    }
   ],
   "source": [
    "data['numerical_correlation'] = data['numerical'].corr()\n",
    "plt.subplots(figsize=(15, 12))\n",
    "plt.title('Pearson Correlation of Movie Features')\n",
    "\n",
    "# Mask to remove diagonal and upper half\n",
    "mask = np.zeros_like(data['numerical_correlation'], dtype=np.bool)\n",
    "mask[np.triu_indices_from(mask)] = True\n",
    "ax = sns.heatmap(data['numerical_correlation'],vmax=1,square=True,annot=True,mask=mask);\n",
    "\n",
    "\n",
    "for cell in ax.texts:\n",
    "    if (abs(float(cell.get_text())) > 0.5):\n",
    "        ax.add_patch(Rectangle((int(cell.get_position()[0]-0.5), int(cell.get_position()[1]-0.5)), 1, 1, fill=False, edgecolor='blue', lw=2))\n",
    "\n",
    "plt.show()"
   ]
  },
  {
   "cell_type": "markdown",
   "metadata": {},
   "source": [
    "From our correlation matrix, we can see some interesting correlations: 'imdb_score' and 'budget' do not seem to correlate with anything. On the other hand there is good correlation between 'gross', 'num_voted_users' and 'num_user_for_reviews'. In order to validate our data, we check how many entries have a \"reasonable\" value: num_voted_users should be above 10000 users, num_critic_for_reviews should be more than 50 reviews, and gross should be above 5000000 USD. We can visualize this with a bar chart, by plotting the reasonable values next to the total values."
   ]
  },
  {
   "cell_type": "code",
   "execution_count": 75,
   "metadata": {
    "scrolled": false
   },
   "outputs": [
    {
     "data": {
      "image/png": "[encoded data removed]",
      "text/plain": [
       "<matplotlib.figure.Figure at 0x7fc080b89a90>"
      ]
     },
     "metadata": {},
     "output_type": "display_data"
    }
   ],
   "source": [
    "a1 = data['numerical'].loc[data['numerical']['num_voted_users'] > 10_000].shape[0]\n",
    "a2 = data['numerical']['num_voted_users'].shape[0]\n",
    "b1 = data['numerical'].loc[data['numerical']['num_critic_for_reviews'] > 50].shape[0]\n",
    "b2 = data['numerical']['num_critic_for_reviews'].shape[0]\n",
    "c1 = data['numerical'].loc[data['numerical']['gross'] > 5_000_000].shape[0]\n",
    "c2 = data['numerical']['gross'].shape[0]\n",
    "data['validation'] = pd.DataFrame([[a1, a2], [b1, b2], [c1, c2]])\n",
    "data['validation'].columns = [\"Individual\", \"Total\"]\n",
    "ax = data['validation'].plot(kind='bar', legend=False, figsize=(10, 3));"
   ]
  },
  {
   "cell_type": "markdown",
   "metadata": {},
   "source": [
    "From the bar chart we can see that the reasonable values constitute the majority of the total datapoint. This is promising for our regression analysis."
   ]
  },
  {
   "cell_type": "markdown",
   "metadata": {},
   "source": [
    "## 4. Model"
   ]
  },
  {
   "cell_type": "markdown",
   "metadata": {},
   "source": [
    "### Principle Component Analysis"
   ]
  },
  {
   "cell_type": "markdown",
   "metadata": {},
   "source": [
    "The goal for our PCA is to create a reduced set of new dimensions."
   ]
  },
  {
   "cell_type": "code",
   "execution_count": 77,
   "metadata": {
    "scrolled": false
   },
   "outputs": [
    {
     "data": {
      "text/html": [
       "<div>\n",
       "<style>\n",
       "    .dataframe thead tr:only-child th {\n",
       "        text-align: right;\n",
       "    }\n",
       "\n",
       "    .dataframe thead th {\n",
       "        text-align: left;\n",
       "    }\n",
       "\n",
       "    .dataframe tbody tr th {\n",
       "        vertical-align: top;\n",
       "    }\n",
       "</style>\n",
       "<table border=\"1\" class=\"dataframe\">\n",
       "  <thead>\n",
       "    <tr style=\"text-align: right;\">\n",
       "      <th></th>\n",
       "      <th>0</th>\n",
       "      <th>1</th>\n",
       "      <th>2</th>\n",
       "      <th>3</th>\n",
       "      <th>4</th>\n",
       "      <th>5</th>\n",
       "      <th>6</th>\n",
       "      <th>7</th>\n",
       "    </tr>\n",
       "  </thead>\n",
       "  <tbody>\n",
       "    <tr>\n",
       "      <th>0</th>\n",
       "      <td>0.405171</td>\n",
       "      <td>0.274326</td>\n",
       "      <td>0.406864</td>\n",
       "      <td>0.453563</td>\n",
       "      <td>0.427059</td>\n",
       "      <td>0.346933</td>\n",
       "      <td>0.088695</td>\n",
       "      <td>0.280564</td>\n",
       "    </tr>\n",
       "    <tr>\n",
       "      <th>1</th>\n",
       "      <td>-0.272103</td>\n",
       "      <td>0.330021</td>\n",
       "      <td>-0.074225</td>\n",
       "      <td>0.135815</td>\n",
       "      <td>0.085134</td>\n",
       "      <td>-0.321178</td>\n",
       "      <td>-0.695645</td>\n",
       "      <td>0.445830</td>\n",
       "    </tr>\n",
       "    <tr>\n",
       "      <th>2</th>\n",
       "      <td>-0.361821</td>\n",
       "      <td>0.088466</td>\n",
       "      <td>0.426142</td>\n",
       "      <td>-0.097165</td>\n",
       "      <td>-0.020426</td>\n",
       "      <td>0.504718</td>\n",
       "      <td>-0.426139</td>\n",
       "      <td>-0.483187</td>\n",
       "    </tr>\n",
       "    <tr>\n",
       "      <th>3</th>\n",
       "      <td>0.017594</td>\n",
       "      <td>0.818565</td>\n",
       "      <td>-0.202925</td>\n",
       "      <td>-0.303782</td>\n",
       "      <td>-0.293329</td>\n",
       "      <td>0.223664</td>\n",
       "      <td>0.239180</td>\n",
       "      <td>0.053905</td>\n",
       "    </tr>\n",
       "    <tr>\n",
       "      <th>4</th>\n",
       "      <td>-0.008586</td>\n",
       "      <td>0.294033</td>\n",
       "      <td>-0.335949</td>\n",
       "      <td>0.167321</td>\n",
       "      <td>0.576874</td>\n",
       "      <td>-0.275899</td>\n",
       "      <td>0.023120</td>\n",
       "      <td>-0.602640</td>\n",
       "    </tr>\n",
       "    <tr>\n",
       "      <th>5</th>\n",
       "      <td>-0.513740</td>\n",
       "      <td>0.173950</td>\n",
       "      <td>0.502440</td>\n",
       "      <td>0.254735</td>\n",
       "      <td>-0.114580</td>\n",
       "      <td>-0.418431</td>\n",
       "      <td>0.447140</td>\n",
       "      <td>-0.018136</td>\n",
       "    </tr>\n",
       "  </tbody>\n",
       "</table>\n",
       "</div>"
      ],
      "text/plain": [
       "          0         1         2         3         4         5         6  \\\n",
       "0  0.405171  0.274326  0.406864  0.453563  0.427059  0.346933  0.088695   \n",
       "1 -0.272103  0.330021 -0.074225  0.135815  0.085134 -0.321178 -0.695645   \n",
       "2 -0.361821  0.088466  0.426142 -0.097165 -0.020426  0.504718 -0.426139   \n",
       "3  0.017594  0.818565 -0.202925 -0.303782 -0.293329  0.223664  0.239180   \n",
       "4 -0.008586  0.294033 -0.335949  0.167321  0.576874 -0.275899  0.023120   \n",
       "5 -0.513740  0.173950  0.502440  0.254735 -0.114580 -0.418431  0.447140   \n",
       "\n",
       "          7  \n",
       "0  0.280564  \n",
       "1  0.445830  \n",
       "2 -0.483187  \n",
       "3  0.053905  \n",
       "4 -0.602640  \n",
       "5 -0.018136  "
      ]
     },
     "execution_count": 77,
     "metadata": {},
     "output_type": "execute_result"
    }
   ],
   "source": [
    "pca = PCA(n_components=6)\n",
    "data['PCA6'] = pca.fit_transform(data['X_std'])\n",
    "pd.DataFrame(pca.components_)"
   ]
  },
  {
   "cell_type": "markdown",
   "metadata": {},
   "source": [
    "The above table outlines our new dimensions in terms of their attributes similarity, for instance component 0 correlates more closely to attributes 0 than attributes 1."
   ]
  },
  {
   "cell_type": "markdown",
   "metadata": {},
   "source": [
    "## Clustering"
   ]
  },
  {
   "cell_type": "markdown",
   "metadata": {},
   "source": [
    "1. Explain which classification problem you have chosen to solve.\n",
    "\n",
    "As the primary machine learning aim for the dataset is to predict the most succesful movie, a classification problem could be given to find out what the best movies have in common, for example the 'imdb_score' is sorted in to five groups as seen in the table below:\n",
    "\n",
    "<table style=\"undefined;table-layout: fixed; width: 162px\">\n",
    "<colgroup>\n",
    "<col style=\"width: 89.007161px\">\n",
    "<col style=\"width: 73.007161px\">\n",
    "</colgroup>\n",
    "  <tr>\n",
    "    <th>imdb_score</th>\n",
    "    <th>Movie quality</th>\n",
    "  </tr>\n",
    "  <tr>\n",
    "    <td>[0-2]</td>\n",
    "    <td>Horrible</td>\n",
    "  </tr>\n",
    "  <tr>\n",
    "    <td>[2-4]</td>\n",
    "    <td>Bad</td>\n",
    "  </tr>\n",
    "  <tr>\n",
    "    <td>[4-6]</td>\n",
    "    <td>Mediocre</td>\n",
    "  </tr>\n",
    "  <tr>\n",
    "    <td>[6-8]</td>\n",
    "    <td>Good</td>\n",
    "  </tr>\n",
    "  <tr>\n",
    "    <td>[8-10]</td>\n",
    "    <td>Excellent</td>\n",
    "  </tr>\n",
    "</table>\n",
    "\n"
   ]
  },
  {
   "cell_type": "code",
   "execution_count": 87,
   "metadata": {},
   "outputs": [
    {
     "data": {
      "image/png": "[encoded data removed]",
      "text/plain": [
       "<matplotlib.figure.Figure at 0x7fc080b536a0>"
      ]
     },
     "metadata": {},
     "output_type": "display_data"
    }
   ],
   "source": [
    "from sklearn.cluster import KMeans\n",
    "X_pca = pca.components_[[np.arange(0,6)]]\n",
    "\n",
    "# Apply your clustering here\n",
    "km = KMeans(n_clusters=2, init='k-means++',n_init=30, verbose=0);\n",
    "km.fit(X_pca.T);\n",
    "cluster_pred = km.predict(X_pca.T);\n",
    "plt.figure(figsize=(10,10))\n",
    "plt.scatter(X_pca[0], X_pca[1], c=cluster_pred, cmap='viridis')\n",
    "plt.title('Clustering on PCA projected data');\n",
    "plt.ylabel('Principal component[1]')\n",
    "plt.xlabel('Principal component[0]')\n",
    "plt.show()\n"
   ]
  },
  {
   "cell_type": "code",
   "execution_count": 88,
   "metadata": {},
   "outputs": [
    {
     "name": "stdout",
     "output_type": "stream",
     "text": [
      "Chosen attributes:  ['gross', 'num_voted_users']\n"
     ]
    }
   ],
   "source": [
    "from sklearn.metrics import pairwise_distances_argmin_min\n",
    "closest, _ = pairwise_distances_argmin_min(km.cluster_centers_, X_pca.T)\n",
    "data['closest'] = data['numerical'].iloc[:,closest]\n",
    "\n",
    "print(\"Chosen attributes: \", data['closest'].columns.tolist())"
   ]
  },
  {
   "cell_type": "markdown",
   "metadata": {},
   "source": [
    "2. Apply at least three of the following methods:\n",
    "Decision Trees, Logistic/Multinomial Regression, K-Nearest Neighbors (KNN),\n",
    "Na¨ıve Bayes and Artificial Neural Networks (ANN).\n",
    "(Use cross-validation to select relevant parameters in an inner cross-validation\n",
    "loop and give in a table the performance results for the methods evaluated\n",
    "on the same cross-validation splits on the outer cross-validation loop, i.e. you\n",
    "should use two levels of cross-validation)."
   ]
  },
  {
   "cell_type": "markdown",
   "metadata": {},
   "source": [
    "## Decision Trees: Random Forest Classifier\n",
    "For classification the first method used on the dataset is the Random Forest Classifier"
   ]
  },
  {
   "cell_type": "markdown",
   "metadata": {},
   "source": [
    "The goal with this classification is to predict wether a movie is in color or black and white.\n",
    "A new series is created with all columns and rows from the numerical data and 'color'."
   ]
  },
  {
   "cell_type": "code",
   "execution_count": 224,
   "metadata": {},
   "outputs": [],
   "source": [
    "data['RFC'] = data['numerical'].copy()"
   ]
  },
  {
   "cell_type": "code",
   "execution_count": 225,
   "metadata": {
    "scrolled": true
   },
   "outputs": [
    {
     "data": {
      "text/html": [
       "<div>\n",
       "<style>\n",
       "    .dataframe thead tr:only-child th {\n",
       "        text-align: right;\n",
       "    }\n",
       "\n",
       "    .dataframe thead th {\n",
       "        text-align: left;\n",
       "    }\n",
       "\n",
       "    .dataframe tbody tr th {\n",
       "        vertical-align: top;\n",
       "    }\n",
       "</style>\n",
       "<table border=\"1\" class=\"dataframe\">\n",
       "  <thead>\n",
       "    <tr style=\"text-align: right;\">\n",
       "      <th></th>\n",
       "      <th>num_critic_for_reviews</th>\n",
       "      <th>duration</th>\n",
       "      <th>gross</th>\n",
       "      <th>num_voted_users</th>\n",
       "      <th>num_user_for_reviews</th>\n",
       "      <th>budget</th>\n",
       "      <th>title_year</th>\n",
       "      <th>imdb_score</th>\n",
       "      <th>is_train</th>\n",
       "      <th>color</th>\n",
       "    </tr>\n",
       "  </thead>\n",
       "  <tbody>\n",
       "    <tr>\n",
       "      <th>0</th>\n",
       "      <td>723.0</td>\n",
       "      <td>178.0</td>\n",
       "      <td>760505847.0</td>\n",
       "      <td>886204</td>\n",
       "      <td>3054.0</td>\n",
       "      <td>237000000.0</td>\n",
       "      <td>2009.0</td>\n",
       "      <td>7.9</td>\n",
       "      <td>True</td>\n",
       "      <td>Color</td>\n",
       "    </tr>\n",
       "    <tr>\n",
       "      <th>1</th>\n",
       "      <td>302.0</td>\n",
       "      <td>169.0</td>\n",
       "      <td>309404152.0</td>\n",
       "      <td>471220</td>\n",
       "      <td>1238.0</td>\n",
       "      <td>300000000.0</td>\n",
       "      <td>2007.0</td>\n",
       "      <td>7.1</td>\n",
       "      <td>True</td>\n",
       "      <td>Color</td>\n",
       "    </tr>\n",
       "    <tr>\n",
       "      <th>3</th>\n",
       "      <td>813.0</td>\n",
       "      <td>164.0</td>\n",
       "      <td>448130642.0</td>\n",
       "      <td>1144337</td>\n",
       "      <td>2701.0</td>\n",
       "      <td>250000000.0</td>\n",
       "      <td>2012.0</td>\n",
       "      <td>8.5</td>\n",
       "      <td>False</td>\n",
       "      <td>Color</td>\n",
       "    </tr>\n",
       "    <tr>\n",
       "      <th>5</th>\n",
       "      <td>462.0</td>\n",
       "      <td>132.0</td>\n",
       "      <td>73058679.0</td>\n",
       "      <td>212204</td>\n",
       "      <td>738.0</td>\n",
       "      <td>263700000.0</td>\n",
       "      <td>2012.0</td>\n",
       "      <td>6.6</td>\n",
       "      <td>True</td>\n",
       "      <td>Color</td>\n",
       "    </tr>\n",
       "    <tr>\n",
       "      <th>6</th>\n",
       "      <td>392.0</td>\n",
       "      <td>156.0</td>\n",
       "      <td>336530303.0</td>\n",
       "      <td>383056</td>\n",
       "      <td>1902.0</td>\n",
       "      <td>258000000.0</td>\n",
       "      <td>2007.0</td>\n",
       "      <td>6.2</td>\n",
       "      <td>True</td>\n",
       "      <td>Color</td>\n",
       "    </tr>\n",
       "  </tbody>\n",
       "</table>\n",
       "</div>"
      ],
      "text/plain": [
       "   num_critic_for_reviews  duration        gross  num_voted_users  \\\n",
       "0                   723.0     178.0  760505847.0           886204   \n",
       "1                   302.0     169.0  309404152.0           471220   \n",
       "3                   813.0     164.0  448130642.0          1144337   \n",
       "5                   462.0     132.0   73058679.0           212204   \n",
       "6                   392.0     156.0  336530303.0           383056   \n",
       "\n",
       "   num_user_for_reviews       budget  title_year  imdb_score  is_train  color  \n",
       "0                3054.0  237000000.0      2009.0         7.9      True  Color  \n",
       "1                1238.0  300000000.0      2007.0         7.1      True  Color  \n",
       "3                2701.0  250000000.0      2012.0         8.5     False  Color  \n",
       "5                 738.0  263700000.0      2012.0         6.6      True  Color  \n",
       "6                1902.0  258000000.0      2007.0         6.2      True  Color  "
      ]
     },
     "execution_count": 225,
     "metadata": {},
     "output_type": "execute_result"
    }
   ],
   "source": [
    "data['RFC']['color'] = data['reduced']['color']\n",
    "data['RFC'].head()"
   ]
  },
  {
   "cell_type": "markdown",
   "metadata": {},
   "source": [
    "Train and test set is created, with a test size of 10 % of the data."
   ]
  },
  {
   "cell_type": "code",
   "execution_count": 226,
   "metadata": {},
   "outputs": [],
   "source": [
    "from sklearn.model_selection import train_test_split\n",
    "train, test = train_test_split(data['RFC'],test_size=0.1)\n"
   ]
  },
  {
   "cell_type": "code",
   "execution_count": 227,
   "metadata": {},
   "outputs": [
    {
     "name": "stdout",
     "output_type": "stream",
     "text": [
      "Number of observations in the training data: 2688\n",
      "Number of observations in the test data: 299\n"
     ]
    }
   ],
   "source": [
    "print('Number of observations in the training data:', len(train))\n",
    "print('Number of observations in the test data:', len(test))"
   ]
  },
  {
   "cell_type": "markdown",
   "metadata": {},
   "source": [
    "From sklearn's train_test_split function 'is_train' is added to the data set, with a booloen value of True or False."
   ]
  },
  {
   "cell_type": "code",
   "execution_count": 228,
   "metadata": {},
   "outputs": [
    {
     "data": {
      "text/html": [
       "<div>\n",
       "<style>\n",
       "    .dataframe thead tr:only-child th {\n",
       "        text-align: right;\n",
       "    }\n",
       "\n",
       "    .dataframe thead th {\n",
       "        text-align: left;\n",
       "    }\n",
       "\n",
       "    .dataframe tbody tr th {\n",
       "        vertical-align: top;\n",
       "    }\n",
       "</style>\n",
       "<table border=\"1\" class=\"dataframe\">\n",
       "  <thead>\n",
       "    <tr style=\"text-align: right;\">\n",
       "      <th></th>\n",
       "      <th>num_critic_for_reviews</th>\n",
       "      <th>duration</th>\n",
       "      <th>gross</th>\n",
       "      <th>num_voted_users</th>\n",
       "      <th>num_user_for_reviews</th>\n",
       "      <th>budget</th>\n",
       "      <th>title_year</th>\n",
       "      <th>imdb_score</th>\n",
       "      <th>is_train</th>\n",
       "      <th>color</th>\n",
       "    </tr>\n",
       "  </thead>\n",
       "  <tbody>\n",
       "    <tr>\n",
       "      <th>0</th>\n",
       "      <td>723.0</td>\n",
       "      <td>178.0</td>\n",
       "      <td>760505847.0</td>\n",
       "      <td>886204</td>\n",
       "      <td>3054.0</td>\n",
       "      <td>237000000.0</td>\n",
       "      <td>2009.0</td>\n",
       "      <td>7.9</td>\n",
       "      <td>True</td>\n",
       "      <td>Color</td>\n",
       "    </tr>\n",
       "    <tr>\n",
       "      <th>1</th>\n",
       "      <td>302.0</td>\n",
       "      <td>169.0</td>\n",
       "      <td>309404152.0</td>\n",
       "      <td>471220</td>\n",
       "      <td>1238.0</td>\n",
       "      <td>300000000.0</td>\n",
       "      <td>2007.0</td>\n",
       "      <td>7.1</td>\n",
       "      <td>True</td>\n",
       "      <td>Color</td>\n",
       "    </tr>\n",
       "    <tr>\n",
       "      <th>3</th>\n",
       "      <td>813.0</td>\n",
       "      <td>164.0</td>\n",
       "      <td>448130642.0</td>\n",
       "      <td>1144337</td>\n",
       "      <td>2701.0</td>\n",
       "      <td>250000000.0</td>\n",
       "      <td>2012.0</td>\n",
       "      <td>8.5</td>\n",
       "      <td>False</td>\n",
       "      <td>Color</td>\n",
       "    </tr>\n",
       "    <tr>\n",
       "      <th>5</th>\n",
       "      <td>462.0</td>\n",
       "      <td>132.0</td>\n",
       "      <td>73058679.0</td>\n",
       "      <td>212204</td>\n",
       "      <td>738.0</td>\n",
       "      <td>263700000.0</td>\n",
       "      <td>2012.0</td>\n",
       "      <td>6.6</td>\n",
       "      <td>True</td>\n",
       "      <td>Color</td>\n",
       "    </tr>\n",
       "    <tr>\n",
       "      <th>6</th>\n",
       "      <td>392.0</td>\n",
       "      <td>156.0</td>\n",
       "      <td>336530303.0</td>\n",
       "      <td>383056</td>\n",
       "      <td>1902.0</td>\n",
       "      <td>258000000.0</td>\n",
       "      <td>2007.0</td>\n",
       "      <td>6.2</td>\n",
       "      <td>True</td>\n",
       "      <td>Color</td>\n",
       "    </tr>\n",
       "  </tbody>\n",
       "</table>\n",
       "</div>"
      ],
      "text/plain": [
       "   num_critic_for_reviews  duration        gross  num_voted_users  \\\n",
       "0                   723.0     178.0  760505847.0           886204   \n",
       "1                   302.0     169.0  309404152.0           471220   \n",
       "3                   813.0     164.0  448130642.0          1144337   \n",
       "5                   462.0     132.0   73058679.0           212204   \n",
       "6                   392.0     156.0  336530303.0           383056   \n",
       "\n",
       "   num_user_for_reviews       budget  title_year  imdb_score  is_train  color  \n",
       "0                3054.0  237000000.0      2009.0         7.9      True  Color  \n",
       "1                1238.0  300000000.0      2007.0         7.1      True  Color  \n",
       "3                2701.0  250000000.0      2012.0         8.5     False  Color  \n",
       "5                 738.0  263700000.0      2012.0         6.6      True  Color  \n",
       "6                1902.0  258000000.0      2007.0         6.2      True  Color  "
      ]
     },
     "execution_count": 228,
     "metadata": {},
     "output_type": "execute_result"
    }
   ],
   "source": [
    "data['RFC'].head()"
   ]
  },
  {
   "cell_type": "markdown",
   "metadata": {},
   "source": [
    "The first 8 columns are used as features, and 'color' is used as the target. The target 'color' is factorized to have a value of 0 (color) or 1 (black and white)."
   ]
  },
  {
   "cell_type": "code",
   "execution_count": 230,
   "metadata": {},
   "outputs": [],
   "source": [
    "# A list of the feature column's names is created\n",
    "features = data['RFC'].columns[:8]\n",
    "\n",
    "y = pd.factorize(train['color'])[0]"
   ]
  },
  {
   "cell_type": "markdown",
   "metadata": {},
   "source": [
    "The Random Forest Classifier is now created and the Classifier is trained to take the training feaures and learn how they relate to the training target y."
   ]
  },
  {
   "cell_type": "code",
   "execution_count": 231,
   "metadata": {},
   "outputs": [
    {
     "data": {
      "text/plain": [
       "RandomForestClassifier(bootstrap=True, class_weight=None, criterion='gini',\n",
       "            max_depth=None, max_features='auto', max_leaf_nodes=None,\n",
       "            min_impurity_split=1e-07, min_samples_leaf=1,\n",
       "            min_samples_split=2, min_weight_fraction_leaf=0.0,\n",
       "            n_estimators=10, n_jobs=2, oob_score=False, random_state=0,\n",
       "            verbose=0, warm_start=False)"
      ]
     },
     "execution_count": 231,
     "metadata": {},
     "output_type": "execute_result"
    }
   ],
   "source": [
    "# Create a random forest Classifier. \n",
    "clf = RandomForestClassifier(n_jobs=2, random_state=0)\n",
    "\n",
    "# Train the Classifier to take the training features and learn how they relate\n",
    "# to the training y (the species)\n",
    "clf.fit(train[features], y)"
   ]
  },
  {
   "cell_type": "markdown",
   "metadata": {},
   "source": [
    "Now the trained classifier is applied to the test data, to test the accuracy of the model."
   ]
  },
  {
   "cell_type": "code",
   "execution_count": 243,
   "metadata": {},
   "outputs": [
    {
     "name": "stdout",
     "output_type": "stream",
     "text": [
      "[0 0 0 0 0 0 0 0 0 0 0 0 0 0 0 0 0 0 0 0 0 0 0 0 0 0 0 0 0 0 0 0 0 0 0 0 0\n",
      " 0 0 0 0 0 0 0 0 0 0 0 0 0 0 0 0 0 0 0 0 0 0 0 0 0 0 0 0 0 0 0 0 0 0 0 0 0\n",
      " 0 0 0 0 0 0 0 0 0 0 0 0 0 0 0 0 0 0 0 0 0 0 0 0 0 0 0 0 0 0 0 0 0 0 0 0 0\n",
      " 0 0 0 0 0 0 0 0 0 0 0 0 0 0 0 0 0 0 0 0 0 0 0 0 0 0 0 0 0 0 0 0 0 0 0 0 0\n",
      " 0 0 0 0 0 0 0 0 0 0 0 0 0 0 0 0 0 0 0 0 0 0 0 0 0 0 0 0 0 0 0 0 0 0 0 0 0\n",
      " 0 0 0 0 0 0 0 0 0 0 0 0 0 0 0 0 0 0 0 0 0 0 0 0 0 0 0 0 1 0 0 0 0 0 0 0 0\n",
      " 0 0 0 0 0 0 0 0 0 0 0 0 0 0 0 0 0 0 0 0 0 0 0 0 0 0 0 0 0 0 0 0 0 0 0 0 0\n",
      " 0 0 0 0 0 0 0 0 0 0 0 0 0 0 0 0 0 0 0 0 0 0 0 0 0 0 0 0 0 0 0 0 0 0 0 0 0\n",
      " 0 0 0]\n"
     ]
    }
   ],
   "source": [
    "print(clf.predict(test[features]))"
   ]
  },
  {
   "cell_type": "markdown",
   "metadata": {},
   "source": [
    "The above output shows the predicted 'color' based on the 8 features, where 0 is a color movie and 1 is a black and white movie."
   ]
  },
  {
   "cell_type": "markdown",
   "metadata": {},
   "source": [
    "The predicted probabilities of the first 20 observations can now be seen seen, to see how confident the classifier is about 'color'."
   ]
  },
  {
   "cell_type": "code",
   "execution_count": 245,
   "metadata": {
    "scrolled": true
   },
   "outputs": [
    {
     "data": {
      "text/html": [
       "<div>\n",
       "<style>\n",
       "    .dataframe thead tr:only-child th {\n",
       "        text-align: right;\n",
       "    }\n",
       "\n",
       "    .dataframe thead th {\n",
       "        text-align: left;\n",
       "    }\n",
       "\n",
       "    .dataframe tbody tr th {\n",
       "        vertical-align: top;\n",
       "    }\n",
       "</style>\n",
       "<table border=\"1\" class=\"dataframe\">\n",
       "  <thead>\n",
       "    <tr style=\"text-align: right;\">\n",
       "      <th></th>\n",
       "      <th>0</th>\n",
       "      <th>1</th>\n",
       "    </tr>\n",
       "  </thead>\n",
       "  <tbody>\n",
       "    <tr>\n",
       "      <th>0</th>\n",
       "      <td>1.0</td>\n",
       "      <td>0.0</td>\n",
       "    </tr>\n",
       "    <tr>\n",
       "      <th>1</th>\n",
       "      <td>1.0</td>\n",
       "      <td>0.0</td>\n",
       "    </tr>\n",
       "    <tr>\n",
       "      <th>2</th>\n",
       "      <td>1.0</td>\n",
       "      <td>0.0</td>\n",
       "    </tr>\n",
       "    <tr>\n",
       "      <th>3</th>\n",
       "      <td>1.0</td>\n",
       "      <td>0.0</td>\n",
       "    </tr>\n",
       "    <tr>\n",
       "      <th>4</th>\n",
       "      <td>0.7</td>\n",
       "      <td>0.3</td>\n",
       "    </tr>\n",
       "    <tr>\n",
       "      <th>5</th>\n",
       "      <td>1.0</td>\n",
       "      <td>0.0</td>\n",
       "    </tr>\n",
       "    <tr>\n",
       "      <th>6</th>\n",
       "      <td>1.0</td>\n",
       "      <td>0.0</td>\n",
       "    </tr>\n",
       "    <tr>\n",
       "      <th>7</th>\n",
       "      <td>1.0</td>\n",
       "      <td>0.0</td>\n",
       "    </tr>\n",
       "    <tr>\n",
       "      <th>8</th>\n",
       "      <td>1.0</td>\n",
       "      <td>0.0</td>\n",
       "    </tr>\n",
       "    <tr>\n",
       "      <th>9</th>\n",
       "      <td>1.0</td>\n",
       "      <td>0.0</td>\n",
       "    </tr>\n",
       "    <tr>\n",
       "      <th>10</th>\n",
       "      <td>1.0</td>\n",
       "      <td>0.0</td>\n",
       "    </tr>\n",
       "    <tr>\n",
       "      <th>11</th>\n",
       "      <td>1.0</td>\n",
       "      <td>0.0</td>\n",
       "    </tr>\n",
       "    <tr>\n",
       "      <th>12</th>\n",
       "      <td>1.0</td>\n",
       "      <td>0.0</td>\n",
       "    </tr>\n",
       "    <tr>\n",
       "      <th>13</th>\n",
       "      <td>1.0</td>\n",
       "      <td>0.0</td>\n",
       "    </tr>\n",
       "    <tr>\n",
       "      <th>14</th>\n",
       "      <td>1.0</td>\n",
       "      <td>0.0</td>\n",
       "    </tr>\n",
       "    <tr>\n",
       "      <th>15</th>\n",
       "      <td>1.0</td>\n",
       "      <td>0.0</td>\n",
       "    </tr>\n",
       "    <tr>\n",
       "      <th>16</th>\n",
       "      <td>1.0</td>\n",
       "      <td>0.0</td>\n",
       "    </tr>\n",
       "    <tr>\n",
       "      <th>17</th>\n",
       "      <td>0.6</td>\n",
       "      <td>0.4</td>\n",
       "    </tr>\n",
       "    <tr>\n",
       "      <th>18</th>\n",
       "      <td>1.0</td>\n",
       "      <td>0.0</td>\n",
       "    </tr>\n",
       "    <tr>\n",
       "      <th>19</th>\n",
       "      <td>0.9</td>\n",
       "      <td>0.1</td>\n",
       "    </tr>\n",
       "  </tbody>\n",
       "</table>\n",
       "</div>"
      ],
      "text/plain": [
       "      0    1\n",
       "0   1.0  0.0\n",
       "1   1.0  0.0\n",
       "2   1.0  0.0\n",
       "3   1.0  0.0\n",
       "4   0.7  0.3\n",
       "5   1.0  0.0\n",
       "6   1.0  0.0\n",
       "7   1.0  0.0\n",
       "8   1.0  0.0\n",
       "9   1.0  0.0\n",
       "10  1.0  0.0\n",
       "11  1.0  0.0\n",
       "12  1.0  0.0\n",
       "13  1.0  0.0\n",
       "14  1.0  0.0\n",
       "15  1.0  0.0\n",
       "16  1.0  0.0\n",
       "17  0.6  0.4\n",
       "18  1.0  0.0\n",
       "19  0.9  0.1"
      ]
     },
     "execution_count": 245,
     "metadata": {},
     "output_type": "execute_result"
    }
   ],
   "source": [
    "# View the predicted probabilities of the first x observations\n",
    "pd.DataFrame(clf.predict_proba(test[features]), columns=clf.classes_)[0:20]"
   ]
  },
  {
   "cell_type": "markdown",
   "metadata": {},
   "source": [
    "The two columns represent color and black and white and for each row the probability of the given observation is shown with a value between 0.0 - 1.0."
   ]
  },
  {
   "cell_type": "markdown",
   "metadata": {},
   "source": [
    "All the predicted 'color' can now be compared with the actual 'color'."
   ]
  },
  {
   "cell_type": "code",
   "execution_count": 248,
   "metadata": {},
   "outputs": [],
   "source": [
    "# Create names for each predicted class\n",
    "preds = data['reduced'].color[clf.predict(test[features])]"
   ]
  },
  {
   "cell_type": "code",
   "execution_count": 257,
   "metadata": {},
   "outputs": [
    {
     "data": {
      "text/plain": [
       "1562    Color\n",
       "660     Color\n",
       "3126    Color\n",
       "963     Color\n",
       "325     Color\n",
       "Name: color, dtype: object"
      ]
     },
     "execution_count": 257,
     "metadata": {},
     "output_type": "execute_result"
    }
   ],
   "source": [
    "test['color'].head()"
   ]
  },
  {
   "cell_type": "code",
   "execution_count": 221,
   "metadata": {},
   "outputs": [
    {
     "data": {
      "image/png": "[encoded data removed]",
      "text/plain": [
       "<matplotlib.figure.Figure at 0x7fc080defa90>"
      ]
     },
     "metadata": {},
     "output_type": "display_data"
    }
   ],
   "source": [
    "# Compute and plot confusion matrix\n",
    "from sklearn.metrics import confusion_matrix\n",
    "from matplotlib.pyplot import (figure, hold, plot, title, xlabel, ylabel, \n",
    "                               colorbar, imshow, xticks, yticks, show)\n",
    "\n",
    "cm = confusion_matrix(test['color'], preds.values);\n",
    "accuracy = 100*cm.diagonal().sum()/cm.sum(); error_rate = 100-accuracy;\n",
    "figure(2);\n",
    "imshow(cm, cmap='binary', interpolation='None');\n",
    "colorbar()\n",
    "xticks(range(C)); yticks(range(C));\n",
    "xlabel('Predicted class'); ylabel('Actual class');\n",
    "title('Confusion matrix (Accuracy: {0}%, Error Rate: {1}%)'.format(accuracy, error_rate));\n",
    "\n",
    "show()"
   ]
  },
  {
   "cell_type": "code",
   "execution_count": 223,
   "metadata": {},
   "outputs": [
    {
     "data": {
      "text/plain": [
       "[('num_critic_for_reviews', 0.15761838746033649),\n",
       " ('duration', 0.11736817455687691),\n",
       " ('gross', 0.10443652883380361),\n",
       " ('num_voted_users', 0.20507682089170234),\n",
       " ('num_user_for_reviews', 0.10722056214234728),\n",
       " ('budget', 0.10535014800655196),\n",
       " ('title_year', 0.1337535442731469),\n",
       " ('imdb_score', 0.069175833835234485)]"
      ]
     },
     "execution_count": 223,
     "metadata": {},
     "output_type": "execute_result"
    }
   ],
   "source": [
    "# View a list of the features and their importance scores\n",
    "list(zip(train[features], clf.feature_importances_))"
   ]
  },
  {
   "cell_type": "markdown",
   "metadata": {},
   "source": [
    "3. For the models you are able to interpret explain how a new data observation\n",
    "is classified.\n",
    "(If you have multiple models fitted, (i.e., one for each cross-validation split)\n",
    "either focus on one of these fitted models or consider fitting one model for\n",
    "the optimal setting of the parameters estimated by cross-validation to all the\n",
    "data.)"
   ]
  },
  {
   "cell_type": "markdown",
   "metadata": {},
   "source": [
    "4. Statistically compare the performance of the two best performing models (i.e.,\n",
    "considering the credibility interval equivalent to the use of a paired t-test as\n",
    "described in lecture 6 and last exercise week 6). Compare in addition if the\n",
    "performance of your models are better than simply predicting all outputs to\n",
    "be the largest class in the training data."
   ]
  }
 ],
 "metadata": {
  "kernelspec": {
   "display_name": "Python 3",
   "language": "python",
   "name": "python3"
  },
  "language_info": {
   "codemirror_mode": {
    "name": "ipython",
    "version": 3
   },
   "file_extension": ".py",
   "mimetype": "text/x-python",
   "name": "python",
   "nbconvert_exporter": "python",
   "pygments_lexer": "ipython3",
   "version": "3.6.1"
  }
 },
 "nbformat": 4,
 "nbformat_minor": 2
}
