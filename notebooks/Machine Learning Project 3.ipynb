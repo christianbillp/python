{
 "cells": [
  {
   "cell_type": "markdown",
   "metadata": {},
   "source": [
    "# Machine Learning And DM Project 3"
   ]
  },
  {
   "cell_type": "code",
   "execution_count": 1,
   "metadata": {
    "collapsed": true
   },
   "outputs": [],
   "source": [
    "%matplotlib inline \n",
    "import pandas as pd\n",
    "import seaborn as sns\n",
    "import numpy as np\n",
    "import matplotlib.pyplot as plt\n",
    "from matplotlib.patches import Rectangle\n",
    "from sklearn.decomposition import PCA\n",
    "from sklearn.preprocessing import StandardScaler\n",
    "from sklearn.cluster import KMeans"
   ]
  },
  {
   "cell_type": "code",
   "execution_count": null,
   "metadata": {
    "collapsed": true
   },
   "outputs": [],
   "source": [
    "from sklearn.preprocessing import StandardScaler\n",
    "import pandas as pd\n",
    "import matplotlib.pyplot as plt\n",
    "%matplotlib inline \n",
    "#figure_number = 0\n",
    "data = pd.Series({})\n",
    "data['raw'] = pd.read_csv(\"movie_metadata.csv\")\n",
    "#figure_number += 1\n",
    "#print(\"Figure: {} - Boxplot for budget and gross\".format(figure_number))\n",
    "data['reduced'] = data['raw'][data['raw']['country'] == 'USA']\n",
    "data['reduced'] = data['reduced'].drop(['actor_1_facebook_likes', 'actor_2_facebook_likes', 'actor_3_facebook_likes', \n",
    "                                        'cast_total_facebook_likes', 'director_facebook_likes', 'movie_facebook_likes',\n",
    "                                        'aspect_ratio', 'facenumber_in_poster'], axis=1)\n",
    "data['reduced'] = data['reduced'].dropna()\n",
    "data['numerical'] = data['reduced'].select_dtypes(exclude=['object'])\n",
    "data['standardized'] = StandardScaler().fit_transform(data['numerical'].values)\n",
    "data['standardized'] = pd.DataFrame(data['standardized'], columns=data['numerical'].columns.values)"
   ]
  }
 ],
 "metadata": {
  "kernelspec": {
   "display_name": "Python 3",
   "language": "python",
   "name": "python3"
  },
  "language_info": {
   "codemirror_mode": {
    "name": "ipython",
    "version": 3
   },
   "file_extension": ".py",
   "mimetype": "text/x-python",
   "name": "python",
   "nbconvert_exporter": "python",
   "pygments_lexer": "ipython3",
   "version": "3.6.1"
  }
 },
 "nbformat": 4,
 "nbformat_minor": 2
}
