{
 "cells": [
  {
   "cell_type": "code",
   "execution_count": 3,
   "metadata": {},
   "outputs": [],
   "source": [
    "import os"
   ]
  },
  {
   "cell_type": "code",
   "execution_count": 4,
   "metadata": {},
   "outputs": [],
   "source": [
    "# Adds/commits this notebook\n",
    "def update(message):\n",
    "    os.system(\"git add Predictive_descriptive_tasks.ipynb\")\n",
    "    os.system('git commit -m \"{}\"'.format(message))\n",
    "    os.system(\"git push\")"
   ]
  },
  {
   "cell_type": "code",
   "execution_count": 5,
   "metadata": {},
   "outputs": [],
   "source": [
    "update(\"Predictive tasks almost done\")"
   ]
  },
  {
   "cell_type": "markdown",
   "metadata": {},
   "source": [
    "• What the primary machine learning modeling aim is for the data, i.e.\n",
    "which attributes you feel are relevant when carrying out a classification,\n",
    "a regression, a clustering, an association mining, and an anomaly detection\n",
    "in the later reports and what you hope to accomplish using these\n",
    "techniques. For instance, which attribute do you wish to explain in the\n",
    "regression based on which other attributes? Which class label will you predict based on which other attributes in the classification task? If you need to transform the data to admit these tasks, explain roughly how you might do this (but don’t transform the data now!)."
   ]
  },
  {
   "cell_type": "markdown",
   "metadata": {},
   "source": [
    "<h2> Predictive tasks (supervised learning) </h2>"
   ]
  },
  {
   "cell_type": "markdown",
   "metadata": {},
   "source": [
    "vAs the primary machine learning aim for the dataset is to predict the most succesful movie, a classification problem could be given to find out what the best movies have in common, for example the <i>imdb_score</i> is sorted in to five groups as seen in the table below:"
   ]
  },
  {
   "cell_type": "markdown",
   "metadata": {},
   "source": [
    "<table style=\"undefined;table-layout: fixed; width: 162px\">\n",
    "<colgroup>\n",
    "<col style=\"width: 89.007161px\">\n",
    "<col style=\"width: 73.007161px\">\n",
    "</colgroup>\n",
    "  <tr>\n",
    "    <th>imdb_score</th>\n",
    "    <th>Movie quality</th>\n",
    "  </tr>\n",
    "  <tr>\n",
    "    <td>[0-2]</td>\n",
    "    <td>Horrible</td>\n",
    "  </tr>\n",
    "  <tr>\n",
    "    <td>[2-4]</td>\n",
    "    <td>Bad</td>\n",
    "  </tr>\n",
    "  <tr>\n",
    "    <td>[4-6]</td>\n",
    "    <td>Mediocre</td>\n",
    "  </tr>\n",
    "  <tr>\n",
    "    <td>[6-8]</td>\n",
    "    <td>Good</td>\n",
    "  </tr>\n",
    "  <tr>\n",
    "    <td>[8-10]</td>\n",
    "    <td>Excellent</td>\n",
    "  </tr>\n",
    "</table>"
   ]
  },
  {
   "cell_type": "markdown",
   "metadata": {},
   "source": [
    "With Movie quality as a class label it could be possible to see what the different qualities have in common. And from that be able to assign a previously unseen project with the correct label. "
   ]
  },
  {
   "cell_type": "markdown",
   "metadata": {},
   "source": [
    "Before doing any regression on the attributes, one can look at a created <i>Pearson correlation matrix</i>. To get an idea of which attributes correlate. And then do the regression on these.\n",
    "It could for example be possible to predict the <i>gross</i> as a function of <i>budget</i> and <i>cast_total_facebook_likes</i>."
   ]
  },
  {
   "cell_type": "code",
   "execution_count": null,
   "metadata": {},
   "outputs": [],
   "source": []
  },
  {
   "cell_type": "code",
   "execution_count": null,
   "metadata": {},
   "outputs": [],
   "source": []
  }
 ],
 "metadata": {
  "kernelspec": {
   "display_name": "Python 3",
   "language": "python",
   "name": "python3"
  },
  "language_info": {
   "codemirror_mode": {
    "name": "ipython",
    "version": 3
   },
   "file_extension": ".py",
   "mimetype": "text/x-python",
   "name": "python",
   "nbconvert_exporter": "python",
   "pygments_lexer": "ipython3",
   "version": "3.6.1"
  }
 },
 "nbformat": 4,
 "nbformat_minor": 2
}
