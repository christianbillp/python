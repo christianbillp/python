{
 "cells": [
  {
   "cell_type": "code",
   "execution_count": 20,
   "metadata": {},
   "outputs": [],
   "source": [
    "import os"
   ]
  },
  {
   "cell_type": "code",
   "execution_count": 7,
   "metadata": {},
   "outputs": [],
   "source": [
    "# Let latest version from github\n",
    "os.system(\"git remote update\");\n",
    "os.system(\"git pull\");"
   ]
  },
  {
   "cell_type": "code",
   "execution_count": 21,
   "metadata": {},
   "outputs": [],
   "source": [
    "# Adds/commits this notebook\n",
    "def update(message):\n",
    "    os.system(\"git add ML_projekt1.ipynb\")\n",
    "    os.system('git commit -m \"{}\"'.format(message))\n",
    "    os.system(\"git push\")"
   ]
  },
  {
   "cell_type": "code",
   "execution_count": 133,
   "metadata": {},
   "outputs": [],
   "source": [
    "update(\"Outline of report written\")"
   ]
  },
  {
   "cell_type": "markdown",
   "metadata": {},
   "source": [
    "# Project starts here"
   ]
  },
  {
   "cell_type": "code",
   "execution_count": 111,
   "metadata": {},
   "outputs": [
    {
     "data": {
      "text/html": [
       "<div>\n",
       "<table border=\"1\" class=\"dataframe\">\n",
       "  <thead>\n",
       "    <tr style=\"text-align: right;\">\n",
       "      <th></th>\n",
       "      <th>color</th>\n",
       "      <th>director_name</th>\n",
       "      <th>num_critic_for_reviews</th>\n",
       "      <th>duration</th>\n",
       "      <th>director_facebook_likes</th>\n",
       "      <th>actor_3_facebook_likes</th>\n",
       "      <th>actor_2_name</th>\n",
       "      <th>actor_1_facebook_likes</th>\n",
       "      <th>gross</th>\n",
       "      <th>genres</th>\n",
       "      <th>...</th>\n",
       "      <th>num_user_for_reviews</th>\n",
       "      <th>language</th>\n",
       "      <th>country</th>\n",
       "      <th>content_rating</th>\n",
       "      <th>budget</th>\n",
       "      <th>title_year</th>\n",
       "      <th>actor_2_facebook_likes</th>\n",
       "      <th>imdb_score</th>\n",
       "      <th>aspect_ratio</th>\n",
       "      <th>movie_facebook_likes</th>\n",
       "    </tr>\n",
       "  </thead>\n",
       "  <tbody>\n",
       "    <tr>\n",
       "      <th>0</th>\n",
       "      <td>Color</td>\n",
       "      <td>James Cameron</td>\n",
       "      <td>723.0</td>\n",
       "      <td>178.0</td>\n",
       "      <td>0.0</td>\n",
       "      <td>855.0</td>\n",
       "      <td>Joel David Moore</td>\n",
       "      <td>1000.0</td>\n",
       "      <td>760505847.0</td>\n",
       "      <td>Action|Adventure|Fantasy|Sci-Fi</td>\n",
       "      <td>...</td>\n",
       "      <td>3054.0</td>\n",
       "      <td>English</td>\n",
       "      <td>USA</td>\n",
       "      <td>PG-13</td>\n",
       "      <td>237000000.0</td>\n",
       "      <td>2009.0</td>\n",
       "      <td>936.0</td>\n",
       "      <td>7.9</td>\n",
       "      <td>1.78</td>\n",
       "      <td>33000</td>\n",
       "    </tr>\n",
       "  </tbody>\n",
       "</table>\n",
       "<p>1 rows × 28 columns</p>\n",
       "</div>"
      ],
      "text/plain": [
       "   color  director_name  num_critic_for_reviews  duration  \\\n",
       "0  Color  James Cameron                   723.0     178.0   \n",
       "\n",
       "   director_facebook_likes  actor_3_facebook_likes      actor_2_name  \\\n",
       "0                      0.0                   855.0  Joel David Moore   \n",
       "\n",
       "   actor_1_facebook_likes        gross                           genres  \\\n",
       "0                  1000.0  760505847.0  Action|Adventure|Fantasy|Sci-Fi   \n",
       "\n",
       "          ...          num_user_for_reviews language  country  content_rating  \\\n",
       "0         ...                        3054.0  English      USA           PG-13   \n",
       "\n",
       "        budget  title_year actor_2_facebook_likes imdb_score  aspect_ratio  \\\n",
       "0  237000000.0      2009.0                  936.0        7.9          1.78   \n",
       "\n",
       "  movie_facebook_likes  \n",
       "0                33000  \n",
       "\n",
       "[1 rows x 28 columns]"
      ]
     },
     "execution_count": 111,
     "metadata": {},
     "output_type": "execute_result"
    }
   ],
   "source": [
    "import numpy as np\n",
    "import pandas as pd\n",
    "#df = pd.read_csv(\"tmdb_5000_movies.csv\")\n",
    "df = pd.read_csv(\"movie_metadata.csv\")\n",
    "df = df.dropna();\n",
    "df.head(1)"
   ]
  },
  {
   "cell_type": "code",
   "execution_count": 101,
   "metadata": {},
   "outputs": [
    {
     "data": {
      "text/plain": [
       "1287"
      ]
     },
     "execution_count": 101,
     "metadata": {},
     "output_type": "execute_result"
    }
   ],
   "source": [
    "int(df.shape[0]) - int(df.dropna().shape[0])"
   ]
  },
  {
   "cell_type": "markdown",
   "metadata": {},
   "source": [
    "# Dataset introduction and description"
   ]
  },
  {
   "cell_type": "markdown",
   "metadata": {},
   "source": [
    "The IMDB Movie Dataset from Kaggle.com, contains information from 5000 movies, obtained from webscraping IMDB.com.\n",
    "\n",
    "In this dataset we will explore what features determine a \"successful\" movie. The definition of \"successful\" is of course a bit vague, but during this dataanalysis we will explore... different success criterias such as popularity and revenue.\n",
    "\n",
    "In our initial dataanalysis we will use regression to detemine if there is a correlation between IMDB score and revenue."
   ]
  },
  {
   "cell_type": "markdown",
   "metadata": {},
   "source": [
    "1. A description of your data set.\n",
    "Explain\n",
    "• What the problem of interest is (i.e. what is your data about),\n",
    "• Where you obtained the data,\n",
    "• What has previously been done to the data. (i.e. if available go through\n",
    "some of the original source papers and read what they did to the data\n",
    "and summarize what were their results).\n",
    "• What the primary machine learning modeling aim is for the data, i.e.\n",
    "which attributes you feel are relevant when carrying out a classification,\n",
    "a regression, a clustering, an association mining, and an anomaly detection\n",
    "in the later reports and what you hope to accomplish using these\n",
    "techniques. For instance, which attribute do you wish to explain in the\n",
    "regression based on which other attributes? Which class label will you predict based on which other attributes in the classification task? If you need to transform the data to admit these tasks, explain roughly how you might do this (but don’t transform the data now!).\n"
   ]
  },
  {
   "cell_type": "markdown",
   "metadata": {},
   "source": [
    "To get an overview of the dataset columns, we can look at the first entry in our dataframe."
   ]
  },
  {
   "cell_type": "code",
   "execution_count": 81,
   "metadata": {},
   "outputs": [
    {
     "data": {
      "text/plain": [
       "color                         object\n",
       "director_name                 object\n",
       "num_critic_for_reviews       float64\n",
       "duration                     float64\n",
       "director_facebook_likes      float64\n",
       "actor_3_facebook_likes       float64\n",
       "actor_2_name                  object\n",
       "actor_1_facebook_likes       float64\n",
       "gross                        float64\n",
       "genres                        object\n",
       "actor_1_name                  object\n",
       "movie_title                   object\n",
       "num_voted_users                int64\n",
       "cast_total_facebook_likes      int64\n",
       "actor_3_name                  object\n",
       "facenumber_in_poster         float64\n",
       "plot_keywords                 object\n",
       "movie_imdb_link               object\n",
       "num_user_for_reviews         float64\n",
       "language                      object\n",
       "country                       object\n",
       "content_rating                object\n",
       "budget                       float64\n",
       "title_year                   float64\n",
       "actor_2_facebook_likes       float64\n",
       "imdb_score                   float64\n",
       "aspect_ratio                 float64\n",
       "movie_facebook_likes           int64\n",
       "dtype: object"
      ]
     },
     "execution_count": 81,
     "metadata": {},
     "output_type": "execute_result"
    }
   ],
   "source": [
    "# Check datatypes\n",
    "df.dtypes"
   ]
  },
  {
   "cell_type": "markdown",
   "metadata": {},
   "source": [
    "2. A detailed explanation of the attributes of the data.\n",
    "• Describe if the attributes are discrete/continous, Nominal/Ordinal/Interval/Ratio,\n",
    "• give an account of whether there are data issues (i.e. missing values or\n",
    "corrupted data) and describe them if so\n",
    "• describe the basic summary statistics of the attributes.\n",
    "If your data set contains many similar attributes, you may restrict yourself to\n",
    "describing a few representative features (apply common sense).\n"
   ]
  },
  {
   "cell_type": "markdown",
   "metadata": {},
   "source": [
    "3. Data visualization(s) based on suitable visualization techniques including\n",
    "a principal component analysis (PCA).\n",
    "Touch upon the following subjects, use visualizations when it appears sensible.\n",
    "Keep in mind the ACCENT principles and Tufte’s guidelines when you visualize\n",
    "the data.\n",
    "• Are there issues with outliers in the data,\n",
    "• do the attributes appear to be normal distributed,\n",
    "• are variables correlated,\n",
    "• does the primary machine learning modeling aim appear to be feasible\n",
    "based on your visualizations.\n",
    "There are three aspects that needs to be described when you carry out the\n",
    "PCA analysis for the report:\n",
    "• The amount of variation explained as a function of the number of PCA\n",
    "components included,\n",
    "• the principal directions of the considered PCA components (either find a\n",
    "way to plot them or interpret them in terms of the features),\n",
    "• the data projected onto the considered principal components.\n",
    "If your attributes have very different scales it may be relevant to standardize\n",
    "the data prior to the PCA analysis."
   ]
  },
  {
   "cell_type": "markdown",
   "metadata": {},
   "source": [
    "## Principle Component Analysis"
   ]
  },
  {
   "cell_type": "markdown",
   "metadata": {},
   "source": [
    "In this chapter we will explore the singular values of the dataset, through Principle Component Analysis."
   ]
  },
  {
   "cell_type": "code",
   "execution_count": 56,
   "metadata": {},
   "outputs": [],
   "source": [
    "from sklearn.decomposition import PCA"
   ]
  },
  {
   "cell_type": "markdown",
   "metadata": {},
   "source": [
    "Since our dataset contains categorical data, we need to convert these columns to one-hot notation. To do this we create a function which converts all columns containing object data, to multiple columns with 1 or 0."
   ]
  },
  {
   "cell_type": "code",
   "execution_count": 123,
   "metadata": {},
   "outputs": [],
   "source": [
    "def toonehot(df):\n",
    "    obj_df = df.select_dtypes(include=['object']).copy()\n",
    "    obj_df[obj_df.isnull().any(axis=1)]\n",
    "    cols = obj_df.columns.values.tolist()\n",
    "    df2 = pd.get_dummies(obj_df, columns=cols, prefix=cols)\n",
    "    df4 = pd.concat([df2, df.drop(cols, 1)], 1)\n",
    "    \n",
    "    return df4"
   ]
  },
  {
   "cell_type": "code",
   "execution_count": 126,
   "metadata": {},
   "outputs": [
    {
     "data": {
      "text/html": [
       "<div>\n",
       "<table border=\"1\" class=\"dataframe\">\n",
       "  <thead>\n",
       "    <tr style=\"text-align: right;\">\n",
       "      <th></th>\n",
       "      <th>color_ Black and White</th>\n",
       "      <th>color_Color</th>\n",
       "      <th>director_name_Aaron Schneider</th>\n",
       "      <th>director_name_Aaron Seltzer</th>\n",
       "      <th>director_name_Abel Ferrara</th>\n",
       "      <th>director_name_Adam Goldberg</th>\n",
       "      <th>director_name_Adam Marcus</th>\n",
       "      <th>director_name_Adam McKay</th>\n",
       "      <th>director_name_Adam Rapp</th>\n",
       "      <th>director_name_Adam Rifkin</th>\n",
       "      <th>...</th>\n",
       "      <th>num_voted_users</th>\n",
       "      <th>cast_total_facebook_likes</th>\n",
       "      <th>facenumber_in_poster</th>\n",
       "      <th>num_user_for_reviews</th>\n",
       "      <th>budget</th>\n",
       "      <th>title_year</th>\n",
       "      <th>actor_2_facebook_likes</th>\n",
       "      <th>imdb_score</th>\n",
       "      <th>aspect_ratio</th>\n",
       "      <th>movie_facebook_likes</th>\n",
       "    </tr>\n",
       "  </thead>\n",
       "  <tbody>\n",
       "    <tr>\n",
       "      <th>0</th>\n",
       "      <td>0</td>\n",
       "      <td>1</td>\n",
       "      <td>0</td>\n",
       "      <td>0</td>\n",
       "      <td>0</td>\n",
       "      <td>0</td>\n",
       "      <td>0</td>\n",
       "      <td>0</td>\n",
       "      <td>0</td>\n",
       "      <td>0</td>\n",
       "      <td>...</td>\n",
       "      <td>886204</td>\n",
       "      <td>4834</td>\n",
       "      <td>0.0</td>\n",
       "      <td>3054.0</td>\n",
       "      <td>237000000.0</td>\n",
       "      <td>2009.0</td>\n",
       "      <td>936.0</td>\n",
       "      <td>7.9</td>\n",
       "      <td>1.78</td>\n",
       "      <td>33000</td>\n",
       "    </tr>\n",
       "    <tr>\n",
       "      <th>1</th>\n",
       "      <td>0</td>\n",
       "      <td>1</td>\n",
       "      <td>0</td>\n",
       "      <td>0</td>\n",
       "      <td>0</td>\n",
       "      <td>0</td>\n",
       "      <td>0</td>\n",
       "      <td>0</td>\n",
       "      <td>0</td>\n",
       "      <td>0</td>\n",
       "      <td>...</td>\n",
       "      <td>471220</td>\n",
       "      <td>48350</td>\n",
       "      <td>0.0</td>\n",
       "      <td>1238.0</td>\n",
       "      <td>300000000.0</td>\n",
       "      <td>2007.0</td>\n",
       "      <td>5000.0</td>\n",
       "      <td>7.1</td>\n",
       "      <td>2.35</td>\n",
       "      <td>0</td>\n",
       "    </tr>\n",
       "    <tr>\n",
       "      <th>2</th>\n",
       "      <td>0</td>\n",
       "      <td>1</td>\n",
       "      <td>0</td>\n",
       "      <td>0</td>\n",
       "      <td>0</td>\n",
       "      <td>0</td>\n",
       "      <td>0</td>\n",
       "      <td>0</td>\n",
       "      <td>0</td>\n",
       "      <td>0</td>\n",
       "      <td>...</td>\n",
       "      <td>275868</td>\n",
       "      <td>11700</td>\n",
       "      <td>1.0</td>\n",
       "      <td>994.0</td>\n",
       "      <td>245000000.0</td>\n",
       "      <td>2015.0</td>\n",
       "      <td>393.0</td>\n",
       "      <td>6.8</td>\n",
       "      <td>2.35</td>\n",
       "      <td>85000</td>\n",
       "    </tr>\n",
       "    <tr>\n",
       "      <th>3</th>\n",
       "      <td>0</td>\n",
       "      <td>1</td>\n",
       "      <td>0</td>\n",
       "      <td>0</td>\n",
       "      <td>0</td>\n",
       "      <td>0</td>\n",
       "      <td>0</td>\n",
       "      <td>0</td>\n",
       "      <td>0</td>\n",
       "      <td>0</td>\n",
       "      <td>...</td>\n",
       "      <td>1144337</td>\n",
       "      <td>106759</td>\n",
       "      <td>0.0</td>\n",
       "      <td>2701.0</td>\n",
       "      <td>250000000.0</td>\n",
       "      <td>2012.0</td>\n",
       "      <td>23000.0</td>\n",
       "      <td>8.5</td>\n",
       "      <td>2.35</td>\n",
       "      <td>164000</td>\n",
       "    </tr>\n",
       "    <tr>\n",
       "      <th>5</th>\n",
       "      <td>0</td>\n",
       "      <td>1</td>\n",
       "      <td>0</td>\n",
       "      <td>0</td>\n",
       "      <td>0</td>\n",
       "      <td>0</td>\n",
       "      <td>0</td>\n",
       "      <td>0</td>\n",
       "      <td>0</td>\n",
       "      <td>0</td>\n",
       "      <td>...</td>\n",
       "      <td>212204</td>\n",
       "      <td>1873</td>\n",
       "      <td>1.0</td>\n",
       "      <td>738.0</td>\n",
       "      <td>263700000.0</td>\n",
       "      <td>2012.0</td>\n",
       "      <td>632.0</td>\n",
       "      <td>6.6</td>\n",
       "      <td>2.35</td>\n",
       "      <td>24000</td>\n",
       "    </tr>\n",
       "  </tbody>\n",
       "</table>\n",
       "<p>5 rows × 19683 columns</p>\n",
       "</div>"
      ],
      "text/plain": [
       "   color_ Black and White  color_Color  director_name_Aaron Schneider  \\\n",
       "0                       0            1                              0   \n",
       "1                       0            1                              0   \n",
       "2                       0            1                              0   \n",
       "3                       0            1                              0   \n",
       "5                       0            1                              0   \n",
       "\n",
       "   director_name_Aaron Seltzer  director_name_Abel Ferrara  \\\n",
       "0                            0                           0   \n",
       "1                            0                           0   \n",
       "2                            0                           0   \n",
       "3                            0                           0   \n",
       "5                            0                           0   \n",
       "\n",
       "   director_name_Adam Goldberg  director_name_Adam Marcus  \\\n",
       "0                            0                          0   \n",
       "1                            0                          0   \n",
       "2                            0                          0   \n",
       "3                            0                          0   \n",
       "5                            0                          0   \n",
       "\n",
       "   director_name_Adam McKay  director_name_Adam Rapp  \\\n",
       "0                         0                        0   \n",
       "1                         0                        0   \n",
       "2                         0                        0   \n",
       "3                         0                        0   \n",
       "5                         0                        0   \n",
       "\n",
       "   director_name_Adam Rifkin          ...           num_voted_users  \\\n",
       "0                          0          ...                    886204   \n",
       "1                          0          ...                    471220   \n",
       "2                          0          ...                    275868   \n",
       "3                          0          ...                   1144337   \n",
       "5                          0          ...                    212204   \n",
       "\n",
       "   cast_total_facebook_likes  facenumber_in_poster  num_user_for_reviews  \\\n",
       "0                       4834                   0.0                3054.0   \n",
       "1                      48350                   0.0                1238.0   \n",
       "2                      11700                   1.0                 994.0   \n",
       "3                     106759                   0.0                2701.0   \n",
       "5                       1873                   1.0                 738.0   \n",
       "\n",
       "        budget  title_year  actor_2_facebook_likes  imdb_score  aspect_ratio  \\\n",
       "0  237000000.0      2009.0                   936.0         7.9          1.78   \n",
       "1  300000000.0      2007.0                  5000.0         7.1          2.35   \n",
       "2  245000000.0      2015.0                   393.0         6.8          2.35   \n",
       "3  250000000.0      2012.0                 23000.0         8.5          2.35   \n",
       "5  263700000.0      2012.0                   632.0         6.6          2.35   \n",
       "\n",
       "   movie_facebook_likes  \n",
       "0                 33000  \n",
       "1                     0  \n",
       "2                 85000  \n",
       "3                164000  \n",
       "5                 24000  \n",
       "\n",
       "[5 rows x 19683 columns]"
      ]
     },
     "execution_count": 126,
     "metadata": {},
     "output_type": "execute_result"
    }
   ],
   "source": [
    "ohdf = toonehot(df)\n",
    "ohdf.head()"
   ]
  },
  {
   "cell_type": "markdown",
   "metadata": {},
   "source": [
    "From the dataframe head, we can see that the columns are now split out over multiple ... columns .... We can check this by selecting columns with the datatype 'object'."
   ]
  },
  {
   "cell_type": "code",
   "execution_count": 131,
   "metadata": {},
   "outputs": [
    {
     "data": {
      "text/html": [
       "<div>\n",
       "<table border=\"1\" class=\"dataframe\">\n",
       "  <thead>\n",
       "    <tr style=\"text-align: right;\">\n",
       "      <th></th>\n",
       "    </tr>\n",
       "  </thead>\n",
       "  <tbody>\n",
       "    <tr>\n",
       "      <th>0</th>\n",
       "    </tr>\n",
       "  </tbody>\n",
       "</table>\n",
       "</div>"
      ],
      "text/plain": [
       "Empty DataFrame\n",
       "Columns: []\n",
       "Index: [0]"
      ]
     },
     "execution_count": 131,
     "metadata": {},
     "output_type": "execute_result"
    }
   ],
   "source": [
    "ohdf.select_dtypes(include=['object']).head(1)"
   ]
  },
  {
   "cell_type": "markdown",
   "metadata": {},
   "source": [
    "Now that our dataset is cleaned up and converted to the correct datatypes, we can run the PCA using scikit learn."
   ]
  },
  {
   "cell_type": "code",
   "execution_count": 132,
   "metadata": {},
   "outputs": [
    {
     "data": {
      "text/plain": [
       "array([[ -1.22948006e-11,   1.22947025e-11,  -2.09364519e-13, ...,\n",
       "          1.46863933e-10,   4.04649219e-11,   5.34702099e-06],\n",
       "       [ -1.06568159e-10,   1.06567900e-10,  -2.29177538e-12, ...,\n",
       "          3.21066909e-09,   3.10334156e-10,   1.11389880e-04],\n",
       "       [  1.18625373e-07,  -1.18625372e-07,  -5.22977136e-10, ...,\n",
       "          3.96284771e-06,   1.72605716e-07,   6.82985836e-02],\n",
       "       [ -2.62498412e-07,   2.62498393e-07,   6.04357497e-09, ...,\n",
       "          1.94678470e-07,   7.87422320e-07,   1.26862279e-01],\n",
       "       [ -3.94738954e-07,   3.94738955e-07,  -3.35070412e-09, ...,\n",
       "          2.23190955e-06,   1.31958973e-06,   9.88765134e-01]])"
      ]
     },
     "execution_count": 132,
     "metadata": {},
     "output_type": "execute_result"
    }
   ],
   "source": [
    "pca = PCA(n_components=5, svd_solver = 'full')\n",
    "pca.fit(ohdf)\n",
    "pca.components_ "
   ]
  },
  {
   "cell_type": "code",
   "execution_count": 122,
   "metadata": {},
   "outputs": [
    {
     "data": {
      "text/plain": [
       "[0.76337773629957828,\n",
       " 0.23607880909400641,\n",
       " 0.00040173915128316896,\n",
       " 8.0326568196162961e-05,\n",
       " 6.1388886936007673e-05]"
      ]
     },
     "execution_count": 122,
     "metadata": {},
     "output_type": "execute_result"
    }
   ],
   "source": [
    "normalized_singular_values = list(pca.singular_values_/sum(pca.singular_values_))\n",
    "normalized_singular_values"
   ]
  },
  {
   "cell_type": "markdown",
   "metadata": {},
   "source": [
    "Principle Component Analysis reveals that the two first components account for close to 90% og the total variance."
   ]
  },
  {
   "cell_type": "code",
   "execution_count": 73,
   "metadata": {},
   "outputs": [
    {
     "data": {
      "text/plain": [
       "0    760505847.0\n",
       "1    309404152.0\n",
       "2    200074175.0\n",
       "3    448130642.0\n",
       "4            NaN\n",
       "5     73058679.0\n",
       "6    336530303.0\n",
       "7    200807262.0\n",
       "Name: gross, dtype: float64"
      ]
     },
     "execution_count": 73,
     "metadata": {},
     "output_type": "execute_result"
    }
   ],
   "source": [
    "df[['gross']['director_name' == 'James Cameron']].head(8)"
   ]
  },
  {
   "cell_type": "code",
   "execution_count": null,
   "metadata": {},
   "outputs": [],
   "source": []
  },
  {
   "cell_type": "code",
   "execution_count": null,
   "metadata": {},
   "outputs": [],
   "source": []
  },
  {
   "cell_type": "code",
   "execution_count": null,
   "metadata": {},
   "outputs": [],
   "source": []
  },
  {
   "cell_type": "code",
   "execution_count": null,
   "metadata": {},
   "outputs": [],
   "source": []
  },
  {
   "cell_type": "code",
   "execution_count": null,
   "metadata": {},
   "outputs": [],
   "source": []
  },
  {
   "cell_type": "code",
   "execution_count": null,
   "metadata": {},
   "outputs": [],
   "source": []
  },
  {
   "cell_type": "code",
   "execution_count": null,
   "metadata": {},
   "outputs": [],
   "source": []
  },
  {
   "cell_type": "code",
   "execution_count": null,
   "metadata": {},
   "outputs": [],
   "source": []
  },
  {
   "cell_type": "code",
   "execution_count": null,
   "metadata": {},
   "outputs": [],
   "source": []
  },
  {
   "cell_type": "code",
   "execution_count": null,
   "metadata": {},
   "outputs": [],
   "source": []
  },
  {
   "cell_type": "markdown",
   "metadata": {},
   "source": [
    "## Descriptive Analysis"
   ]
  },
  {
   "cell_type": "markdown",
   "metadata": {},
   "source": [
    "Analysis of relation between facebook likes and earnings"
   ]
  },
  {
   "cell_type": "code",
   "execution_count": null,
   "metadata": {},
   "outputs": [],
   "source": [
    "work = df[['movie_facebook_likes','gross']].dropna();\n",
    "work = work[(work != 0).all(1)];\n",
    "work.plot.scatter('movie_facebook_likes', 'gross', grid=True);"
   ]
  },
  {
   "cell_type": "markdown",
   "metadata": {},
   "source": [
    "Relation between movie_facebook_likes imdb_score"
   ]
  },
  {
   "cell_type": "code",
   "execution_count": null,
   "metadata": {},
   "outputs": [],
   "source": [
    "work.nlargest(5, 'movie_facebook_likes')"
   ]
  },
  {
   "cell_type": "code",
   "execution_count": null,
   "metadata": {},
   "outputs": [],
   "source": [
    "work = df[['imdb_score', 'movie_facebook_likes']].dropna();\n",
    "work = work[(work != 0).all(1)];\n",
    "work.plot.scatter('imdb_score', 'movie_facebook_likes', grid=True);"
   ]
  },
  {
   "cell_type": "code",
   "execution_count": null,
   "metadata": {},
   "outputs": [],
   "source": [
    "dfc = df.corr()\n",
    "np.fill_diagonal(dfc.values, 0)\n",
    "dfc"
   ]
  },
  {
   "cell_type": "code",
   "execution_count": null,
   "metadata": {},
   "outputs": [],
   "source": [
    "dfc.min()"
   ]
  },
  {
   "cell_type": "code",
   "execution_count": null,
   "metadata": {},
   "outputs": [],
   "source": [
    "work = df[['imdb_score', 'movie_facebook_likes']].dropna();\n",
    "work = work[(work != 0).all(1)];\n",
    "work.plot.scatter('imdb_score', 'movie_facebook_likes', grid=True);"
   ]
  },
  {
   "cell_type": "code",
   "execution_count": null,
   "metadata": {},
   "outputs": [],
   "source": []
  },
  {
   "cell_type": "code",
   "execution_count": null,
   "metadata": {},
   "outputs": [],
   "source": []
  },
  {
   "cell_type": "code",
   "execution_count": null,
   "metadata": {},
   "outputs": [],
   "source": []
  },
  {
   "cell_type": "code",
   "execution_count": null,
   "metadata": {},
   "outputs": [],
   "source": []
  },
  {
   "cell_type": "code",
   "execution_count": null,
   "metadata": {},
   "outputs": [],
   "source": []
  }
 ],
 "metadata": {
  "kernelspec": {
   "display_name": "Python 3",
   "language": "python",
   "name": "python3"
  },
  "language_info": {
   "codemirror_mode": {
    "name": "ipython",
    "version": 3
   },
   "file_extension": ".py",
   "mimetype": "text/x-python",
   "name": "python",
   "nbconvert_exporter": "python",
   "pygments_lexer": "ipython3",
   "version": "3.6.0"
  }
 },
 "nbformat": 4,
 "nbformat_minor": 2
}
