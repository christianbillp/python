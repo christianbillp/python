{
 "cells": [
  {
   "cell_type": "code",
   "execution_count": 1,
   "metadata": {},
   "outputs": [
    {
     "data": {
      "text/html": [
       "<script>\n",
       "code_show=true; \n",
       "function code_toggle() {\n",
       " if (code_show){\n",
       " $('div.input').hide();\n",
       " } else {\n",
       " $('div.input').show();\n",
       " }\n",
       " code_show = !code_show\n",
       "} \n",
       "$( document ).ready(code_toggle);\n",
       "</script>\n",
       "<form action=\"javascript:code_toggle()\"><input type=\"submit\" value=\"Click here to toggle on/off the raw code.\"></form>"
      ],
      "text/plain": [
       "<IPython.core.display.HTML object>"
      ]
     },
     "execution_count": 1,
     "metadata": {},
     "output_type": "execute_result"
    }
   ],
   "source": [
    "from IPython.display import HTML\n",
    "\n",
    "HTML('''<script>\n",
    "code_show=true; \n",
    "function code_toggle() {\n",
    " if (code_show){\n",
    " $('div.input').hide();\n",
    " } else {\n",
    " $('div.input').show();\n",
    " }\n",
    " code_show = !code_show\n",
    "} \n",
    "$( document ).ready(code_toggle);\n",
    "</script>\n",
    "<form action=\"javascript:code_toggle()\"><input type=\"submit\" value=\"Click here to toggle on/off the raw code.\"></form>''')"
   ]
  },
  {
   "cell_type": "code",
   "execution_count": 176,
   "metadata": {
    "collapsed": true
   },
   "outputs": [],
   "source": [
    "#%%\n",
    "from matplotlib import pyplot\n",
    "from math import cos, sin, atan\n",
    "\n",
    "\n",
    "class Neuron():\n",
    "    def __init__(self, x, y):\n",
    "        self.x = x\n",
    "        self.y = y\n",
    "\n",
    "    def draw(self, neuron_radius):\n",
    "        circle = pyplot.Circle((self.x, self.y), radius=neuron_radius, fill=False)\n",
    "        pyplot.gca().add_patch(circle)\n",
    "\n",
    "\n",
    "class Layer():\n",
    "    def __init__(self, network, number_of_neurons, number_of_neurons_in_widest_layer):\n",
    "        self.vertical_distance_between_layers = 10\n",
    "        self.horizontal_distance_between_neurons = 2\n",
    "        self.neuron_radius = 0.5\n",
    "        self.number_of_neurons_in_widest_layer = number_of_neurons_in_widest_layer\n",
    "        self.previous_layer = self.__get_previous_layer(network)\n",
    "        self.y = self.__calculate_layer_y_position()\n",
    "        self.neurons = self.__intialise_neurons(number_of_neurons)\n",
    "\n",
    "    def __intialise_neurons(self, number_of_neurons):\n",
    "        neurons = []\n",
    "        x = self.__calculate_left_margin_so_layer_is_centered(number_of_neurons)\n",
    "        for iteration in range(number_of_neurons):\n",
    "            neuron = Neuron(x, self.y)\n",
    "            neurons.append(neuron)\n",
    "            x += self.horizontal_distance_between_neurons\n",
    "        return neurons\n",
    "\n",
    "    def __calculate_left_margin_so_layer_is_centered(self, number_of_neurons):\n",
    "        return self.horizontal_distance_between_neurons * (self.number_of_neurons_in_widest_layer - number_of_neurons) / 2\n",
    "\n",
    "    def __calculate_layer_y_position(self):\n",
    "        if self.previous_layer:\n",
    "            return self.previous_layer.y + self.vertical_distance_between_layers\n",
    "        else:\n",
    "            return 0\n",
    "\n",
    "    def __get_previous_layer(self, network):\n",
    "        if len(network.layers) > 0:\n",
    "            return network.layers[-1]\n",
    "        else:\n",
    "            return None\n",
    "\n",
    "    def __line_between_two_neurons(self, neuron1, neuron2):\n",
    "        angle = atan((neuron2.x - neuron1.x) / float(neuron2.y - neuron1.y))\n",
    "        x_adjustment = self.neuron_radius * sin(angle)\n",
    "        y_adjustment = self.neuron_radius * cos(angle)\n",
    "        line = pyplot.Line2D((neuron1.x - x_adjustment, neuron2.x + x_adjustment), (neuron1.y - y_adjustment, neuron2.y + y_adjustment))\n",
    "        pyplot.gca().add_line(line)\n",
    "\n",
    "    def draw(self, layerType=0):\n",
    "        for neuron in self.neurons:\n",
    "            neuron.draw( self.neuron_radius )\n",
    "            if self.previous_layer:\n",
    "                for previous_layer_neuron in self.previous_layer.neurons:\n",
    "                    self.__line_between_two_neurons(neuron, previous_layer_neuron)\n",
    "        # write Text\n",
    "        x_text = self.number_of_neurons_in_widest_layer * self.horizontal_distance_between_neurons\n",
    "        if layerType == 0:\n",
    "            pyplot.text(x_text, self.y, 'Input Layer', fontsize = 12)\n",
    "        elif layerType == -1:\n",
    "            pyplot.text(x_text, self.y, 'Output Layer', fontsize = 12)\n",
    "        else:\n",
    "            pyplot.text(x_text, self.y, 'Hidden Layer '+str(layerType), fontsize = 12)\n",
    "\n",
    "class NeuralNetwork():\n",
    "    def __init__(self, number_of_neurons_in_widest_layer):\n",
    "        self.number_of_neurons_in_widest_layer = number_of_neurons_in_widest_layer\n",
    "        self.layers = []\n",
    "        self.layertype = 0\n",
    "\n",
    "    def add_layer(self, number_of_neurons ):\n",
    "        layer = Layer(self, number_of_neurons, self.number_of_neurons_in_widest_layer)\n",
    "        self.layers.append(layer)\n",
    "\n",
    "    def draw(self):\n",
    "        pyplot.figure(figsize=(8, 4))\n",
    "        for i in range( len(self.layers) ):\n",
    "            layer = self.layers[i]\n",
    "            if i == len(self.layers)-1:\n",
    "                i = -1\n",
    "            layer.draw( i )\n",
    "        pyplot.axis('scaled')\n",
    "        pyplot.axis('off')\n",
    "        pyplot.title( 'Neural Network architecture', fontsize=15 )\n",
    "        pyplot.show()\n",
    "\n",
    "class DrawNN():\n",
    "    def __init__( self, neural_network ):\n",
    "        self.neural_network = neural_network\n",
    "\n",
    "    def draw( self ):\n",
    "        widest_layer = max( self.neural_network )\n",
    "        network = NeuralNetwork( widest_layer )\n",
    "        for l in self.neural_network:\n",
    "            network.add_layer(l)\n",
    "        network.draw()"
   ]
  },
  {
   "cell_type": "code",
   "execution_count": 133,
   "metadata": {
    "collapsed": true
   },
   "outputs": [],
   "source": [
    "%matplotlib inline \n",
    "import pandas as pd\n",
    "import seaborn as sns\n",
    "import numpy as np\n",
    "import matplotlib.pyplot as plt\n",
    "from matplotlib.patches import Rectangle\n",
    "from sklearn.decomposition import PCA\n",
    "from sklearn.preprocessing import StandardScaler\n",
    "from sklearn.cluster import KMeans"
   ]
  },
  {
   "cell_type": "markdown",
   "metadata": {},
   "source": [
    "# Dataset and outline (fælles)"
   ]
  },
  {
   "cell_type": "markdown",
   "metadata": {},
   "source": [
    "Kristian Rygaard Svendsen (s153856)<br>\n",
    "Christian Bill Pedersen (s154241)"
   ]
  },
  {
   "cell_type": "code",
   "execution_count": 134,
   "metadata": {
    "collapsed": true
   },
   "outputs": [],
   "source": [
    "### 1. Explain which regression problem you have chosen to solve."
   ]
  },
  {
   "cell_type": "markdown",
   "metadata": {},
   "source": [
    "As mentioned in the previous report, the data we will be using is a webscraping of movie data from imdb.com. In this report we will explore regression and try to predict what revenue (gross) a movie will generate, based on available numerical data. The first step is to create a baseline prediction using simple linear regression. After we have a baseline to compare with, we will create an Artificial Neural Network for regression, which may perform better than our linear model. Finally we will evaluate the linear model against the neural network to see which model gives the best prediction.\n",
    "\n"
   ]
  },
  {
   "cell_type": "markdown",
   "metadata": {},
   "source": [
    "<b>Additional dataprocessing</b><br>\n",
    "As the dataset was created with automated webscraping and the author did not manually correct all the currencies, different countries use different currencies. Budget-values in different currencies, will misrepresent the movies actual budget cost, and cannot be used for training or testing our models. Since we are looking for misrepresentations in budget and gross, we should take a closer look at how values in these categories are distributed."
   ]
  },
  {
   "cell_type": "code",
   "execution_count": null,
   "metadata": {},
   "outputs": [],
   "source": [
    "import pandas as pd\n",
    "import matplotlib.pyplot as plt\n",
    "%matplotlib inline \n",
    "#figure_number = 0\n",
    "data = pd.Series({})\n",
    "data['raw'] = pd.read_csv(\"movie_metadata.csv\")\n",
    "#figure_number += 1\n",
    "#print(\"Figure: {} - Boxplot for budget and gross\".format(figure_number))"
   ]
  },
  {
   "cell_type": "code",
   "execution_count": 157,
   "metadata": {},
   "outputs": [
    {
     "data": {
      "image/png": "iVBORw0KGgoAAAANSUhEUgAAAecAAAEICAYAAABlHzwDAAAABHNCSVQICAgIfAhkiAAAAAlwSFlz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\nAABJRU5ErkJggg==\n",
      "text/plain": [
       "<matplotlib.figure.Figure at 0x206b61555f8>"
      ]
     },
     "metadata": {},
     "output_type": "display_data"
    }
   ],
   "source": [
    "data['raw'][['budget', 'gross']].plot(kind='box', title='Outliers in budget and gross', figsize=(8,4)); # too high values exist"
   ]
  },
  {
   "cell_type": "markdown",
   "metadata": {},
   "source": [
    "On the boxplot above, we can see that there are some extreme outliers in both gross and budget. These outliers are so far away from the remaining distribution, that it is impossible to get extract further information from the boxplot. It is therefore necessary to investigate why this happens, and if the outliers seem reasonable.\n",
    "\n",
    "To further investigate our outliers, we check the top 5 values for both budget and gross. Apart from the budget and cost, it may be useful to know the movie's title and origin country."
   ]
  },
  {
   "cell_type": "code",
   "execution_count": 158,
   "metadata": {
    "scrolled": false
   },
   "outputs": [
    {
     "name": "stdout",
     "output_type": "stream",
     "text": [
      "Top 5 movies (budget)\n"
     ]
    },
    {
     "data": {
      "text/html": [
       "<div>\n",
       "<style>\n",
       "    .dataframe thead tr:only-child th {\n",
       "        text-align: right;\n",
       "    }\n",
       "\n",
       "    .dataframe thead th {\n",
       "        text-align: left;\n",
       "    }\n",
       "\n",
       "    .dataframe tbody tr th {\n",
       "        vertical-align: top;\n",
       "    }\n",
       "</style>\n",
       "<table border=\"1\" class=\"dataframe\">\n",
       "  <thead>\n",
       "    <tr style=\"text-align: right;\">\n",
       "      <th></th>\n",
       "      <th>movie_title</th>\n",
       "      <th>country</th>\n",
       "      <th>budget</th>\n",
       "      <th>gross</th>\n",
       "    </tr>\n",
       "  </thead>\n",
       "  <tbody>\n",
       "    <tr>\n",
       "      <th>2988</th>\n",
       "      <td>The Host</td>\n",
       "      <td>South Korea</td>\n",
       "      <td>1.221550e+10</td>\n",
       "      <td>2201412.0</td>\n",
       "    </tr>\n",
       "    <tr>\n",
       "      <th>3859</th>\n",
       "      <td>Lady Vengeance</td>\n",
       "      <td>South Korea</td>\n",
       "      <td>4.200000e+09</td>\n",
       "      <td>211667.0</td>\n",
       "    </tr>\n",
       "    <tr>\n",
       "      <th>3005</th>\n",
       "      <td>Fateless</td>\n",
       "      <td>Hungary</td>\n",
       "      <td>2.500000e+09</td>\n",
       "      <td>195888.0</td>\n",
       "    </tr>\n",
       "    <tr>\n",
       "      <th>2323</th>\n",
       "      <td>Princess Mononoke</td>\n",
       "      <td>Japan</td>\n",
       "      <td>2.400000e+09</td>\n",
       "      <td>2298191.0</td>\n",
       "    </tr>\n",
       "    <tr>\n",
       "      <th>2334</th>\n",
       "      <td>Steamboy</td>\n",
       "      <td>Japan</td>\n",
       "      <td>2.127520e+09</td>\n",
       "      <td>410388.0</td>\n",
       "    </tr>\n",
       "  </tbody>\n",
       "</table>\n",
       "</div>"
      ],
      "text/plain": [
       "             movie_title      country        budget      gross\n",
       "2988           The Host   South Korea  1.221550e+10  2201412.0\n",
       "3859     Lady Vengeance   South Korea  4.200000e+09   211667.0\n",
       "3005           Fateless       Hungary  2.500000e+09   195888.0\n",
       "2323  Princess Mononoke         Japan  2.400000e+09  2298191.0\n",
       "2334           Steamboy         Japan  2.127520e+09   410388.0"
      ]
     },
     "execution_count": 158,
     "metadata": {},
     "output_type": "execute_result"
    }
   ],
   "source": [
    "budget_top5 = data['raw']['budget'].nlargest(5).keys()\n",
    "print(\"Top 5 movies (budget)\")\n",
    "data['raw'].loc[budget_top5][['movie_title', 'country', 'budget', 'gross']]"
   ]
  },
  {
   "cell_type": "code",
   "execution_count": 159,
   "metadata": {},
   "outputs": [
    {
     "name": "stdout",
     "output_type": "stream",
     "text": [
      "Top 5 movies (gross)\n"
     ]
    },
    {
     "data": {
      "text/html": [
       "<div>\n",
       "<style>\n",
       "    .dataframe thead tr:only-child th {\n",
       "        text-align: right;\n",
       "    }\n",
       "\n",
       "    .dataframe thead th {\n",
       "        text-align: left;\n",
       "    }\n",
       "\n",
       "    .dataframe tbody tr th {\n",
       "        vertical-align: top;\n",
       "    }\n",
       "</style>\n",
       "<table border=\"1\" class=\"dataframe\">\n",
       "  <thead>\n",
       "    <tr style=\"text-align: right;\">\n",
       "      <th></th>\n",
       "      <th>movie_title</th>\n",
       "      <th>country</th>\n",
       "      <th>budget</th>\n",
       "      <th>gross</th>\n",
       "    </tr>\n",
       "  </thead>\n",
       "  <tbody>\n",
       "    <tr>\n",
       "      <th>0</th>\n",
       "      <td>Avatar</td>\n",
       "      <td>USA</td>\n",
       "      <td>237000000.0</td>\n",
       "      <td>760505847.0</td>\n",
       "    </tr>\n",
       "    <tr>\n",
       "      <th>26</th>\n",
       "      <td>Titanic</td>\n",
       "      <td>USA</td>\n",
       "      <td>200000000.0</td>\n",
       "      <td>658672302.0</td>\n",
       "    </tr>\n",
       "    <tr>\n",
       "      <th>29</th>\n",
       "      <td>Jurassic World</td>\n",
       "      <td>USA</td>\n",
       "      <td>150000000.0</td>\n",
       "      <td>652177271.0</td>\n",
       "    </tr>\n",
       "    <tr>\n",
       "      <th>17</th>\n",
       "      <td>The Avengers</td>\n",
       "      <td>USA</td>\n",
       "      <td>220000000.0</td>\n",
       "      <td>623279547.0</td>\n",
       "    </tr>\n",
       "    <tr>\n",
       "      <th>794</th>\n",
       "      <td>The Avengers</td>\n",
       "      <td>USA</td>\n",
       "      <td>220000000.0</td>\n",
       "      <td>623279547.0</td>\n",
       "    </tr>\n",
       "  </tbody>\n",
       "</table>\n",
       "</div>"
      ],
      "text/plain": [
       "         movie_title country       budget        gross\n",
       "0            Avatar      USA  237000000.0  760505847.0\n",
       "26          Titanic      USA  200000000.0  658672302.0\n",
       "29   Jurassic World      USA  150000000.0  652177271.0\n",
       "17     The Avengers      USA  220000000.0  623279547.0\n",
       "794    The Avengers      USA  220000000.0  623279547.0"
      ]
     },
     "execution_count": 159,
     "metadata": {},
     "output_type": "execute_result"
    }
   ],
   "source": [
    "gross_top5 = data['raw']['gross'].nlargest(5).keys()\n",
    "print(\"Top 5 movies (gross)\")\n",
    "data['raw'].loc[gross_top5][['movie_title', 'country', 'budget', 'gross']]"
   ]
  },
  {
   "cell_type": "markdown",
   "metadata": {},
   "source": [
    "Looking at the tables for top movies, in terms of budget and gross, we can see that budget outliers mainly come from countries where the local currency has substantially less value than USD (used for gross). Discovering this inconsistency in currency is important for the validity of our data. These entries need to be dropped from our dataset, or converted into USD. \n",
    "\n",
    "It is the opinion of the authors that reducing the amount of currencies to only USD would have been ideal, but an alternative is to only use US movies. Before doing this though, we should first check the number of movies per country, specifically the US, to ensure that there is enough entries to work with."
   ]
  },
  {
   "cell_type": "code",
   "execution_count": 160,
   "metadata": {},
   "outputs": [
    {
     "data": {
      "image/png": "iVBORw0KGgoAAAANSUhEUgAAAYAAAAEsCAYAAADKGWQqAAAABHNCSVQICAgIfAhkiAAAAAlwSFlz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\n",
      "text/plain": [
       "<matplotlib.figure.Figure at 0x206b6155be0>"
      ]
     },
     "metadata": {},
     "output_type": "display_data"
    }
   ],
   "source": [
    "data['raw']['country'].value_counts().head(10).plot(kind='bar', grid=True, title='Movies per country'); # Perhaps make it a cumsum plot"
   ]
  },
  {
   "cell_type": "markdown",
   "metadata": {},
   "source": [
    "Looking at the top 10 movies-per-country we can see that the US contribute significantly to the dataset, with around 3800 movies, which is enough to work with.\n",
    "\n",
    "We can now create a reduced version of our dataset with only movies from the US. We also remove NA's and features which are unreliable : \"'actor_1_facebook_likes', 'actor_2_facebook_likes', 'actor_3_facebook_likes',                                         'cast_total_facebook_likes', 'director_facebook_likes', 'movie_facebook_likes',                                        'aspect_ratio', 'facenumber_in_poster'\". Lastly we create a numerical version of our dataset, which excludes categorical data, as well as a standardized version."
   ]
  },
  {
   "cell_type": "code",
   "execution_count": 161,
   "metadata": {
    "collapsed": true,
    "scrolled": true
   },
   "outputs": [],
   "source": [
    "from sklearn.preprocessing import StandardScaler\n",
    "data['reduced'] = data['raw'][data['raw']['country'] == 'USA']\n",
    "data['reduced'] = data['reduced'].drop(['actor_1_facebook_likes', 'actor_2_facebook_likes', 'actor_3_facebook_likes', \n",
    "                                        'cast_total_facebook_likes', 'director_facebook_likes', 'movie_facebook_likes',\n",
    "                                        'aspect_ratio', 'facenumber_in_poster'], axis=1)\n",
    "data['reduced'] = data['reduced'].dropna()\n",
    "data['numerical'] = data['reduced'].select_dtypes(exclude=['object'])\n",
    "data['standardized'] = StandardScaler().fit_transform(data['numerical'].values)\n",
    "data['standardized'] = pd.DataFrame(data['standardized'], columns=data['numerical'].columns.values)"
   ]
  },
  {
   "cell_type": "markdown",
   "metadata": {},
   "source": [
    "After creating a reduced dataset we can recheck our ourliers."
   ]
  },
  {
   "cell_type": "code",
   "execution_count": 162,
   "metadata": {},
   "outputs": [],
   "source": [
    "#budget_top15 = data['reduced']['budget'].nlargest(15).keys()\n",
    "#data['reduced'].loc[budget_top15][['movie_title', 'country', 'budget', 'gross']]"
   ]
  },
  {
   "cell_type": "code",
   "execution_count": 163,
   "metadata": {},
   "outputs": [],
   "source": [
    "#gross_top15 = data['reduced']['gross'].nlargest(15).keys()\n",
    "#data['reduced'].loc[gross_top15][['movie_title', 'country', 'budget', 'gross']]"
   ]
  },
  {
   "cell_type": "code",
   "execution_count": 164,
   "metadata": {},
   "outputs": [
    {
     "data": {
      "image/png": "iVBORw0KGgoAAAANSUhEUgAAAd0AAAEICAYAAAAazi7yAAAABHNCSVQICAgIfAhkiAAAAAlwSFlz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\nZhlx0jUzM8uIk66ZmVlG/j+uDyIZxkfBLAAAAABJRU5ErkJggg==\n",
      "text/plain": [
       "<matplotlib.figure.Figure at 0x206b6210fd0>"
      ]
     },
     "metadata": {},
     "output_type": "display_data"
    }
   ],
   "source": [
    "data['reduced'][['budget', 'gross']].plot(kind='box',figsize=(8,4), title='Outliers in budget and gross');"
   ]
  },
  {
   "cell_type": "markdown",
   "metadata": {},
   "source": [
    "From the above tables and graph we can see that the dataset has a more reasonable distribution and outliers in both budget and gross are roughly within a reasonable order of magnitude. It is expected that there will be outliers, but these should not be due to incorrect recording."
   ]
  },
  {
   "cell_type": "markdown",
   "metadata": {},
   "source": [
    "# Regression (Christian)"
   ]
  },
  {
   "cell_type": "markdown",
   "metadata": {},
   "source": [
    "We want to create to models for our regression analysis. A simple model using linear regression which will serve as our baseline prediction, and a more advanced neural network. For both our model, we first standardize our numerical data, and split our dataset into seperate training and test sets with a test-to-train ratio of 0.25."
   ]
  },
  {
   "cell_type": "code",
<<<<<<< HEAD
   "execution_count": 10,
=======
   "execution_count": 143,
>>>>>>> 73dab43ec64c48117b7e19729ce23def96094711
   "metadata": {
    "collapsed": true
   },
   "outputs": [],
   "source": [
    "from sklearn.model_selection import train_test_split\n",
    "\n",
    "X = data['standardized'].drop('gross', axis=1)\n",
    "y = data['standardized'][['gross']]\n",
    "\n",
    "X_train, X_test, y_train, y_test = train_test_split(X, y, test_size=0.25, random_state=42)"
   ]
  },
  {
   "cell_type": "code",
   "execution_count": 144,
   "metadata": {
    "collapsed": true
   },
   "outputs": [],
   "source": [
    "## 2. Apply linear regression with forward selection and consider if transforming or combining attributes potentially may be useful. For linear regression, plotting the residual error vs. the attributes can give some insight into whether including a transformation of a variable can improve the model, i.e. potentially describe parts of the residuals."
   ]
  },
  {
   "cell_type": "markdown",
   "metadata": {},
   "source": [
    "## Linear Regression"
   ]
  },
  {
   "cell_type": "markdown",
   "metadata": {},
   "source": [
    "<b>Forward feature selection</b><br>\n",
    "Before creating our linear model, we want to check which features are the most significant. We can do this with forward selection. With this method of feature selection an unused feature, which gives the largest descrease in error, is added to the regression model. When there are no features left that descrease the error, or all features are allocated, the iteration is over. We will do forward selection for 5 iterations and investigate what features our model should be using."
   ]
  },
  {
   "cell_type": "code",
   "execution_count": 166,
   "metadata": {
    "scrolled": false
   },
   "outputs": [
    {
     "data": {
      "image/png": "iVBORw0KGgoAAAANSUhEUgAAAPsAAAC6CAYAAABodjtvAAAABHNCSVQICAgIfAhkiAAAAAlwSFlz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\nwR4EbUIEexC0Cf8f/Kxx0LKgPNsAAAAASUVORK5CYII=\n",
      "text/plain": [
       "<matplotlib.figure.Figure at 0x206b5698748>"
      ]
     },
     "metadata": {},
     "output_type": "display_data"
    }
   ],
   "source": [
    "# exercise 6.2.1\n",
    "from matplotlib.pyplot import figure, plot, subplot, title, xlabel, ylabel, show, clim\n",
    "from scipy.io import loadmat\n",
    "import sklearn.linear_model as lm\n",
    "from sklearn import cross_validation\n",
    "from toolbox_02450 import feature_selector_lr, bmplot\n",
    "import numpy as np\n",
    "\n",
    "# Load data from dataset\n",
    "X = data['standardized'].drop('gross', axis=1)\n",
    "y = data['standardized'][['gross']]\n",
    "\n",
    "attributeNames = X.columns.values\n",
    "N, M = X.shape\n",
    "\n",
    "\n",
    "## Crossvalidation\n",
    "# Create crossvalidation partition for evaluation\n",
    "K = 5\n",
    "CV = cross_validation.KFold(N,K,shuffle=True)\n",
    "\n",
    "# Initialize variables\n",
    "Features = np.zeros((M,K))\n",
    "Error_train = np.empty((K,1))\n",
    "Error_test = np.empty((K,1))\n",
    "Error_train_fs = np.empty((K,1))\n",
    "Error_test_fs = np.empty((K,1))\n",
    "Error_train_nofeatures = np.empty((K,1))\n",
    "Error_test_nofeatures = np.empty((K,1))\n",
    "\n",
    "k=0\n",
    "for train_index, test_index in CV:\n",
    "    \n",
    "    # extract training and test set for current CV fold\n",
    "    X_train = X.values[train_index,:]\n",
    "    y_train = y.values[train_index]\n",
    "    X_test = X.values[test_index,:]\n",
    "    y_test = y.values[test_index]\n",
    "    internal_cross_validation = 10\n",
    "    \n",
    "    # Compute squared error without using the input data at all\n",
    "    Error_train_nofeatures[k] = np.square(y_train-y_train.mean()).sum()/y_train.shape[0]\n",
    "    Error_test_nofeatures[k] = np.square(y_test-y_test.mean()).sum()/y_test.shape[0]\n",
    "\n",
    "    # Compute squared error with all features selected (no feature selection)\n",
    "    m = lm.LinearRegression(fit_intercept=True).fit(X_train, y_train)\n",
    "    Error_train[k] = np.square(y_train-m.predict(X_train)).sum()/y_train.shape[0]\n",
    "    Error_test[k] = np.square(y_test-m.predict(X_test)).sum()/y_test.shape[0]\n",
    "\n",
    "    # Compute squared error with feature subset selection\n",
    "    #textout = 'verbose';\n",
    "    textout = '';\n",
    "    selected_features, features_record, loss_record = feature_selector_lr(X_train, y_train, internal_cross_validation,display=textout)\n",
    "    \n",
    "    Features[selected_features,k]=1\n",
    "    # .. alternatively you could use module sklearn.feature_selection\n",
    "    if len(selected_features) is 0:\n",
    "        print('No features were selected, i.e. the data (X) in the fold cannot describe the outcomes (y).' )\n",
    "    else:\n",
    "        m = lm.LinearRegression(fit_intercept=True).fit(X_train[:,selected_features], y_train)\n",
    "        Error_train_fs[k] = np.square(y_train-m.predict(X_train[:,selected_features])).sum()/y_train.shape[0]\n",
    "        Error_test_fs[k] = np.square(y_test-m.predict(X_test[:,selected_features])).sum()/y_test.shape[0]\n",
    "    '''\n",
    "        figure(k)\n",
    "        subplot(1,2,1)\n",
    "        plot(range(1,len(loss_record)), loss_record[1:])\n",
    "        xlabel('Iteration')\n",
    "        ylabel('Squared error (crossvalidation)')    \n",
    "        \n",
    "        subplot(1,3,3)\n",
    "        bmplot(attributeNames, range(1,features_record.shape[1]), -features_record[:,1:])\n",
    "        clim(-1.5,0)\n",
    "        xlabel('Iteration')\n",
    "    \n",
    "    print('Cross validation fold {0}/{1}'.format(k+1,K))\n",
    "    print('Train indices: {0}'.format(train_index))\n",
    "    print('Test indices: {0}'.format(test_index))\n",
    "    print('Features no: {0}\\n'.format(selected_features.size))\n",
    "    ''';\n",
    "    k+=1\n",
    "\n",
    "\n",
    "# Display results\n",
    "'''\n",
    "print('\\n')\n",
    "print('Linear regression without feature selection:\\n')\n",
    "print('- Training error: {0}'.format(Error_train.mean()))\n",
    "print('- Test error:     {0}'.format(Error_test.mean()))\n",
    "print('- R^2 train:     {0}'.format((Error_train_nofeatures.sum()-Error_train.sum())/Error_train_nofeatures.sum()))\n",
    "print('- R^2 test:     {0}'.format((Error_test_nofeatures.sum()-Error_test.sum())/Error_test_nofeatures.sum()))\n",
    "print('Linear regression with feature selection:\\n')\n",
    "print('- Training error: {0}'.format(Error_train_fs.mean()))\n",
    "print('- Test error:     {0}'.format(Error_test_fs.mean()))\n",
    "print('- R^2 train:     {0}'.format((Error_train_nofeatures.sum()-Error_train_fs.sum())/Error_train_nofeatures.sum()))\n",
    "print('- R^2 test:     {0}'.format((Error_test_nofeatures.sum()-Error_test_fs.sum())/Error_test_nofeatures.sum()))\n",
    "''';\n",
    "figure(k)\n",
    "subplot(1,3,2)\n",
    "bmplot(attributeNames, range(1,Features.shape[1]+1), -Features)\n",
    "clim(-1.5,0)\n",
    "xlabel('Crossvalidation fold')\n",
    "ylabel('Attribute')\n",
    "\n",
    "\n",
    "# Inspect selected feature coefficients effect on the entire dataset and\n",
    "# plot the fitted model residual error as function of each attribute to\n",
    "# inspect for systematic structure in the residual\n",
    "'''\n",
    "f=2 # cross-validation fold to inspect\n",
    "ff=Features[:,f-1].nonzero()[0]\n",
    "if len(ff) is 0:\n",
    "    print('\\nNo features were selected, i.e. the data (X) in the fold cannot describe the outcomes (y).' )\n",
    "else:\n",
    "    m = lm.LinearRegression(fit_intercept=True).fit(X.values[:,ff], y)\n",
    "    \n",
    "    y_est= m.predict(X.values[:,ff])\n",
    "    residual=y-y_est\n",
    "    \n",
    "    figure(k+1)\n",
    "    title('Residual error vs. Attributes for features selected in cross-validation fold {0}'.format(f))\n",
    "    for i in range(0,len(ff)):\n",
    "       subplot(2,np.ceil(len(ff)/2.0),i+1)\n",
    "       plot(X.values[:,ff[i]],residual,'.')\n",
    "       xlabel(attributeNames[ff[i]])\n",
    "       ylabel('residual error')\n",
    "    \n",
    "    \n",
    "    show()    \n",
    "''';"
   ]
  },
  {
   "cell_type": "markdown",
   "metadata": {},
   "source": [
    "In the crossvalidation graph we can see that a model with: 'title_year', 'budget', 'num_voted_users' and 'duration' yields the best result."
   ]
  },
  {
   "cell_type": "markdown",
   "metadata": {},
   "source": [
    "<b>Residual analysis</b><br>\n",
    "As a final analysis before creating our linear model, we can investigate the residual distributions for features selected in a crossvalidation fold."
   ]
  },
  {
   "cell_type": "code",
   "execution_count": 169,
   "metadata": {},
   "outputs": [
    {
     "data": {
      "image/png": "iVBORw0KGgoAAAANSUhEUgAAAfQAAAGTCAYAAADeJ+BoAAAABHNCSVQICAgIfAhkiAAAAAlwSFlz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\n",
      "text/plain": [
       "<matplotlib.figure.Figure at 0x206b82b1e80>"
      ]
     },
     "metadata": {},
     "output_type": "display_data"
    }
   ],
   "source": [
    "# Inspect selected feature coefficients effect on the entire dataset and\n",
    "# plot the fitted model residual error as function of each attribute to\n",
    "# inspect for systematic structure in the residual\n",
    "\n",
    "f=3 # cross-validation fold to inspect\n",
    "ff=Features[:,f-1].nonzero()[0]\n",
    "if len(ff) is 0:\n",
    "    print('\\nNo features were selected, i.e. the data (X) in the fold cannot describe the outcomes (y).' )\n",
    "else:\n",
    "    m = lm.LinearRegression(fit_intercept=True).fit(X.values[:,ff], y)\n",
    "    \n",
    "    y_est= m.predict(X.values[:,ff])\n",
    "    residual=y-y_est\n",
    "    figure(figsize=(8,6.5))\n",
    "    title('Residual error vs. Attributes for features selected in cross-validation fold {0}'.format(f))\n",
    "    for i in range(0,len(ff)):\n",
    "       subplot(2,np.ceil(len(ff)/2.0),i+1)\n",
    "       plot(X.values[:,ff[i]],residual,'.')\n",
    "       xlabel(attributeNames[ff[i]])\n",
    "       ylabel('residual error')    \n",
    "    show()    "
   ]
  },
  {
   "cell_type": "markdown",
   "metadata": {},
   "source": [
    "When we look at the residual graphs we can see that there is no immediately visible pattern and residuals seem to be clustered around 0. It does seem that the residuals for 'num_votes_users' and 'title_year' has a somewhat heteroscedastic. While this might not be a problem, it might be worth considering if further experimentation with feature transformation might improve the model."
   ]
  },
  {
   "cell_type": "markdown",
   "metadata": {},
   "source": [
    "<b>Linear Model baseline prediction</b><br>\n",
    "We now have everything we need to create our linear model. To calculate our error rate we will use the mean squared error method, comparing the predicted against the true values from our test set."
   ]
  },
  {
   "cell_type": "code",
   "execution_count": 171,
   "metadata": {},
   "outputs": [
    {
     "data": {
      "image/png": "iVBORw0KGgoAAAANSUhEUgAAAYQAAAEWCAYAAABmE+CbAAAABHNCSVQICAgIfAhkiAAAAAlwSFlz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\nAAAASUVORK5CYII=\n",
      "text/plain": [
       "<matplotlib.figure.Figure at 0x206b82cdb38>"
      ]
     },
     "metadata": {},
     "output_type": "display_data"
    }
   ],
   "source": [
    "from sklearn.linear_model import LinearRegression\n",
    "from sklearn.metrics import mean_squared_error, r2_score\n",
    "from sklearn.model_selection import train_test_split\n",
    "\n",
    "X = data['standardized'][['duration', 'num_voted_users', 'budget', 'title_year']]\n",
    "\n",
    "#X = data['standardized'].drop('gross', axis=1)\n",
    "y = data['standardized'][['gross']]\n",
    "\n",
    "X_train, X_test, y_train, y_test = train_test_split(X, y, test_size=0.25, random_state=42)\n",
    "\n",
    "lm = LinearRegression()\n",
    "lm.fit(X_train, y_train)\n",
    "y_pred = lm.predict(X_test)\n",
    "error = mean_squared_error(y_test, y_pred)\n",
    "\n",
    "# Visualize prediction against true value\n",
    "plt.figure(figsize=(6,4))\n",
    "plt.plot(y_test,y_pred,'.')\n",
    "plt.grid()\n",
    "plt.title('{0}, Mean squared error: {1:.04f}'.format(y_train.columns[0], error))\n",
    "plt.xlabel('True Value')\n",
    "plt.ylabel('Predicted Value')\n",
    "plt.show()"
   ]
  },
  {
   "cell_type": "markdown",
   "metadata": {},
   "source": [
    "With a mean squared error of 0.4681 our model isn't great at predicting, but hopefully we can create a better prediction with the neural network."
   ]
  },
  {
   "cell_type": "code",
   "execution_count": 148,
   "metadata": {
    "collapsed": true
   },
   "outputs": [],
   "source": [
    "## 3. Explain how a new data observation is predicted according to the estimated model. I.e. what are the effects of the selected attributes in terms of predicting the data. (Notice, if you interpret the magnitude of the estimated coefficients this in general requires that each attribute be normalized prior to the analysis.)."
   ]
  },
  {
   "cell_type": "markdown",
   "metadata": {},
   "source": [
    "<b>Prediction method</b><br>\n",
    "The model is now able to predict the gross of a movie based on four features: 'title_year', 'budget', 'num_voted_users' and 'duration'. This prediction is calculated based on a bias called the intercept, and one scalar weight for each feature. The prediction is calculated by summing up all weight and feature product, and adding the intercept. We can get a better overview of exactly how much each feature contributes, by showing the weights in a table and a graph."
   ]
  },
  {
   "cell_type": "code",
   "execution_count": 173,
   "metadata": {
    "scrolled": false
   },
   "outputs": [
    {
     "name": "stdout",
     "output_type": "stream",
     "text": [
      "title_year       :\t-0.0567\n",
      "budget           :\t0.4946\n",
      "num_voted_users  :\t0.4912\n",
      "duration         :\t-0.0936\n"
     ]
    },
    {
     "data": {
      "image/png": "iVBORw0KGgoAAAANSUhEUgAAAe8AAAEFCAYAAADKVm8pAAAABHNCSVQICAgIfAhkiAAAAAlwSFlz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\nTkSuQmCC\n",
      "text/plain": [
       "<matplotlib.figure.Figure at 0x206b8681748>"
      ]
     },
     "metadata": {},
     "output_type": "display_data"
    }
   ],
   "source": [
    "for feature in zip(['title_year', 'budget', 'num_voted_users', 'duration'], lm.coef_[0]):\n",
    "    print(\"{:17}:\\t{:.4f}\".format(feature[0], feature[1]))\n",
    "pd.DataFrame(lm.coef_, columns=X.columns.values.tolist()).plot.bar(grid=True, figsize=(8,4), title='Feature weights');"
   ]
  },
  {
   "cell_type": "markdown",
   "metadata": {},
   "source": [
    "From the above graph and table we can see that some features contribute significantly less than others. It is of course always possible a better model exists, but according to our feature selection, this is the best model we can make with the features available."
   ]
  },
  {
   "cell_type": "code",
   "execution_count": 153,
   "metadata": {
    "collapsed": true
   },
   "outputs": [],
   "source": [
    "## 4. Fit an artificial neural network (ANN) model to the data."
   ]
  },
  {
   "cell_type": "markdown",
   "metadata": {},
   "source": [
    "<b>Artificial Neural Network Predictor</b><br>\n",
    "With a baseline prediction established, we can move on to creating a neural network model. We will use a simple model with a single 15 node layer and a single output node, and since we are working with a regression problem, we will use a linear function as our activation."
   ]
  },
  {
   "cell_type": "code",
   "execution_count": 177,
   "metadata": {},
   "outputs": [
    {
     "data": {
      "image/png": "iVBORw0KGgoAAAANSUhEUgAAAaoAAAEKCAYAAABDkxEYAAAABHNCSVQICAgIfAhkiAAAAAlwSFlz\nAAALEgAACxIB0t1+/AAAADl0RVh0U29mdHdhcmUAbWF0cGxvdGxpYiB2ZXJzaW9uIDIuMS4wLCBo\ndHRwOi8vbWF0cGxvdGxpYi5vcmcvpW3flQAAIABJREFUeJzsnXeYVEXWh98zQwZBsoBIm901rBmz\nmEODed01s645+4nSugZcXW3Tqos5u+rqGkFpXQUVs5gTpnW1EQRRQZScpr4/zrn0nZ4O93YPMED9\nnmeemblVdW7dVKdO1XvrinMOLy8vLy+vpqqapV0BLy8vLy+vUvKOysvLy8urScs7Ki8vLy+vJi3v\nqLy8vLy8mrS8o/Ly8vLyatLyjsrLy8vLq0nLO6oSEpEhIuJE5NkCaY+KyOilUK2SEpGE1bl/mXzO\nfrbO276Bbe8Xc78Hi8jA+DVuXFndT1na9QhLREaLyKNl8jS4biJyTtzrEKNOu4vIGYvDtpdXY8s7\nqmjaXUS2WNqVWEw6v5HsHAwMbCRbK6ImAVsDr4a2nQP0W0z72x3wjsprmZB3VOU1FfgI+MvSqoCI\n1IpIi8VgejSwt4hsshhsL1GJSOtleZ/OubnOuTedc9May+aS1NI4/14rjryjKi8HXAbsIyIblsoo\nIquJyEMiMlVEZonIsyKybii9nw3vbJBXrt7QkIjcIyLviMh+IjIWmAP0FZEeInKXiHwtIrNF5EsR\nubQKJ/Y48CkRnLCIHCMiY0VkroiME5FzwvUFDgR2DA0pDhGRo0Vkpog0D+WdKCI/iYjY/zUiMk1E\njg3l2VlExojIHBGZLCI3iUi7UHpwHvcQkSdFZAZwQ5F6byAi34vIfSJSWyTPenbdxtt1GysiZ4hI\nTShP0X1aR+Jcux5zRWSCnZP8/RwqIl+JyK8i8oyIrBpKqzf0JyJZoDNwUeic9guds5TZmmv7ParA\n/vYXkbfsXpkiIk+LSB8RGQKcBfQJ2b7HyjQYpsy/b0N1PUxE/iki04CnQvmL3iteXpWo2dKuwDKi\nR4CL0Qb9j4UyiEgndNhmCnACMAtIAaNEZB3n3OyY+0wAVwJ/BSYD3wBd0Ajv/4CfgXWAIUBX4PiY\n9iHnhO8Tkd865z4tlElEzrZ8V6JR2GbAJSIyyzl3A3AJsBqwMnCSFZsAtALaAJsCY0RkbaAbUAf8\nFhgL/A7oALxi+/ot8B9gJOr8egNpYA1gz7yq3QncDVyHOvP8em9idp4AjnfO1RU5D72AL4AHgOnA\nxuj1bg1cHmGftwJH2vl5CegEHJRXri/QE3UQrYHrgduAvYvUaX/gReBR4A7bFlyfocBR6L3xHrAb\ncJeITHHOjbBjPwL4J/AQen0E2Bm9V+4A1rb/9zebPxapRyldjXZ2fg8stP2Wu1e8vOLLOed/ivyg\nTuAn+3sg+jCuY/8/CowO5b0EdVKdQts6Ar8AJ9v//VDnsEHefkYDj4b+v8fybVymfs2AQ9EGs4Vt\nS1jZ/mXKOuAUoBb4CrjPtm9gaf3s//bADOCivPJ/Bb4Hagudj1C+icAg+/to4F3gDeAE23Ya8EMo\n/0PAfwO7tu1gq9PWeefx2hLH1Rd15kMBiXHNxc7recDXoe0F9wmsZ9tPK2FztN0HHUPbzrByrYtd\nN+AnYEierbVQR39U3vZ/Am/b3zXAd8DjJep0NZAtUtdH87bVu29DdX0iL1+ke8X/+J+4P37oL7ru\nB74Fzi2Svivae/9VRJqJSDO0d/4usHkF+/vOOfdBeIOozhCRT0VkNjAfjQJaohFNbDnnFqIRyyEi\nsmaBLFsDbYFHguOyY3sB6A6sWqBMWK8C29vfOwAv2094Wxgg2BJtABeGtj0GLAC2y7OdKbLPbdFr\ncZtz7lTnXMmVl0WklYhcLCJfAXPR8/o3YHU71lL73Ml+31NqH6gT+Tn0fxAd9SpTLl+7oI7qibzr\n8TywsQ1vrotGb3fHtB1X+eei2nvFy6ugvKOKKOfcAnQ443AR6VMgSxfgD2gjF/7ZCR2+iqvJBbad\nAVyDDmXtizbqJ1taqwr2EeifaOQzuEBaF/s9lvrH9aJtL3dsLwPb2ZzU9ugQ3yvkHNV29n+gHuQd\nuzmtKeiQWliFzhEo0dYMPa4ougIYRG4obgvgUkvLP6/5++wMzHTO/VpmH/mQxLwi9supCxoF/0L9\n63EPesw9rE6gJOHiVP65qPZe8fIqKD9HFU93oTh3oQZ9KvAkOgSYr+n2O5jTyIcfOqHDPGEVigJ+\nDzzinFsEP9icTlVyzs0TkavIzTmENdV+96ewY/iijPlX0OPbDVjd/p8P9BKR3dGedthRTULnsRbJ\nooTOobosqnqRfV6KRbgisr1z7n9l6vh7YKhz7srQPpNF8ubvcwrQVkTaR3BWjaGpaHS5LRpZ5esH\nYCX7u0cF9udQ+P4spPxzUe294uVVUN5RxZBzbq6IXI1OsL+LNriBnkfnUsa64uDEBPv9G3QSHBHp\njQ7VfBmhCq3RoamwDotW+7K6HYVF8gmtN4DZQE/nXLGhNtAIoVB08DEaTfwF+Nw59yOAiHxi22YA\n4SHOMcD+InJeaPjvAPReDQ8RltJ8FGZ4GoVZtnPOfVcif73zao6xIDRTQC/Y7yMpQh5WoULn9AU0\nourgnBtZqJCIfIHOUR1FiMaLYBv0Ht0hb9tuEesb9V7x8ool76ji61Z0on0blPAK9HfgcOAFERmK\nNhTdgR2BV51zDzrnJojI2xgFhQ69nkfDSKGYRgKnicgY4H+ok1qrEY4J59wcEfk7OgwW3j7NcObr\nbcjzZav3OsBOzrmAGvsc2FdE9kMbu4nOuYnOuToReQ1Ioucu0CvosOVIG1YNdCnwPjBMRG5G5zWu\nAJ51zr0R43hmi8gAYBTqrHYInGQBjQROtjmqqVavlhH384WI3AZcIyLd0POzMnCQcy6qsyumz4Gk\niPwHdehf2P5uAR4SkSuBd1CHsz4K+hxj5/wc4AEReQB4EI1+dgYedM69Y7a7i64m8gkKDWXRYeU/\ni8i16BzUTsAeEc9F1HvFyyueljbN0ZR/CFF/edvPQx/80XnbgwnsyWgPPYtCGOuH8qyFklUz0aGQ\nfSlM/b1TYL/tzP5U+7kDHWYpRGRFov4K2J9CiPoLpR2ORpGzUZpuDPB/ofQuaCM31coPCaUNtm2H\nhrb9wbZdWKBuu5j9OehQ1k1Au1B6v/AxlzoulLz8AI1gOxQ5F92t7r/atbsSONZstYuwz1q7J75G\nI5UJwN2h9HrXt5C9QtcNRbvftHslTGIKOl851u6zH9FO05F5+zjArtkcu64ZoI+ltbJ76QezfU+o\n3LnAeHTI+n5gnzj3WLl7xf/4n7g/4pz/FL2Xl5eXV9OVp/68vLy8vJq0vKPy8vLy8mrS8o7Ky8vL\ny6tJyzsqLy8vL68mLe+ovLy8vLyatLyj8vLy8vJq0vKOysvLy8urScs7Ki8vLy+vJi3vqLy8vLy8\nmrS8o/Ly8vLyatLyjsrLy8vLq0nLOyovLy+vMhKRgSLysYjMEpHvReRmEVk5RvmsiOzaiPUpaU9E\n+onIhGLpy5q8o/Ly8vIqIRE5C/3UzNlAB2AroA/6Yc78j0x6mey7bo0i76i8llmJSBsR2UpEthWR\njku7Pl7Ln0SkPXAxcKpz7j/OuflOv9t1MOqsDrd894jIpaFyiyIaEbkPWA14SkRmiMg5IpIQESci\nx4nIRBGZZA6RSuzFPKakiLwvIr+KyHj7hliQlhGRU/Pyf2TfmUNE1hORkSIyVUS+EJGD8+p8s4g8\nLSIz0W+ZNYq8o/Ja5mQO6irgW+BG4GrgaxG5W0RWWbq181rOtA367a7HwxudczOAZ4jw9WPn3BHo\nvTrAOdfOOXdlKHknYG1gdyAVZXiwjL0omol+kXpl9IOmJwaOCLgXc74AIvI7oBfwtIi0RT8y+i+g\nG3AIcJOIrB+yfSjwN2Alon+Ru6y8o/JapiQirYH/oF/+3cI5t5lzbmv0K7KTgddFpMfSrKPXcqUu\n6MdTFxRIm2Tp1ehi59xM59zH6IcsD6nSXlk550Y75z52ztU55z5CvwC9oyUPB9YWkbXt/yOAfzvn\n5qEfac065+52zi1wzr0HPAYcFDI/3Dn3mtme01h19o7Ka1nT6ehXhA9zzn0TbHTO/eicSwEPoRGW\nl1dj6Cegi4g0K5DWw9Kr0fjQ3+PQr4QvVolIXxF5UUR+FJFfgBMwh+ucmws8DBwuIjWo47zPivYB\n+orItOAHOAwIj2KEj6fR5B2V1zIje3BOBC5xztUVyXYVkBSRbkuuZl7Lsd4A5gIHhDfaMNhewPO2\naSbQJpQlfwi62KfUe4f+Xg2YWKW9KPoX8CTQ2znXAbgFkFD6vagD2gWY5Zx7w7aPB15yzq0c+mnn\nnDuxkepVVN5ReS1L6ga0cc69WyyDc+5n4D1goyVWK6/lVs65X1CYYqiI7CkizUUkATwCTCAXbXwA\n7C0inWye9Iw8U5OBNQrs4gKbc10f+BPw7yrt1ZOItMr7EXT+aKpzbo6IbInOK4WP+Q2gDrgmdHwA\nI4B1ROQIOw/NRWQLEflNuXpUK++ovJYl1QG19rCVUq3l9fKqWgYrnIcOKf8KjEGji11sqAy0Qf8Q\nyALPkXM4gS4Hzrchs0Gh7S8BX6GR2dXOueeqtBdWL2B23s+awEnAX0VkOnAhOtSXr38CGwL3h87D\ndBT6+CMa+X2PYvsti+y/0STOLZZIzcur0WUO6tN2m+x98fT3Mg8VytN579M3n/rsTSOpW7C6c27a\nEq6il1ckWVT2DdC8CKixVCUiRwLHOee2W9p1ASg0Qejl1STVZ/CILgt+/aF57UpdHlxt0LBu3169\n3z/qpZ/z5CbtNtj1rTZr9Z1R26ZDd8A7Ki+vmBKRNmjUddPSrksgH1F5LRNKpDK7Aw875zqICM7V\nsXDGzy/UtulwptQ2+3nB9J8urW3b8QipqQ2GBecDJwN3ZNNJf5N7NSk11YhKRPZA3xkbBRzYVOrm\nHZVXk1YilWkJpGk4mYxzdbBwIXVzZyysadWulppaB0LeHNZw4M/ZdHLKkqqzl5dX48o7Kq8mq0Qq\n81v0vagN85LqgPnOuVk4VwtuFlLT2d51yQctHEpIHZZNJ19Y/LX28vJqbHlH5dXklEhlBH0J8Vp0\nHrUGdUAL0PdLWgCt0eG9723beqgD+xmlkNqGyojZuAq4IJtOzluCh+Pl5VWlPJ7u1aSUSGW6osN1\nN6H3Z+BofgFmoKtXTwC+A5rbthlW/CP73Q51YHNQRzcXdWLnAK8nUpl1l8SxeHl5NY68o/JqMjJg\n4iP0jf+FwHQ0OvoWjZDmAl+gi3iOsWLTgVn28y3QGXgN6GTbvkff8P/Z8v8WeC+RyhxjkZuXl1cT\nl3dUXktdiVSmZSKV+TvwLBoBNUNfqOyErjKxGkohdbf/F6BR1C/oS4wOfZO/ExppzbM8nwNdUefX\nBX15sjU6VHg78Ggilem8JI7Ry8urcnlH5bVUZcDEGOBM1JF0Ad4FEugb+Zuiy9XsDDyAflZhOBYZ\nhUy9C2wC3AX0A4ain2i4C11OKWM2P0KjronAAODDRCqz8+I6Pi8vr+rlHZXXUlEilZFEKnMi6mBW\nRVeO7o1GVZuhy7psizqxldH5pldQRxY4n/Caf++iw4Oj0QjLoRHVLuginHsDt1q5N9H1zn5FI69R\niVTmikQq47/W6uXVBOUdldcSVx4w8aFt7oA6pz3Q7/Jsis4/3YFGURcCf0BfkvweJf/yHRXoZxKe\nAQainwRZA/gfOjR4CHAJGmmNQR3VKsALeNDCy6vJyjsqryWqEDCxBxrpbApMQRfdPAS4DXUeCfRL\noxcAH6PDgDuhc0ubmrl3QqY/R+GJzcxGDzTCehg4GzgNnbs6CHVKuwKfAm+hUdcjwOp40MLLq8nJ\nOyqvJaI8YGIK+lXRQ9HVozPA8ejQ3I8o9XcaOi+1GroU0tHoMN3dwOYoSPG/wH42nVyARk2bA0+j\nUMVxwFkoQXg2cDD6JeBt0GgraXW5E/g9GmWNwYMWXl5NSt5ReS125QETt6LzUUcBN6JDdsH2kcBf\nUMfxPDAI/dzBW+hQ3vBsOvk9GjW9V2ANvwCocGZjD5Qg/CuwD4qpDwL2Q4caT7O/O6EObQ+gI3Ap\nHrTw8moy8o7Ka7EpD5joiUZF26IO4WR0jmgw6qRuQL8sOsbShqIAxTnA/ihEcZsBD/kgRaAAqFgH\ndVQOOAa4Dh0a/Af6NdP70Y/hfYM6q/2B7YB90e/1HGvlZuBBCy+vpS7vqLwWi/KAidFow38lSvjt\nab/PRZ3UecATKDxxIDoktztwoUVQx6FOZRSwPg1BikDBts2y6eS3KFRxNOqwTkHBinPM3gco7v4s\nOWd1NLA9Otd1G7oY7m140MLLa6nKOyqvRlceMHEGCjQ8iq4O0Redewqc1ClohJNAQYdp6Bp/HwM3\nJlKZdTCIIptO1qHDflAfpAgUBiogB1X0z6aTz1s9zkVhjf1RuGIYGskFzuoiclTg3cBPwAF40MLL\na6nJOyqvRlMBYKIvGjndhUITfdG5psBJnQQMweCJbDr5GhpdrQacbIDEseQgCigAUgTKAyqgPlQB\nObDiumw6OY4cXHEvOl8WOKubrE53oHNmRwBbAm/gQQsvryUu76i8GkV5wMQNaNR0CQov3Ii+cHs2\n9Z3UfuTgiVssehoE3JdNJ1+xb1ENJAdRQHGQItC7wCaJVKbWHNedwB6JVCaRTScnYGBFIpVJZtPJ\nF8nBFX/JppNDyTmr+62OZ6JzV4+iQ4Nn40ELL68lKu+ovKpSAWCiP3ANSu3thYIRp6LwQthJ/Qb4\nJzl4AuoDFBCCKGxfpUCKQGGgAupDFRACKxKpTCvgegyuSKQy/fOc1b9RJ9sfhSzeQlfH2AoPWnh5\nLTF5R+VVsQoAExuhw3Jvk4Mmbgb+Rn0n1QGdG5oOHJhNJ+eijiEMUEB9iAJKgxSBFgEVAGGoIpHK\nNLdvUS0CKywyWwRXJFKZdQo4q1HA1uj810vot682xYMWXl5LRN5ReVWkAsBEEnVML5CDJp6noZMS\nlLZLAAdl08nvEqlMW0IAhdnPhyigNEgRKB+ogBBUARAGKxKpzOrZdHI2Ibgikcq0L+CsvkTnqcZY\n/c+z49kfD1p4eS1WeUflFUsFgIkt0DmpK1DgIYAm/kuekzKHczH14QloCFBAQ4gCSoAUgQoAFdAQ\nqoAQWGHl6sEViVSmpoCz+gVddzCALB5FX1LeEA9aeHktNnlH5RVZBYCJLdBPcwyjPjQxjQJOKpHK\nHEAInjCb66CAwn3ZdPIV21YIooDyIEWgRUAFLHJei6AK21YPrLBt9eAK25bvrIKhwgCyeBWoRYct\nPWjh5bUY5B2VV1kVAiay6eSp6IcMX8OgiWw6eQoaBRVyUusTgiey6aSzYbKh6McPzwntsh5EYXWI\nAlIEygcqoCFUAQ3BCsiDK6Cgs2qWTSevIwdZvA1skU0nr8aDFl5ejS7vqLxKqhAwkU0nM4lUZjtC\n0EQ2nbzJHE8hJ9WRhvAEFAYooCFEAdFAikD1gApoCFXYtnpghW1z6AK5i+AK217PWRmY8QwhyCKR\nyhyaTSffw4MWXl6NKu+ovIqqEDCRTSe/T6QyAwlBE9l0clQJJ1VLHjxhthsAFLa9EEQB0UCKQIWA\nCshBFclgQz5YYdtmkQdX2PZCzmosIcgikcpcCszJppMn4EELL69GkXdUXg1UCJjIppPXA5JIZa4i\nBE1k08kvizkpM1cInoDCAAUUhiggAkgRqAhQATmo4vi87fXACrPRAK6w7YWc1U/kQRaJVKZtNp0c\nhgctvLyqlndUXvVUCJjIppMfWVRRD5rIppM/l3JSheAJ294AoLDtxSAKiA5SBKoHVEBhqMK2NwAr\nbHsDuMK2F3JW88iDLBKpTO9sOjkRD1p4eVUl76i8gOLARDadnG2Nej1oIptOzi/jpBrAE8F+KAxQ\nQAGIwsrEASkCFQIqoDBUAYXBCigAV0BRZ+XyIYtEKtM3m07WedDCy6tyeUflVRSYsLQG0IRtL+Wk\nisETUByggMIQBcQDKQI1ACqgMFRh2xuAFba9IFxhaQ2clW1vAFnYdg9aeHlVIO+oVnAVAyYsbSB5\n0IRtL+WkCsITllYQoLC0YhAFxAMpAhUDKqAAVAGFwQrbXhCusLRizqoBZGEvEc/yoIWXVzx5R7WC\nqhgwEZB6iVTmShRoeBmDJqxcKXACisMTUByggOIQBcQAKQKVACqgOFQBBcAKs1cQrrC0Ys6qIGRh\naR608PKKKO+oVkAVAyYsbSV02O5s7LtM2XTyZ0sr6aSKwROWVhCgsLRSEAXEBykCNQAqoDhUYWkF\nwQpLKwhXWFoxZ1UQsrA0D1p4eUWQd1QrkEoBE5aeAF4nB02cnE0n5wdlKe2kCsITobLFAAooAlFY\n2UpAikDFgAooDlVAcbACisAVUNJZFYQsLM2DFl5eZeQd1QqiUsCEpReEJiytnJMqBU9AaYACikMU\nUBlIEaggUAHFoQpLKwhWWFpRuMLSCzorSysIWViaBy28vIrIO6oVQKWACUsfSAFowtLKOami8ISl\nt0UjlAYAhaWXgiigMpAiUCmgAopAFVAcrLC0onCFpZdyVgUhi8CuBy28vBrKO6rlWKWACUsvCk1Y\nejlwAkrDE6AARW8KAxRQGqKACkCKQGWACigNVUARsMJsF4UrLL2UsyoKWVi6By28vELyjmo5VSlg\nwtKLQhOWXtZJlYInLL0oQGHp5SAKqBykCFQQqIDSUIWlFwUrLL0oXGHppZxVUcjC0j1o4eVl8o5q\nOVM5YMLyJCgCTQQ2KO+kisITIRulAAooAVGYjWpAikClgAooDVVAabACSsAVUNZZFYUsLN2DFl5e\neEe1XKkcMGF5ikITlh7FSZWDJ6A8QAGlIQqoDqQIVBSogNJQhaUXBSssvSRcYXmKOitLLwpZWLoH\nLbxWaHlHtZyoHDBheQZSBJqw9ChOqiQ8YXlKAhSWpxxEAdWBFIHKARVQAqqA0mCFpZeEKyxPOWdV\nFLII9uFBC68VVd5RLeMqB0xYnpLQhOWJAk5AeXgCygMUUB6igCpAikARgAooD1VACbDC9lMSrrA8\n5ZxVScjC8njQwmuFk3dUy7DKAROWpyQ0YXkiOaly8ITlKQlQWJ4oEAVUD1IEKgpUQHmowvKUBCss\nT0m4wvKUc1YlIQvL40ELrxVK3lEtg4oCTFi+BCWgicAW0ZxUSXgiZKscQAFlIAqz1RggRaByQAXk\noIo/l8hTDqyAMnAFRHJWJSELy+NBC68VRt5RLWOKAkxYvpLQhOWJ6qSiwBMQDaCA8hAFNA5IEagk\nUAH1oIo/F4IqLE9JsMLylIUrLF9JZ2V5SkIWlseDFl7LvbyjWoYUBZiwfAMpAU1YnqhOqiw8YfnK\nAhSWLwpEAY0DUgSKAlRAGagCyoMVlqcsXGH5ojirkpBFsD8PWngtz/KOahlQFGDC8pWFJixfVHAC\nosETEA2ggGgQBTQCSBEoIlAB0aAKKANW2D7LwhWWL4qzKgtZWD4PWngtl/KOqokrCjBh+cpCE5Yv\nspOKAk9YvrIAheWLClFA44EUgUoCFRANqrB8ZcEKyxeGK84rkS+KsyoLWVg+D1p4LXfyjqqJKiow\nYXkTlIEmAptEd1Jl4YmQzSgABUSAKMxmY4IUgaIAFRANqoBoYAUoXPEA8NcyTi2KsyoLWVg+D1p4\nLVfyjqoJKiowYXnLQhOWL46TigpPQHSAAqJBFNC4IEWgskAFRIMqLF9ZsMLyOfS4PwD+VQyusLxl\nnZXlKwtZWD4PWngtF/KOqokpKjBheQdSBpqwfHGcVCR4wvJGAigsb1SIAhoXpAgUFaiACFAFRAMr\nLF8kuMLyRnVWZSGLYN8etPBa1uUdVRNRVGDC8kaCJixvHHACosMTEB2ggOgQBTQiSBEoBlAB0aEK\niABW2P4jwRWWN6qzigRZWF4PWngts/KOqgkoKjBheSNBE5Y3lpOKCk9Y3kgAheWNA1FA44MUgcoC\nFRAdqrC8kcAKyxsJrrC8UZ1VJMjC8nrQwmuZlHdUS1FxgAnLnyACNBHYJp6TigRPhGxHBSggIkRh\nthcHSBEoKlAB0aEKiA5WQES4AmI5q0iQheX1oIXXMifvqJaS4gATlj8SNGF54zqpOPAExAMoIDpE\nAYsHpAgUCaiA6FCF5Y0EVljeyHCF5Y/krCxvJMjC8nrQwmuZkXdUS0FxgAnLP5AI0ITljeukIsMT\nlj8yQGH540AUsHhAikBxgAqICFVAdLDC8kaGKyx/HGcVCbII6uFBC69lQd5RLUHFASYsf2RowvLH\nBScgHjwB8QAKiAdRwGIAKQLFBCogHlQBEcEKq0tkuMLyx3FWkSELy+9BC68mLe+olpDiABOWPzI0\nYfljO6k48ITljwxQWP64EAUsPpAiUCSgAuJBFZY/Mlhh+SPDFZY/jrOKDFlYfg9aeDVZeUe1mBUX\nmLAyCSJCE8E+iO+kIsMToX3EASggBkRh+1icIEWgOEAFxIMqIB5YATHgCojtrCJDFpbfgxZeTVLe\nUS1GxQUmrMx2wFtEgCYsfyVOKi48AfEBCogHUcDiBSkCRQYqIB5UYfkjgxWWPxZcYWUiOyvLHxmy\nsPwetPBqUvKOajEpLjBhZQai0MQ0ykATlr8SJxULnrAysQAKKxMXooDFC1IEigtUgJ7bSFAFxAMr\nLH8suMLKxHVWkSGLoE4etPBqKvKOqpEVF5iwMrGgCStTCTgB8eEJiA9QQHyIAhYjSBGoAqACNKKK\nA1VADLDC6hULrrAycZ1VLMjCynjQwmupyzuqRlRcYMLKxIImrExFTiouPGFlYgEUVqYSiAIWP0gR\nKDJQAfGhCisTC6ywMrHgCisT11nFgiysjActvJaqvKNqBFUCTFi5BDlo4pRy0ESwLypzUrHgidC+\n4gIUEBOisH0tCZAiUFygAuJDFRAfrICYcAVU5KxiQRZWxoMWXktN3lFVqUqACSsXhib2yqaTUV6e\nrdRJVQJPQGUABcSHKGDJgBSBYgEVEB+qsDKxwAorExuusHKxnJWViQVZWBkPWngtcXlHVYUqASas\n3EDqQxMjI5Sp1EnFhiesXGziXDW1AAAgAElEQVSAwspVAlHAkgEpAlUCVEBMqALigxVWJjZcYeUq\ncVaxIIugfh608FqS8o6qAlUCTFi52NCElasUnIDK4AmoDKCAyiAKWAIgRaAKgQrIQRXHxSwXC6yA\nyuAKK1eJs4oNWVg5D1p4LRF5RxVTlQATVi42NGHlKnZSlcATVi42QGHlKoUoYMmBFIFiARVQD6rY\nMypUYeVigxVW7kX0OkSGK6xcJc4qNmRh5Txo4bXY5R1VRFUKTFjZBDGhiWCfVO6kYsMToX1WAlBA\nBRCF7XNJghSBKgEqoDKoAioDK4JyseAKqNhZxYYsrJwHLbwWq7yjiqBKgQkrGxuasHLVOKlK4Qmo\nHKCAyiAKWLIgRaDYQAVUBlVYudhghZWrCK6wsrGdlZWLDVlYOQ9aeC0WeUdVRpUCE1Z2IDGhCStX\njZOqCJ6wshUBFFa2UogClixIEahSoAIqgCqgMrDCylUEV1jZSp1VbMgiqKsHLbwaW95RFVGlwISV\nrQiasLLVgBNQOTwBOp9VCUABlUMUsARBikBVABVQOVQBFYAVUDlcYWUrdVYVQRZW1oMWXo0m76gK\nqFJgwspWBE1Y2aqcVKXwhJVdB10VIRZAYWWrgShgyYMUgWIDFVA5VGFlKwIrrGxFcIWVrdRZVQRZ\nWFkPWng1iryjCqkaYMLKJ6gAmgj2TXVOqiJ4IrTvSgEKqBCisH0vDZAiUKVABVQOVUDlYEVQNjZc\nAVU5q4ogCyvrQQuvquUdlakaYMLKVwRNWNlqnVQ18ARUB1BA5RAFLB2QIlBFQAVUDlVY2YrACitb\nMVxh5StyVla2IsjCynrQwqtieUdFdcCElR9IDprYKio0YWWrdVIVwxNWvmKAwspXA1HA0gEpAlUD\nVECFUAVUDlZY2YrhCitfjbOqCLII6u1BC69KtEI7qmqACStfCJr4Isb+qwUnoDp4AqoDKKA6iAKW\nAkgRqEqgAqqDKqBCsAKqgyusfDXOqmLIwsp70MIrllZYR1UNMGHlK4YmrHzVTqoaeMLKVwxQWPlq\nIQpYeiBFoIqACqgOqrDyFYMVVr5iuMLKV+OsKoYsrLwHLbwia4VzVNUCE2YjQYXQRFAHqndSFcMT\noTpUA1BAFRCF1WFpghSBqgEqoDqoAqoDK4LyFcEVULWzqhiysPIetPCKpBXKUVULTJiNiqEJK98Y\nTqpaeAKqByigOogCli5IEahioAKqgyqsfMVghZWvCq4wGxU7KytfMWRh5T1o4VVSK4yjqhaYMBsD\nqRCasPKN4aSqgifMRlUAhdmoFqKApQtSBKoWqIAqoAqoDqyw8lXBFWajWmdVMWRh5T1o4VVUy72j\nqhaYMBtVQRNmozHACagenoDqAQqoHqKApQhSBGoEoAKqhyqgCrACqocrzEa1zqoqyMJseNDCq4GW\na0dVLTBhNqqCJsxGozipauEJs1EVQGE2GgOigKUPUgSqGKiA6qEKs1EVWGE2qoIrzEa1zqoqyMJs\nLHOghYiMFZF+RdL6iciEEmXvEZFLF1vllgMtl46qMYAJs5OgCmgiqAuN46SqgidCdakWoIAqIQqr\nS1MAKQJVC1RA9VAFVA9WBDYqhiugUZxVVZCF2WgyoIWIZEVk17xtA0Xk1eB/59z6zrnRS7pupZRf\nx6YiETlFRN4Rkbkick+UMsudo2oMYMLsVAVNmI3GclKNAU9A4wAUUD1EAU0DpAhUFVAB1UMVZqMq\nsMJsVA1XmJ2qnJXZqAqyMBsetFhGJapCPmYicClwV1Rby5yjEpGOIrKqiDToccYBJuwkdhORXiLS\nLM/OQGJAEyJSKyI9RWQVERGzUZGTEpEWdnydzU7F8ISItBaR3iLSoVqAQkTai0jvnkffsBFVQhQi\n0mn+1O+CHmrFIIWIiFswr3ndgnktRKSiYTvT5865WQtn/7qDiHQPrmEFuhXoUTd35r52DTvFNZAP\nVohIG7uGcT7tURCuEJEOZqt1RDtFnZWIdLZjLBnhlIMs7DlcxZ6fgtcwKmghIs3see5WxTWsSOGo\ny567e0TkZxH5FNgiL+8mIvKeiEwXkX8DrfLS+4vIByIyTUReF5GN8vYzSEQ+EpFfROTfhdrCCPX9\nk4h8ZnX4WkSOD6V9IiIDQv83F5GfRGRj+38rq9c0EfkwPOQpIqNF5G8i8hraQVkjf9/Oucedc8NQ\nZiCSlhlHZRfvReBb9KafJCI3ichqcYAJEakRkWPQHucXaEM5XkQuadG1T8c40ITdkOcCXwPvA58A\nn0tNzemubuFlxHBS9nBdjfY23gK+FpE353z7ySPEhCdEZB0RuRuYDLwJfDf9w2c/pAKAQkS2EZHh\nVq8354z78G1Xt9D99PR1sUEOETnAhiKycyd8OqRu7kw37ooBp4pIz5h2akXkJGDsjI+e23TmRyN/\nB4wTkQtFJNbkvYi0G3dF/7/Mm/RlswVTJw4EPgXGishJcZ3fd7ce88HCOTNmzJ34xb/QezQrIq+K\nyAFx7ABnOVfn5n73+cvA9+g1nCgiw0VkmygGwnDFgulTMlJT8zQKfLwJfC8id4tI2Wgr7Kycc/+u\nadnmMBF5E73n37J6XS0i3UrYaABZdD/ksvYicjr6DH6CPj9fi8i5xRxpMdDCHPAlwHj0ef4C+EBE\njpHCPfrFrYvQIc810U7zUUGCOfZhwH1AJ+AR4MBQ+qZopHE80BltP54UkZYh+wcDe6JOeyN0vjiu\nfkCHZtsDfwKutX2DTjEcHsq7NzDJOfeBiPQCMmhE1Amd735MRLqG8h+BRvUrAeMqqFsDLROOSkQG\nAf9AAYLOzrlewAbAr827Jt6umz/3AyIAE9bLuhMl1s4yWz2AXWpat1+z467HZ4kITYhIG9Qx9gUO\ncM51B7oCR6+848BTpaY25eoW3k40J7Uq+vC1BrZ0zvUEOrVeq++tLXuuu9+ccR99RER4QkS2AF4F\nvgLWtHPVtUWXPtmZn46ePe6K/g16OCVsHQw8DowAujvnerXsveE+M8e++NTMj0c9JiLbx7B1IZAG\n/g50arfRbqvPGT/2QHALgTdFJBKWbc7jX8AhwIlTR97SZspzN7VFH6YNgBejRh+W7wVg/bnffX54\ny17rrYPOvZ1k9h+I6qxEZPUF075/bfrbw16padn2JDvvne1403b8kTTuiv6rT3vl/rqaVm1ntFlv\n+/XMVnf0Ojxu16Wssunki7O+eP3hZit13q5934M+BrqarbXQ++NVu1/K2RkKnCYi+3fZ+8wbgcuA\nTnafbolGBG9YI1bMxiLIwjm3b7P2Xcc369jz92gj2dWenwPQOaln7fkqZKceaOHq6j5qveYW7wF9\ngF3see6MPt/HAXc0UnQ1zCKIaSIyDW0jiulg4G/OuanOufFo2xVoK6A5cJ1zbr5z7lHg7VD6scCt\nzrkxzrmFzrl7gblWLtA/nHMTnXNTgaeAjeMejHMu45z7n1O9BDwHBM/z/cDeoefoCNSxgjqwp51z\nTzvn6pxzI9HOwd4h8/c458Y65xY452LN6ZeqcJP+QcenJwK9CqX3+NMNY1Y97cH5q539ZDKCrSPt\npLbJT1v1tAdX6nXCXT+svOPANyPW60rgIaAmP63XSfes12mPk7+mpnZQRFvPAOcXSlvl8Kt3oLb5\nV8AeEew0A7LAfoXSpXmr9YCfgEQEW6sAU4GNiqTvDkwCWkawtR3as+pWJP1M4KWI5+pE4JVC+wWC\njsiNEW3daPmlQFpL288JEW29jDbChdK62fFvF8FOS2AStc336DN4RKF6bWjXZZUIthLAT10GDDq4\nSPp+6FxjbQRbe7bfYv8fevz5pv5F0i9AG7Cy56p934Nu73XSPbN6nXj32gXs1NhzdUU5O30Gj9i0\n10n3/tLrxLt/7LJvqsFzCLSx5/2IKPUqcexZYNe8bQOBVwvlAeYA64fS9gAm2N9/BN7Os/UgcKn9\n/TQ6ZDYt9DMLOKRQXYAhwP1F6l2vjnlpe6HR9VTbxzzgklD6f9BOxMrATKz9RR30nLz6zQRSlj4a\nODbieb0UdWrl81ZzAZfEjzUkqWLpq558X+fadp2/AbaOYOstoOCD5pyjRY91utuJ71rGTmvgR2CN\nEnm2RIdHGjxAefnWRsPwViXy/BkYEeH49gVeL5PnWuDyCLbOB24rk2cUcFgEWw8Bp5ZIbwZMoIhT\nDOUTYCzQr0SensDPQIcyttpbvp4l8uxk+2vgMPLy/Q4ddmpWIs9pwEMRztVhwMgyeW6jSMcmL9/l\nwN/L5HkD2DeCrRHA0SXSW9kz0cD55OWrAb6uadNhqxJ51jRbrcvY6irNWk7rss85G5fIMwB4q9zx\nldlPlniO6htgz1DaseQc1Y5ox1tC6a+Rc1S3An+JWhcqcFRoZ2gWcBDQ3LYNC+pg/x8CPG91HxXa\nfi5we4n6jQaOiXheIzuqZWHobyfgiWKJ4284fMrCGVMetXxFZUMJG6HRS0HNnfhFMKezVbE8po2A\nb51zX5fI8zZKtfUpY2sH4Bnn3JwSeR4H+pWxA3oOHi+T53HKnCtTv4i2+kWwVbJezrkFwJMRbHVB\nHdFLJWxNROc8yhF8mwMfW/5iGm3761LGVj/gKTuOYmrM8/4E0c970WfH1Cj1svv3GfR+LqU+QPOF\nM6e9WcLW/1DHv1GxPKat3IK5b/w4/IoPSuR5Gtio2FDiYtLDwLli4BdwaijtDfRF+dMM/jgA7dQG\nuh04QUT6iqqtiCRFZKUK6yIi0ir8g7ZLLdHOwAIR2QsdIQlrGDqadTo6ZxXofmCAiOxhc8WtRN8T\nWzVGhZpZPWqBwEazUmWWBUdVA5Qb55xH+WOpRd/8L0eqRbVVsk5OuwyNYiuinWXd1nzLV9aOndtq\n6xX1Gs6PYKux7tFI9YphqynWK4qdxrRVhz73S7Ktuxgd6v0GnfsJ5ndwzs1D5+IGohH9Hwh1AJxz\n76BRzA2W/hWVwRKBtkHfm8z/OQ11qD8Dh6IdxUVyzs0GHkOBjXD9xqMjN+ehjm48Ol8Y5/yeb3VI\noXNes21bcVUTEi+JHztZxxdLX+2sx7uvtNk+3yA1e5WxI8CXwLbF8nT7wyVrSIvWU4A+ZWytbBe4\n4JyLc46aVu1+g1J3LcrY2gwN54vOE6A3dsGx5rx8RwGZMnkuBG6OYOtqyswToMTSyRFs/Qc4vMy1\n+QzYoYydWnswSg31BNemexlb3SkzRAhsglKmJedw0CjiU0oMEaIT0v+JcK5OBh4uk+dK4OoItm4G\nLiiT52ngqAi2XpVmLQ4sc23GAZuVsdMCqZncfttDdy6Rp5tdm5XL2OrTKrHJtJ7H39WvRJ7tUAqw\n5PCt/yl47i6kyLDiEq/L0q5AhJO1q91o7fLT+gweIb0HDZvZZ/AIt9o5T33aZ/CI9cvYOhMdnmgw\nb9Rn8Ii2q509fEHvMx+d32fwiKIPUcjWncBVhdJ6Dxq+Se8zH53bcec/l3QaIVtvFWssep/x8N6d\n9jxtEjW1UeaCgrmzLQqlr3L4VXtIs5YTKTMXZLbWNlsF53Bq2nT4nTUm7SPY2hf4kCJzDuhY+SdR\nGhO05/Vosbxob7bsXJDlfQgYUiRNbD9F5wvy8n4izVv9vggA0dqOP8pcUAfg5879Bx1ZJL2nXZe1\nItjaaKXN953W66R7C87xou/3lJ0Lcs7RYZtDLu19+sPze5/5aMGJcrTXP6acnT6DR/xm1VMf+Hm1\nc56s6z1oeEGnhnaS7ihjp0efwSOe02f/yYV9Bo8oBNfU2PN+RpT7wf/UO3edrONRsvO4pH7EKtVk\nZWjpLSh6fJJz7kPb3qJ5tzWO7X7YFUNrmrcKCFSHvqtxTjadnFbAVksUKf8eGOycG2fb23c//KoX\nW/Zcb9MQyXoHcGY2nZxRpF7d0UnQx4ArnXNTADrveeqWbTfc5TWpadbMbN0HHJdNJ4vOQYnI74CR\n6FpvdznnZiVSmdr5074f2qx9txOkpkacq3tEpOZww3xLna/97HydBAx3zi1c7azHe9XNn/Nobev2\nW83/MfvfFt1W/22Ud6nsHbGj0KGIV/sMHkHd/Dmbufnz7p8/dXxi8oPn/dktXPBABDs16Dh3T+DU\nPoNHfAksWDh7+j7zf/jmxMkPnbcZCrmMiWCrDYqUf971gAv+3WbtvqOBefN+yO406e5Ttwc3EI2a\ni66tFrK1KvBapz1P/azNmls8Wduu062AfHvNAau4BfMuBdZFkedZEWz17bT7yaPbrLvtz4icVNt6\npeHZdNKJyProslUTgSOdc2Vfkl7lsCuGt+q9wT4L58wYJ1K737fXHvSB3eDboXMY9zrnLi9lw16G\nvQi4yDnHwpk/vwgkJ9xwxGybD9gXpR5PcPryZTE7NcB5zrm/iog4V8fs/445/IfHL33AjrsNcDTa\n+94teD4L2KkFBqP3eK1zjoW//jjlu1uO3tA5N8lsdUZXnzgQvYaTC9hpgQ41XYRi3ri6hfyUufam\nWZ+OPtc596vZ6gNcgdKrezjnKl3NZYWTiByLLg5wn3PuhKVdH1gG5qicetIT0UnhjOgb288D387/\n4esDfx55y74i8q1lF7RRHZdIZY7OX0Habta9UMLsPRF5Q0ReALI/Dbt8AnULx6PODuAY4ItEKtOv\nSL0mow1HD+B/om9kv/Lz87c9Wzdnxkxyc2FHoGudFX1/yR7undGX+L4VkefHXbnPmzh3HKLnQKTm\n98BTiVSmXZnzNQwd9z0bfeF01MKZU7+ubdVuK4AW3VZfG7gxyucTrDG8DHXany/4ZfIMqW3xdm2b\n9uu2WnX9ln3OHt69nA2zU4c6vFHAqLq5s2a7urq62tYrDWvVZ6M9uh54wd+iOCmzNQvYtabNynNa\nr7HZ0865Wa6ubkGLbomRrRK/60tEJ2W2JnTe6/Qj2m202+617Trd6OrqFjjn5te07vAx8Cva8JZ1\nUgB9Bo9YeaVN9mpV26Z9j9rWKz3hFi5YWNOyzQfBMaMRc1knlUhlTmvVe4N9AGpbtesjzZq/X9Oy\n7QvoGoB3AJdFcFK16BzHRcG2mpZt+026+9QPRGQUOtQ8CB2OLeWkOqK03yXqpBzULZw39fnbrhOR\nt4PnEL1vdyrhpH6DYuJ/IzcPOeOnp64aCXwqIq+IyGh0Ff0eKMZfyEntic7ZXIo5KWDGrC9f33fW\np6O7o/f7CyLyBvAe+pzv5Z1UPDnnbnfOtW0qTgpo+hFVWNYT3AJoB3ztlA7CPgMwEp1TCOsD4Phs\nOvlWAVttUfKrGfCpc25SIpVZDR2G64I68aAxvwE4t0R01QUllOqA9/sMHrGG2QkcpaDr9B2eTSef\nKnOMq6GLo87pfeYjq9e0aB0mbhxKEybtbf+SEpHfAKv2PPbWo5p17PnHvJdXL8qmk38tZ8PsCLDp\nqqc9eH9NyzarSE1tM5QacsDm2XTy4yh2ALr0P6tDuw12nuZc3QJgnkhNHdr4bBpnod1EKnMQOkcG\nBM5cLs6mkxdHtWF27gP+6JyrDcLy+VPG7/Td7SeMjmGjC7o01crAQufqBOfk26v23Q19Z6ZkFByy\nczA6HOlQAGBu3ZyZH46//g8Xo++7vOfKPLC2sv396HDqIjlXd9m3V+4zzOo4wTn3WRk7m6KT6KuR\new4A/jDuiv7D0eewFfClc+7bAiYCh3kW6lgCqiuAjPpl08kxItIBfW5rgI+ccw3u60QqsyZwPfW/\n9+XQkZF+2XTySwAR6QH8FqXq3nHOzSx1jF7Ljpp8RBWW0zed33DOjQycFEA2nZyCvlX9n3B29P2W\nMYlU5q5EKtM9z9ZM59xLzrnng6EHW1h0V3S15nnkoqJTgI9LRFc/OedecM6Nds79kk0n30fnUoLz\nOx9dnfvJRCpzeSKVKYpiOue+dc6Ncs69WtOi9b/QnvQ0q4ug8MWriVSmHPaOc+4z59zI5p163WlO\nag7a4M0FLk6kMpG+n+RU79a2XukzqamdjXYUmqPn6IE4K32322DnLgAiNVNEaiahDdjGwD5RbZgG\noNcJtSfjbVtk2eKmhwJTJPQZhuade3eIYUPQd1+6oA13rUjNJKmpHe+cey2Gk9oJHSaejb7j0hxo\nV9Oq7UN2v78bwUm1R+GIwEnNRa/3DJGavzvn3jZbRZ2UfXngWPSrAb3IPQN1wP3ZdPJh59xc59yr\ndp8Wc1K/QYfGr7BjqUMdiEPXrBwD4Jz7xZ6bF/KdVCKVaZtIZS5FQZvwygcOhVc2D5yU2Zpkz/NL\n3kktX1qmHFUpZdPJmWhjd79tWoD2SkEnev+bSGXOLLcKdDad/IRcgzcTfSgc+tC+mEhlhpYbfjNd\nja5sMA99b2G21SkFPJfvOIvUZSE6pr8y2uD8jA6d9AFes09/RNGr6AcKvwA62vH8CNycSGX2jWgD\ndJ4leB9lrP3eEO0xR1Wwrt9k1HG2QtegGxL1a67WU98bbcBAz8tEYLNEKhNn3cDz0evT3coHS2bF\nsXEUSmX+YDZaoQ6i1PtZ9ZRIZTZGV/yfTsPzOyKije7oe187kru+Dr3e/7DOXDkbbdB1LoPPtyxA\n77dp6DDaKRFs1CZSmXPQtfuCteMWoPd/c+CYcl8zMGf5B/R+/YuVC5ycQ+/n7Ww5Ja8VQMuNowKw\nb0UdBVyD3tyzyA2jtELXXfswkcrsWtSI2nkFfTO7LdoACdqgLUDx4Y+KRVchGwvRJZvmo3MC7VBn\nsxDYFng/kcpEWSvvYTSqmo46rK/sWNqikdW25QzYeXkGbYBnoo1gV3R+4aEoNkyTUCptLNrwtEOH\nOP/PIoIo6mG/v7PjmIP2juNEVX3RCGY82lOfiB4XRPwcfCiaetk2zbA6uVAdy9lYHV3HbSx6bj9F\nz0sr9FxFtfEMeh46oeezndn5JJtOZiPYWAONXn6D3l/j0Ov7KXpe/h7Bxtroy6hHWl2C4/gKveZH\nZtPJX8rYCEdRgVNZiN737YDzsunkPWVsbAS8iA6BdjUbC9DnT9D3ffYoBEt5Lb9arhwVLPrg2iCU\nHmqP9tybkRsm6gOMTKQyj5X6Gms2nXwCdUrdgf+ijuEn9GHpRIToyhqZU9A1195A3w/5Bo2wmpmN\ns0pFEqGoanV0Acq10Lm3ldBGaFQilYky5PUU+uA/ivZ0X0GJqO+BERGjs6AH+xLqWJ5BMfav0c+f\nrxzBRhCtfIM6hFFm4yuiR1UD0MZrFnp9J6IN4TiiD/+dj0Y+oB2JlczOZCJEVBbV3UcOvvnKjmMU\nelxle/v27bRnUXx9IQoTrI2e103Qa1bOxsboMF0XtFP0HXpdXzEbZaOphH45+l30HpuPfoFgJfQ+\nWwu4OptOFl0NJC+K2hDtPExH7/Nv0Pv+BnRR4mI2OiVSmaFmI/jI4mz0efsRff7uRIcNY30A1WvZ\n13LnqAJl08mr0CG/IHJoS27obDba8/4skcoMSaQyxT4rcAvqJNZGe4qroE6rA9qgRYmu7kMn/TdH\nG7G10F5zV7Rhuhp4LJHKlJoXCaKqNdHvbfVCe/Ed0YbgiUQq86cS5UHn7xai52AmNndhP3OA/yTK\nfzI8iBI+RB3tK1aH59DGPcp3rnqiDuIbdJhrFOrI7yJ6VDXA9t3F6jTJ7D4F7FrsegYKRVO3oi/r\nPmXlw7bK6Rw0Mr4T/Qjk3WgnaBTqeEpGVPZ9sBHop1cCgGckej5fQe/Tko7K7ruX0es6G72WM+13\ncJ2LRlOJVKZ5IpW5Bn3F4kf0enyFdsTGoh8N/RBdcLaYjXAUNTVko6sd11ro/X9GIVjGnNxx6Mv4\nJ1ndW6LPVwf0eeuBEoPHxvlEjdfyo+XWUQFk08l70fdFuqI3/iz0mCehD8MUFOH9LJHKHFikNz8E\nfXdlWzQaWRt9iFujvcZWlIiu7OE8AW0IViXX0x2B0n1vo43zOzbsUeg4gqhqfeAeNFL83n66oesT\n3pVIZQYXi0iy6eRUtEHZFR2u2sdsbmB1aY86q46FypuCKGEaGl1ugDamf0R7y4cmUplDSpQHbXQm\nhWy9b79riBBV2VDZ+lbnIHKZiHYiRqDXZZcydQiiqXfR65ex8oGtkkN/iVRmM/TcPYyuk/cVuWcp\nWHeuaERl86RB5+VG9FtNafQ8PolGJT+iDX0xGwei0Vgw7NnGjmMD4BLUmReNpmwu7wXg/9Bofw37\nHczXfY9GVYcV+qJ0XhS1ruXvit7P66D3xabovNmRdg/n29jGjvFW9HrUoI5qOnodx6LP22nZdPL8\nOFSo1/Kl5dpRAdjE7a7o0FAz9IN2a6CNVGf0oahBndDI/CEwezhOQhuQA9EX4dZBh1gmoA3cGEpE\nV+YkBgLroQ/fZ+gin7ehmO8YNOJ7M5HKHFXkUIKo6mh0na3d0d58HeoAh6GN3TX574+F9BTaCD6M\nNm7bopHM0WjjvRZKJhaLSILGdxW0UdwLBSk6og3NmyigUSoy60nOIYBek/dQOOISykdV/UPHErbV\nHF3dYkYoTwOFoqkbUVJ0BnpNmoVsFY2oDDi4H+34PGn1vcTq/y6593sKOipzwrej5+489H29N9Ah\nt47o+dwLeLpQ4242jkcd3ftop6EPev2ORq/ntpSIpmw+8X20wxR8Ln4YGt0tRKPD3YGUfaE3v3w4\nivoEdfYOdTpboI5nJ3SObL/8l90TqUwPey3gNRR//wHtHIyx3+Pt/K0DHGLfw/JagbXcOyqAbDr5\nOvpy7nz0fac70d7eeHRooTf6HszmKGxxbXi+xYYbDkEblJPQBmY1tBf7GDqmHnxSvWB0ZZ+z/wca\nXV2GDpPsh77Rv7XV5W3gnkQqc3s+8h2KqjawvM9bPY5Dh41WR1ekOBP4Z0Lf4M9XMJS0ndXlYCuT\ntXLHoY3cv4og9FPsHPYwWx3RRuopK38C2uDfW8JZBhHVpND/T9k5eI7yUdUAlAbLoj34sK3OZqN/\nifJBNHUV6tCetXKEbHUtQYdegXY4BqIvzX6FDtltZccRRGPFhv4uQ4Gfi9HvFNWiL7SfgTq+Nig0\n02DYz2i4C9Fr9gwadeva3hoAACAASURBVG2JvuT+f+g5uRX4PQWiqUQqU5NIZc5FhyenoNDCXuia\ngGug99Hx6H31PPU/+JcfRa2FRmSboQ5qAnoNL0A/GT8F/fjoL6HyLRKpzNnoMN/BqGPvgjrVd9Dn\n6HG009YbfV/woSLn0WsF0grhqACy6eSn6ErCE9GVGy5GG4R10OV91kZ7haPRpe2/SIRWt8imk7PQ\nRvJ/6MN4LBql7Yj2qDdCJ4//TfHoKoX2Mv+OrppcizZax6A9887ocjvHAK8nGq5mEURVF6IfNZtv\nNg9Ch8PWs7odhkZG+c7yC9QxD7A6zERfyDwC7ZXvaMe+HwVWr7DoMpjDeQ4lsQbYueyINvxnoL3p\nMyis/IgqmFsStOEuGlXZe0L9LP8qtrmQrV40fPk7P5rqHcofRFCBLUGHwPLL74HCMdehjWkQTe1h\nZcK2GjiqRCpzGnq9bkNXvgjO0wD0/F1sf89Dz2+4bLDaxMXAvVbP/ugq2DuhHacj0OvZIJqyId3h\nqKN8HB0R6I/eL7+1n4OsfvOAgeEvU+dFUaNt/zujzqwL+s7iMagDr0XJvImh8nuincEr7fdktLP4\nb3QYfkO0I7YD+lz1s86dl9eK46gAsunkeDSa+ABt7K9CH5ojUSfwGTq/8TJKkN2JDsdtaeWnosvF\nTEcR+IPRea8z0QZ+Ljo8+A90SK5edGW00uFoJHAW2lD0RKO0A9DGZj+0h7068G6Y6MuLqvqiEUxf\ntFf9J7QR3wh1orsBzyd01YSwnkIbtnnkoqpf0AbsT2gDdjkaXRX6fPokoGc2nZyONlgDsunku2b3\nLDuPw4HLE6nMhuGCNmzWAZhk5Wfa8b+HNnwD0M/MF4uqdkeH1vKdS+AUeqIvvDoK03/haGqA5Xua\n+s4l7PTCde+Czg+ORT8eN8Tq+S+zNRGNNHoCM+z4wuUPRh3cMDSCudz+fhSNhp7MppPvma3R4fIJ\nXW3iIfQ+uQqNnI5Br9kk1Dlchjq/BtFUQleZeBd1qCn0PtvZbPwO7aAMRO+lvuhqLhOsbH4UdTUa\nPa6K3n/7o05/f7SD1gONhL6w8msmUpnh2GLQ6Dzi1nYdhqLPyxzUYf8f+jxtm00ngxEKL68Vy1HB\nolUsdkGHfK6039ejzgrUEfRFH8qb0Qdy0eoWtnrFnuhk780oPZhFG/1L0YbvdNQZ3kRedGWrVlyA\n9l7XQRuWjdGe8S5o7/JS1Gl8TcPVLIKo6iJ0nuIB1KH8F13f7/eoszrAfuevYjECjfx2IxdVXWDH\n/Q7a2x+KNspDEg1XrwjDBiOAde0dnCCqOhV1lD/TcNWKHiEbi2xZpJYhNxRWLKoaYHZfp/4Q26Jh\nxGw6+QM6V1bPUYWjKcszAHgzm07+WMxWqGyw+kRnNFrdg1w0VYs60BF2HA3Q9ERu1YnX0Ov6TzuO\n4+x8dURXClmHHIgQlA2vNjEIjegvQueRbkSv1zvo9buAUDSVqL/KRDO0U/In9L7Y344hsPuVlb8/\nm04+bOXDUdQzqFMO6nA06hxboPftGajTOzibTo5J5FaVGIs6xVvtXCWt3h+i9/zTdh6HoiToNuHV\nJry8YAV0VLBoFYt90cZjCPoQ/wEdfjgJjWg+s9/vow7ncODLRCpzJjpHsg+KVd+JOq637O+RaK91\nf/QBPYqG0VWwasUN6IN8LNrYnY5GfL+gDmgI2hAtWs0iL6o6AB2KmmjHcjPaSJ2Kvvy5OzpEFl7F\nIlilor857SCqWseOsQ06IX8c2ojkr14Rhg2CBrV/XlQ1F/gzDVetCEdBhWy1Q4d+GkRVidxqFM/Y\nnOEiWzZZPzW0bQQNV6lYFE0lUple6LBTUP+ewBSj2wpFVMHqE+ejrwcMIRdN7Wj1DtsKD3kFq078\nF71nzrfzcjQa1YajqQACGWFlg9UmdkA7Uv9D78UMen3uQjtMh6Pk3aJoKlF/lYmXyA15dkfvi/XR\ne+ca1Incj0bTpxSIok5Ah8lPtbwXo/fnNPR+PR3t+BwDPJ3QVSU+R1eVeALtUB2PghpHoXDT/uhq\n6iPtON4EdvCrTXgV0grpqGDRag0D0Qf1ZHQIYmt07PwuNNIahDqbQ9AJ5tex1S3QyOcQcpTT3mhj\nNRSdv9gF7SnfgjbW19t+PkJpsyCC+6f9/AXtrQdAw5foXMLL6MO9FbnVLMJR1a9may07lrOBB9Gh\npTVtXzXYKhahVSqSNv+2KKqy4ZpBqOM9DnVg71B/9YpJQMdEKtPKXmgOLzm1KKoy2vIW6q9akQ8a\nTAptex4dAhpgjig/qgpWowgcQg+0A/BDAVtBniQUjKaSefkCwAOzt2h1ikRu9YmX7fzuY/W6xOo5\nAH2H6fl8W4ncqhO/oNDCxqhjujmbTj5NKJqysgOw1SgSudUm1rV9foNe17fRTtUJaGQ3yK7bomgq\nUX+ViYvRd5CCY90BvVcuQx3tOXZca1r+nuSiqKdRh3qRnf8j0Y7OY2hnbRurx2Ho8/EeuVUlfrLj\n64s+Z9fZPm9Bnd7OKP4+FL/ahFcZrbCOChqsYhHMIeyC9hYvtr/7odHVVWgP+CjUSY1Ee7IXog3f\n9aizuwttNA5Biah30Z5tc7QnWYc+zGfZz/aoc7gc7fEOQhvVfmijcD865NQXRalfRIdZFkVV2XRy\nNNrYHI86zIEo2XUHOn+wDdoAB6tYPIW+f7VlOKqyqOtmtHG92som0Remg9Urgh5v2Clsn0hlVg5H\nVTZkFQwpBatWFIyoEqmMGKwyChhgUVR+VBWsRhEsPNwTmBxCuMPR2SfUX6UiPDeFbc+SW09vURRk\nzmey1Su8+sSR6LUbYvX6V6heo7Lp5Gz7vycwMZFbdaIV6vhnoB2S/wKDEvqC96JoymCH7dFPuQSr\nTXRE78Fv7byOQ6Ou1exYnkEj3g2waAqN8N5FgZK97O9n0eu/jZW9Hb1//4Re3+PQ+6cvuSjqEKvD\n41b3vujc6n3oaEA/9P4/y+z1JLcyxelWdigaRe2KPjN3oR2fzVHndj5+tQmvCFqhHVWg0CoW/dBe\n5FnosN8uaPTyf7Ztd9SZXYJGQHuiD9tL6EM/hNwk93Hog7o32uifhL7nFDi1k9FJ+dHkoofT0cn1\nayzfXmjv9e9oo7A5Oox0NdowfQlcZJFRMCx1J9pjPQCN/B5Bh3u2QxvwJ9CVBxaSa8jDUZVDe9Ez\nUIf9K9pzn4M6iflWJjxk18zOBdSPqmaiDVKwakWwKkWw+OskdKixfchWAli/QFQ1AHgl1OuuN8RG\naEUJO4ZglYqNCEVTNiS2K/BU6AXSYFWKQIHTC1afODmbTo6jYTS1AUpLBtFKB3Qobgq5VSf627tI\nN6LDsIeZU86PpvZE53AmoNHbPPSafWfnfbbl+RXtvMwAjrZjCKKpldH75TN0aLMner0/NluroPfD\nh2inqiN6v3yORlpBFLUVGrVdhQIfm6NE4TXo/bm3XY+rUUd4AHp/34w+R2egz891qGNN2/9XWdmh\n6HC3X23CK5K8ozKFVrEIJpCfRR9uhzYcs9FG6jM0QuqLPtzD0V7sDNR5nZxNJ/+COp390QbrUvRh\nXhftaf7HytShznEeGkG0QBuEl1CYYXu0wbgFbTSvt//PQhvN9uSiqrmoU+iARlIz0Ebhe3ROoxNK\n+72ANhTfYo4qP6rKppPfow3Jpuh3q7JoI9kedcaQi6jeQod5Alv1oqpsOvk22hgfig6tTgo5iPzo\nLFhVO3CgQVR1GbnVKAiVyXcuq4Te33oKdRrXUT+a2gWNcoJ5oBpyq1IEmoS+VxSsPvGARUtDyM1N\nhesZ1Ds4joPRxv2P2XTytYSu1nEIcHE2nXwnP5oK2foVuBZ1Vtuikd2z6Hnf067DEPS6HJtNJ78P\nRVM/o87iRvS+PBSNYJ5Hh9k6WT0novfFDPQ+6WjHumZQRzRS6291PAS9N85GHdEfzf69ZmMzNDIN\nhoafRDtBO6KI/evofb8/eh2fRslWv9qEV2R5RxWSzavsgg61vY46kM3Qh/0mtOe6J7noaiTaIPZD\n5xAAhiZSmTOy6eQ/0MZiG9TxvIk2XhPQh3VX1PFdj0YV6wH3GRiwL+oQH0dJqpPQBmQg2kO+xfZZ\nhzrSaxOpTE1WP1FyLtroHZNNJyej0VAduQavPzrXsTqwYSK3MG+YACSbTg5DG7qUzW19iDYwwaoT\nfSzfQmyVihCZGCYAQYc130R76uFvDtUDF7Lp5HfoPEd/+z+Iqn5r+cIvweZHVMHqFMHLuy/Z8fQj\nNzeF2Z5h6aDzXsGqFIEmo8Nfk4ETrTHNj6YCW++GAIAgytzYyg1P6CodN6NzRsGirPWiKTtv+6LX\n5120g/QT2uivCeybTSc/SqQy26EAwl12fUA7HaCO6FCUpEuj5/xB9F5oj17/hehc0GT0Ove3Y8+g\nHYFW6HVqY+ftVvR+Owp1kCej920Gjf5+RR3ZRajzPgntGGyCwhUZ9OX0zdBVJ15COyt+tQmvWPKO\nKk/ZdPINtKFYgEZSG5B7MfJQtMHJkIuu7kd7nnvb74Wo43iEXM90LTRKc2hjfQ86t/U4OvyxIzrh\nfmAilRlmNvZCSbZngDWy6eQQtCFIoj3VT9Ge9acoQv+coeDXo4712kQqs1Y2nfzK6tYFdZABJRZ8\nOfjhRCrTosBcFegQTha4z6KjF9GID+C4kGMKVqnYxs5hflS1wPZZC/QJRT0NUHArt7XN8YA2gLPQ\nqOgrWLRWXlfqR1T1bFmEGbxLdJWVE7sez2Zz69cVWkliA6vrn7Pp5NRC0VQilelGbjWKQKfb76HZ\ndPI2O857zdYR2XRyQYG5qQB9b4M6qV1RB/Cgnc/Ds+nkaJvzuw+9HmckdJWJ61CHMgV9l+4xy3MG\neh8cjl7vZ1AHvjeQTaQyV6BOcj56Tx+GRv13ox20TdB7e6SVORF1fJebrWbovbIp+qy8SC6KCl4o\nvgC9z7dGX4Z+DXW6frUJr9jyjqqAsvVXsXgW7dFeikZR3dAJ4d+hQyBBdPUROmG9HjoMcxCKE69K\njnB6HfhtNp08Gp3L2gGNIBagwy9T0Z71JyguHrxX9GwilemWTSdvRoeVtkCdaHO0UQneDXsdneMZ\niDZC9ydSmWb28uQBaK95mJUbiPbatyC3ikV+VDWd3KoV19m2h+341iG3ekV4lYpA9aKqbDr5P3Se\nqyu5VSsKoeDBKhXBF13boBPxLckRgOFVKcj7uycsIv16m61VLS2Yt8mPzBaVT+jqE1vatgC2KBRN\n7U1uNYpg1Yng+P9ivxet0mHHD/XfmwpWmzgajXp3Q4eYb0Tvg9Oy6eQjVu56cqtPNEOHnE9H753N\n0KHcJ1HHcy76EnqL/2/vvOOsqM43/p3dpYOAWABFhyg2rIgiVqJIcURj7IotsdfY78+KJpExogFi\nDPaCXYxSLootKpbYI9hjdFQEC4pI3WV35/fH8x5m9rKAnQXO8/ns5+7OnHum3Lvnmfd9n/Mca7cJ\n+vznIsI4B30/tkWRzrPo+/hn9F1ujAQT3VFaMUEPROfa+/qgSMtZig1F/w/VSFCxEyL539mxn0Xf\nf+824fGD4IlqMUjquliMCgvFY5I4egwNdpOR9ctVaKDJR1dXon/kL9A/543W5gQ0UDwZFoq7JXF0\nI3rarEKkMxA9TVej6OdfKNWyP+a4EBaKrZI4GoWirXUQMa1HlmLbAD2Vb0XmWnGeXc8jZO4VI9Eg\ne5sdb3cUhQWURFWJfBIvA44KtW4RSMSRYO4VSc6lInf/6kRVJmJohga8wWGhuFlS153CIe9Sgd1L\nJzJwCsBS9SDUdacAiUvmU9elIu9GQUn7aWHmPuGWV++4mNqU62sqmjLgFKP/w1wpTMTh3CduAshH\nU4gEndvEDKQcnIHSaMcClyVxdLW9b18y94n56DPuZ9fyF/S9ehx9jr9P4ihG/9sjUZRzFPpOOFUe\n6Pu2jt3vEIk+LkDfoecQyf8OqR0fQmRfiR6e9qZuFHUGqmk+bW22T+LoplALlD6Jd5vw+JHwRLUE\nJHVdLK4LC8ULkAqrF3rCPRX9I86hbnT1CFl0Mg0NCPehJ9ApiHQOSORS0R0NnMPQxN5L0TysRxBR\n3WjbtkSE2TiJoyfQANEESdgTpNyagrlZWPs7gYvCQrGHXc/tZO4VQ5GgoAINdptbX85ZPb8G0ULX\nirBQdM4Lc6jrXpF3qXDIR1UuxfYP6rpW5J0unGKvCPQNZR3k3CguJFMA1peuW5j6C+t6+uVdKvJu\nFA75vpz7RCG3b5Foys6rj11zLzLXif8gaXpT9NAyAzg2Jxhw0dQQMreJ2LaNDeWK7lwnLrBjdSRz\nn/iUzGXC1eDuRZ/b5sA+RhAB+nz3Q5/tyUjR9zz6ztyBHrhGI3LdOomjon1PnrE296Dv3q5IUl+B\nCPsm6kZR/0GEO9Suaeskjhx5j8e7TXj8BPBEtRQkdV0snNVLdRJHf0BpuM3Qk+qvkzi6iiy6ilEK\nb1X0hD4USYI7IkK5OywUT7Kn6H3IzGUPQU/MPZHCrxY9mT+JBsebTDjxGlJazUTzjx5E6qohZG4W\nnZDqb2SohfpI4mgImXtFT3u/cytwy3fcSd2oagF1XSucfHuhewXZarkLl9hI6rpVrG+b36Wua0V+\n/pODc6nohblRoIH/fTRYLhJRJXXdKfLzpsYil4pu1HWjcOiIUqcHk7lPPJXbN4hFoynnRvEGdV0n\n3FpOf7Lr+50jxVw05Sy7nNuEI80qcq4TSRylRjjOfeITdJ+dy8SuqI413o7bJ4mjMdZXAZHT0yg9\nuD6KyNYme3A6FxHzDkkcfRgWiv2RInQBipSORg9XjyLD5ifR97AG2CWJo9ORIOcl9L09Fy3p8U1Y\nKJ6MyMu7TXj8JPBE9R2QLOpicVdYKDax+kF3pA57JCwUL0SDlouuuqN//O7on30r9ET8K/Q0fHVY\nKF4KpEkcXU7mZrEJeoI9hUwZuCt6Qj8UPR1jQgnnYnEWGiTPQ2nGI+y4TclcKxzORgPvn1EkFqGI\nwLlYHIhqJQujqqSua8U6dp7lZO4Vw1A0V2oG66KqI+3vaUnOtQINfKULFTqXit9jbhQl86qctP+L\nkvdNs/ucd6FwknZXFyslqg6oVpd3n3DuFLuwaG0Ku8b56F7PRMtZzLC+aqjrPuHgoqmumNtEEkcj\nra8P7PgvAQfmjnUSSrW5JWEuQcR9ih3/AGu3cxJHEwFCrfR8mV3TzojIuqKa63qI9LqjxQyPT+Jo\nflgoDkRReC0ivc9R2vtz9BA1A33/hgJbJHE0MSwUD0VTE9oAuyZx9Bc7vnuY824THj8ZPFF9RySZ\ni8XZaIAoWs3oXVQLugOlyMYBbXLR1SRU+4nQ0/oe6OnbDbIXItFDeSKHia3QwN8MEcepFr3tggYs\nkLNBwc7rMzIXi45k86pus/Ny7zkuLBSd7LsW1S0eQ2IK51IxGQ1on6OCel4BCJlrhZvc28EiTude\n0RFzqcjdNxdVOSGEe7p2rhXbkNWC3HucS0Uf6rpRuHlVvanrSuEw1e5fft6Uc6noQ103CoeOaHBO\nsZVok8ydojcl0ZSd596IkJqgwfiTXO1sW8x9Ivee1uh7U4mi0t2SOHoo50bR0c5tT7ufzhD2Srv+\npogMB6F5fvsjQcznKK022d4zAM2NqkXfuYNRFL8tin5B34ceRpKEheL5KFtQgR6qjkdE5h62QBGn\ni6JqwkLxGhThvgxslcTRU6YAvRbvNuHxM8AT1feEpc6OQOTwpKnx5qA0jnOzeDUsFLcxEnP/8NVo\nsuQDiMy6InWYkwi/EcqGaJr1McQO+aewUNzDnpg3J1vMbrA9vZJocTrnYgGy1SmzAcy5WYBqXOvZ\ne6pQqmuy7TvOtifoaXoyGuxuyl27c62Ya5vWse3T0ZP/HDTgHVpy2y5BA3Q15kqRZK4VLajrTuEw\nFk1eftU9leeiqlVz55DHHBSBLZw3Zef8ECKj8cmiE0w3RFGBc5/I99WORaOpbVBKtTHyJXzLtjtX\nihZk7hMOV9n1zQB2TOLo37b9EBSVzkYTeqfDwuVQnrRjTAa6JXE0wd5zI/pcJltfH9l7DkTp3zJs\nXpTJwNdDbhLY/u5JHE0OZTw7gcw0eASwfhJHznT2Mts+jCyKWhepAZ3LxG5JHE2zmtx9eLcJj58J\nnqh+ACxaWehiERaKnZM4SpM4GkHmZvFMWCieANRadLUpegLeG1nYtE3i6DI0kLyKZO2fhYXiYagG\ndjaZce2YsFDcK4mjuUkcnYae9OcDF4SF4oNhodjSajQHokhkNeTrV5HE0beIkK5AEcDrpkhz8nNn\nj3SYiRCwusrOqBC+bVgoXuUiHovgLrbzOjV3TxKkOkuBP1u04Pa9gupyZUgJ6ba/hObcgGoieUyy\n1+kl2+9E9ZzVw0XXq3JCjiEl210U91l+Y1godkcE8zaKiN32AMnoK6kbTTVC0QeojvRsrrvf2+uo\nvLrNPk9nSbVtEkdv2/ZVERmkwO52/5x44h0U5Y4HeiZx9HGoJTv+iqKjD1C678uwUKwIC8UrUE0I\nFBHtncTR52Gh6MQOjZGoYt8kjr4NZWz8OYoypyIiPAGoCrV21Pko9ds7iaM/JHE012pYr2IuE0kc\nnZNoXlgbVHfzbhMePxs8Uf1AJCUuFjYouME372YxMiwUW1h0tQ5KPW2GlgwZCExJ4mhrFCk0RpLx\np0JZGY1Eg1w5MDosFC+xFOHjqJA9HRHfO2Gh2MtSYf1s+6+BB8JCsbmR6Dlkzu4vhYXiEXa+n6Pa\nQzkiN+cSMRulAavRnJwrw2yirhvU9wkzV3W31tYjaPAfExaKzXK3bBr6vp1CXYyw10tCuTg4bGOv\n7fON7Um9EkUoC9erMpJ1Dha11MU69top1745GQndUjK4OnuqyiRT+gXIfHUD4KMkjm7J9dWJzLPv\n2tz249GEX1D09Yltb4ZqOKugycf/se2/RqnKTmjxxCiJo8owc7n/A/o8dkjiaLalB19EacZKRGrX\nJhJiHIlqXi3Q0h/nIoupO1Etrh2KtNZOpNLrhQhyL/T9+VUSR49b5HUpOZeJxFwxTAHq3SY8fnZ4\novoRSEpcLMJCcRfb/hV13SxeCAvFDS3dti16Mm2Bns4fDAvFDkkcXYTqV1VIIPG6PUE/iGTWIDeL\nh8JCcXWLbLZAT8btsfWuUPrJRToR8Kg9vYMGuomIlG4JC8XrLW1zi+1fA0nnW9t1fIaexEFkdVtY\nKDZGNYsFSEgwMpRrgsP19roDEp0494qWiKzOLGk/xV4rkMu6+04OsONsFWYuFS6qaYVqLflVgC8g\nM8wtXfRwDyTt3iPX/nKyCOx/Je0HWf+t7Hig6OcIFAHdnGufd58AmGLRz8WoplcNFK3+6OyS7sZc\nPIAbQrlM/B+KhlsiQtjL2jcmc5sAfR7Tw0LxXKQ23RxFxDskcfRiWCg2CwvF6+0cyxEpnRMWimcj\n0c1B1s8fkjjaH2gRFopXo3lR7VHUuUUiH8HVUdp0octEIgEPoaYhuHl83m3C42eFJ6ofiSRzsfgU\nOUjsY9trkxI3i1Bzp+aiFNk7aIDpC7xp0ZUzwp2BBt3TkJx7Mpoo+w3mZhEWij0TyX572faZZOtd\nfW79f4JqVE+HheLaJqI4BJiFUj5Ho8FmARIATMLcK0LNFQI9yc+2fYeiSKAFIp3nyblWGJxLxRMo\n2nPuFR3R03feAxCytNxYzMXBiKwXSn3lXSogi7BGY/OqwmzelKvF5OXuzo3iIbT0xVah3CdORg8B\n+XOAbN7UGDv2mqFcJwqobrTQjcLg3CecuvBzNMF7ECKSRugBw5Hg3+0YT9h9etGu5TIk+ihHZraz\nQrmFOLeJSehzGIsUmjH6HFOkIHwlzNawOhp9H79FDw6TyB44FiChwzCLoiaheVEz0feoVxJHU8NC\nsSclLhNOHBEWilvbcVri3SY8fgF4ovoJYCmdndA/9qhQy3+7fXXcLMJCcRgacPqiiGEmqjmMRANn\n3jl7HppnMwINSC1RRFSFyOdURGR7orThe9bucTTorYPmvqyD0pMbJXE0BRXDO6IUXmc0b+tN9HR+\nPDaJ1QQZzgNwMzTgOheLL9EgPJica0WSuVSsbfuORWnN1mhQzK9X5drPseseY+852vq+gbouFZCR\n0INk86rcvKm/lrSBzI3iKns9AEUbb5KpCd1Ch3kXCkdihyEifhBFWVPR50xY133iUzJH8hORCCGk\nrkP6QtcJlN57BZF3X3tfZ+RI8VwolwznNnGR3f+X7N6uh6yPVgOOTOLo0bBQ3IvMZeIORMrvo+9V\nE/R5pSg1PCEXRdWih5RGKAJ/LywUT6PEZcLdzNC7TXgsA3ii+olgA3pvci4WOQHCFBZ1s0jRANUY\nEdBFKPp6E9VntkcpqS7oCX1VlB7rjeogzs3ibnvP/mi+1AeoFtUHPT0fbsdujAQePSxNcwdKAx1l\n7/mNtZmJah77A0PtGpzLRlc0r2ZzVFRfB9Vm8q4VYC4ViBBuIfO+m8qizupuewdEUDMQ8cxA0V7e\npQKytN6nZPOqnAvFGyVtIHOjeBtNQD0ODfCHIsEEZK4WC10orH/QlINn0TywPsA4qwHVcZ9AxFOG\nJr+eheo8eYf0vOvErajWtQ36TH9rPy8Dl4ZS1y10m0A1oBRFbuMRMfZAatJ7wkIxJnOZOMHuRy0S\n6FyNUqW1aIpDShZFDUey+PUQgb9FPS4T7kaG3m3CYxnBE9VPiKQeF4tQxqMkcVSVLOpm4Sx6QvQ0\n2xMp0Eai+sb+KDV0ElKyDUEDzeVosDkPDYwvogHnGERkqyJy+ho9pf8JPZnPBJ4IC8V+KPU1FaWE\ndkdP9KDB63Yy94pzc1HVAWgwdMalXRAhLXStMGJzqbE90SD+vP0dJouuAoydR0dTGx6DBvjPTMjg\nXCp2trZ5V4o7UforAK5I6rpTEBaKa1HXjeJTJEX/S6JlSzoCX5lgodTTz6kWv7TPqIedh+trofsE\n+j/qi+qDh9u93ujofwAAIABJREFUzDuk/4bMdeI0u78gIu5mn4VztXdrlq2Jop9eaOpBJZoX9RJS\nGF5p5/komcuEm98UILn48XZ+MzAfQDKPvl6IsHdDDwgJ9bhM4D447zbhsQzhieonRpK5WAxBBHNn\nLhogKXGzQAPGIejp+k/IAcB5Bj6P5jGNRQPTPERENSjqOAw5YbdFZFWJopdDUSSxPhqk+qMnbldQ\nH4uI8XBrc1kSR8egQagDItHRaCAcbAqy/CrAE9HAGKBU5GpkrhUnmtT6DaR0W4BIF+D/Qq2pVBpV\nTSOLgtzSHBuZCs65VLj0XwcyV4r1EHkEiORL+4rsdWxYKHa2+wCZ6Wx+8cV8NNWJ3DIoiVwnBtj9\nf9zO6wy7rndQxNUceMqUmnmH9B3RAP8SerB4Bn3WX6DP+iBEcmehCG+iHfcI9BBxOhJkdENkdhmK\nhsegVF8P9JlvhAiyAhHfOBTNvos+99HU9ejbC33vzkORdx2XCaeCNGGId5vwWKYI0tRPefi5EBaK\nZ6H5S4+juSezcvtaoNrTQFTofxyR283oyXcDRFLbI2KZjZ6or0NP3Leg6GFVlI5ZDSkKr0ED9wmI\n8KYhwvkMCRGuQ/O/dkKDbUc0SLoF9u5AIoyOaBDbHaWc9kK1s/9DkcS2dn4fogH/ADvmr5E7xOFo\ngFwdEfdfUbSyGhKMDLbXEKXEjkekc5mdz0coatscRZibIuupG5BLQ8ewUByJnBc+Q9FiN2yByCSO\ntgsLxbH2vvVRLWgzJDB4LYmjvcJC8QUkIOiHBv2Wdl+etvOsQQP8MXadkxCBTEI1miPIlk1pgdJs\nf7S2E8mI6XO73r8hUmiDouKRdtx/IdK7F5HoPxFBzUO1vcH2mY9GIozH0cTaBBHMgeghohX6Dk1D\nDzZPIyI91u797xJN3D3T2uW/K08jEcdCo19TKF5j138jcHziJ/J6LAP4iOpnRFKPi0VuX6mbxalo\nED4KuSHkXS12R4PpGDTo7I0Gs1ZocOyFBvTn0FOzc2S/En3G76BIZRgadDqhgekqNFBNQgPRy2hw\nvgcNipejwXIySiU9Seas7ga0U1D09ACKEOeg9JNbYK8fIr1Ku475SMQwgiyqmkbmTjEADfKH2Pv+\njog6RDWyjsihPO+QPojMWX0asmRqjqLPsSjq3AFFuA8CvW0uU0dr76Kpy+26O9l5OFuoTZG6cawd\nr73dO6dw7I8EC9PIoqkRdp3z7HpuQWndi+0zcUa7sxG5PoBEDbORwnA8mUP6k3b/J9t9jLFJ44ik\nbrH7+rr1faW9dx30eZd69A1BachtKHGZsM+U0LtNeDQgeKL6mZHU42KR21fqZnE4egI/PywUT07k\nO5d3ZN8LDVb7oBrGdERyW6ABdntUU+mKVp+djCK0B2zbM6igXoNI8A1EhB+iJ/crUBqrL6pVnImk\n4a1R9HYXGlwPQGko7NWl6P6KFeHJJh4PwFJslhLshwjpCjSQn4nZKiGC7YoECy+iFOEhiPDI90Vd\nh3TnATgI1a7aI5Jqikj6UhSt3IHIppntb2/tB9n797VzOCiR64RLI7q0YwWKau9DNbtPEAG6SHkG\nilIfQmTR2vo4GhHczrnPqD+KAB9CRPIBiqLXtWNchD7v2+2+T7f++iOFZDf7/LqhqHUVFGGdYdt3\nQSnDXZI4Ot3cJfogUpuEUqV1XCbsGggztwm3eKN3m/BYpvBE9QtgcS4Wuf15N4sd0UA0PCwU97P9\n+eiqC3rK3g6lnzYGTkni6CAUWX2GopPGKBL4Gj3lJ+hp/lkUfQ1DpDADDUjvk5nlbgasYyTZC0UL\nq1mfkR3XLUnf0VwsBqAB9TA0UBZQXaY/kkpPtWt5HSkM10dE0ZasvrS3vTrBwmBUN7sMke6eKMKZ\nQ84hPanrrN4OpeL2RdHJqSj1doINtk/Z9n0R8bSz932GSPSEJI6cN6JbgmRPNLgPRoRyEJKW72RT\nE5zAY3u7ng52fdWIDA5J4uhk9IDQ3+7LuUiteRiKdrtgTuemyrzQ7nNk17OG3a9yMsPZXqhGNQCJ\nXPa2z7MruSgKFs59ut+OtRklLhMOJW4Th3i3CY+GAE9UvxAW52KR2593s1gLpYzutEmZlERXr6MB\nK0RP86eGheLuSRw9hZ6wT7HjgCKvRqiW5ZzV5yaLOrJ3RXUeN7nWOa0/Y30+h1KNHRBR/MaO0cHa\nVaF623A7zlxEvm1RbWlhWimJo3+hAXoLRBD72a5ewLtJHP3X2lVbnxV27J4oetiYug7pkEVVu9vf\n/RBBbYjmGn1tfVaiaMEJK3bHzGKBQUkcXZfrc6odbzs7fjO7lvHIB8/dOyfe2M+uZwv0+XyG/P3u\nsv07oPpUd7s/XRF5gTmdJ/Lo2xQpPucgclrF7kE5Iu2NjMzWR1HsTDL7qIVO5za5nLBQXB9FrxXo\n+3ALOZcJB+824dFQ4YnqF8TiXCxy+/NuFnPRwDTeJpa6NqWO7C2RCu6OsFBsl8RRdaIlzLsg4USK\nIqJW1v6PzqYoyRzZh1m71ihdVknORy+RH2AfNEhWoKf7FNVnOuba1SKnhvPsvNawc3Mptvy13ouk\n2u3tuKDBdmxJu/9ZnyGKJEARwUKHdGvnoqrQNq2BBtyhNuk6j3G2HyTfb4tUjJeWtJtmxwysXWM0\nB2qfpK47ursHre16ApRq3DbJ3NVBkU+tHbulbRuDRVG59NrFuXbOwukha3d+Ip+/ClRLbGrHTSmJ\nogDCQnFNVONa1c6rjstErp13m/BosPBE9QsjWYKLRa7NY0g59xp6in/OnordfhddbWFtytCT/7jc\nJOPpSRy5tYVeR4NUBZIxH5LrKx9dTbW+miDBQauSY56PBtu51q45mV+ea5cmceTcJdJcf/ll413b\nv6F0mkM5iy5sCBJ6jMn9XUXdaMrhTpTidHgHqRRLMd7OzWE0WuajtA5TOlfoCuAok9znEeZ+r0UR\n7SGWEs3jULL/Oafi3NceBNSRHkr2I/MOnIqimwElEdDV6DtShh586kRR1lcrJJBZC93/nknOZSLX\nzrtNeDRoeKJaBkiW4GKRazMFRV8jkfR5UlgoblbS5l0kE78EDbzboZWG84sQvooGtOPQAA8yl92o\npK+JiHSco7gzWy0993EotecG8W3DzHg23+5GVAdyg3/70jaG88nIKUWpp9K+UkR8jiAeyEdTuXbV\nZOsrgUQR8+tp9wWSqYOUdgcniy7CCFn6FOBiEx3UITO71wfbn/PQQH91Pe1OJbsH/0ZrP+WjKGwC\n9Av2Z4rUfZ2TuisFExaKl2PrhyGByAb5KMrarGrXtrb1uWmSc5nItfNuEx4NHn4e1TKEOXPfiOo1\nfwdOq2/ADLXE/aVo4NzHyKK0zbZokC9HkcSuebmxtVkFqQc7ooHwCuCC0gghLBSPJnNBL6IBf3ZJ\nm6aovtUMFea3yUcGuXZDUYqvBtgyiaM36mnTBMmrQZHIXaVtrN0UFB08ksRR38W0OQMp7qqApvWp\n1cJCcUvMrw/YbDHntCaaLNsazbvqVk+b5igltzO6nx1K74GRuJu4C6oP/a6EoAIkA78GfX7zgU2S\nOPqwpK+WKKXo6mtHJbnlRnLtNkVpvFWs/UGLuQ8no5riM8jY1k/k9WiQ8BHVMkSyFBeLXLs/IreB\nCuSycHGYLYfh2ryIajfO4+2DsFAcWBJdfYvm1jjboXOADy31k+/rBrLIJrK+epW0mU9mAtsJrYm1\nUz2X6fopB14Mc+tX5bB17vfbzM2hDmzelKsF9TF3iNI2ndGcH1A9aa/FtHkit6lnPW1+hSbiutrZ\nw/W06YKUgM7a6bF6SGpjlHZ1JPVlEkdHlZDU5nasa9E9qgE61UNSvZDi0JHUgYshqUMRCa8CXJ/E\n0YH1RYHebcJjeYInqmUME1CcjVwcDgCK+dpQrt3fUWQCmvczLiwU25W0eZtspdmm5Na7yrWpIUsb\ngSKUR8NC8YGwUAxz2/+e+311bL0re6p3yNdM2qBJzWeWpDEduaR2To+HhWLeDR0ykUEN+k6ODQvF\nriVtLrA2lSiyvNXm+wBgnoojEZlXoqgkv14VodZXmoAG8SrqWjO5Nlsi66r2dj6VZMIL1+a3iAx+\nlTvvSbn9FaHWi3odCURS+7kh12bVUOuH/QcpOR2uSGxJemvXMsyczp2J7jATo+TPqUlYKDqvvwrk\nGpL/nBeeGyLFC1A0v1+psMLDo6HBE1UDQbIEF4tcm+FkyrQ+aF2qbUqa3YrWZXKr3O6JrXeVG7Tv\nRenBb3Pv2wtFRYPMteFhNAB/gQZrUFQ3KRddudTiXGRFlKLo8P7QFl9E0u0qFMHNsT4fCAvFo3LH\nHoCihXL0nawAHg5txd+cC8XHSPJdQeZa4eDcJ1JUb5lD5lbhLKvGoQm15UjMkJC5VLio5WkyJWU5\nkrh3sP2NwkLxSjQfqZEdo8zauaVCNiZbL6rC7s0cu/6xoVbMPRbVj0627TVIIj/b7h+585mEom3s\nc5iE5mCRa7cucr84wTaNAo6tJ5LybhMeyyV8jaqBISwU90ADzadAn3pSQAF6Ij4G1YhaIvn2iCQz\nEm2HBrRyNG/mWxRFjEF+bdPCQvFgJJx4CzkiVKGBtTHy2TsTTZbtgNKF08jmbTnrptuRMOCfyC1j\nCpJBN0Vk4Za82NHO8y2UKvsARSMFRJofWF8DUeTgUoFT7L3DkTDjAzuP3sg1fHdEYO8iwcC/rf09\naNmMj9Dgvy1S9vW1bTV2LaPQ5N0BSJl4JyLmtXP9P4YmO0fWr1vY0qnyXkbmsgPtfZdY/81z1zkR\npWN/i6YCdEPRnIv+vrb3Dk7i6HyLWmNEUO5+J/ZZdM/X1Oz7crudfxM7Vv9SEYlFn6OR4vS0xE/k\n9ViO4COqBgZTeC3JxSJFfn5j0PyfN1ERfqRFDU5VeCQiqYeR4GEqtt5VqNWEXVQFIpAUDeKptR+F\nBsYuSAwQ2jFbIRI6CQ3cIKeFOYgc5yCLoJaIOLZG5FJENbSbra9H0WB8o/UxwV7vQaR6H5rQ+iiZ\np98aaPB/FSkh/43MXO9Bkc//EDG9gCKeoSiqehjVdv6B5kMNRSTxorU/h8xLbxWU+muJ3Cc+RFHY\na0g9+a4dexSZWAGkXoyRsKQ5IrjQrndz9LAw0Y6/AEWg00vu21Vh3VV3P7T77bwOC46kLDK71O6r\nWxTxTbQ8RylJebcJj+UanqgaIJKlu1hUo0jgeeRucBMazF+wNBk2YXM4cmi4CAkDpqPBbySKgoaj\nGsrVyNGgNUprrYFIzMmpd0QD3W5oMmqIBkWXXtwPkcAeKJ3Vyvp7AblItEdk0RaRSoJIaATyCfwW\n1WogW279t8iAd2s0CA9HNZqptr8niviaW19HoQhoAiILkJBjBop4LkapwffJ1sf62H52QhLt2eh/\n4jQk9R+HIqK2KOp5AUWfx6IIcqydP4jUn7Vz+Ye9JnaPWiOy+4/19RxZNHyK3bd/oGjsX2SkE6LP\nbjdkrzUcFtbaHkIuJqOsz+kokppJDqF3m/BYAeCJqoEiWbqLxTwyj7f9UOF8DeBlmxsDSq29hQb0\n36CUXCek1uuD6hRTbX8/lM7aChmbdkZpp9loMO6K6il7IJLcAM0bmo3I5ACUztoXkcyGaMCttL4K\nKL3YG8nx10UDdQ2KTPLLyLv1qra0PsrJJgZPQwQR2DGdc0N/e+9Ysjlex5ItgNiEbL2pNW3bwWTW\nQ++jSc9/yF3rrogkQFHOrnavOlm/nZF7udvvlkFphtKlFUjc4pZ73xJFXdj9+63dr/l2LSciwUWl\n7T8QpRyrkA1UbVgo9kTR3U5ITdgNW7gxKVnMMPRuEx4rCDxRNWAszcUikddcX0QolyDimoSWJx+G\nSGAgqrEchyKjuai+dTzZnKpN0SDrTF8PRQP0fBSx1KCBvDkyQd0NEUMnVNOajKK/Zmhw/RqlHnsh\ngrgNEVMZmlz7HCKegYiE/oJIoBZNcHWrAJ9o5zDMzglEQq8iUcXJKPIYhwgkRZGRE3kch+oy76NB\n3a3e28n274tSiqn19SCKTg+za94O1QNBRHKZvf88O9cOKMVXa/f298h370i71koUWTobqb1QpLWL\ntfmGzIl+AXLP74vqVf0Qifawz+rTsFA8DYk9Ku0zOMz6jWzy90J4twmPFQmeqBo4luZiYWTmlkG/\nFQ2+Q9HA/SSqX1yIoq4eKEr7EPkADkdihxSl4bogM9QtUcppO1QHcvN7jkFR1LEo8tjH3rsJWvLc\nDepPokjQRUEd0JP/NGCtsFAcgRwkvrL3/836CoCBpmK7BZHgK4hk3Nyn7ex1HooQj7Rjp7ZtFpmt\n08coahpn92ccIlunmjvXrn+evf9YpJzb1bbtRGba+zgSLbxufT1l972HnfdBqBZ1DSKm861NO0Su\n3VAU65ZP+RSl+bB7/3tEyI0Rkc1Fn9vtiHzvRp/reLsHg5CF1gFJHDk3C8C7TXisePBEtRwg0SKL\ne6Pa0h+Bv9m8Ibf/TfS0HqKo4AL0pL4ZisZeQ4X8q9FAuDMSEtyFIpazEBndhgbrs9Cg+lc0aM9H\nBHcWSkXNQtHbP9GSHgGqmTxIZvn0L5S+AtWODiRzNj/O2pejQf16FEFNQkTyLCKgGhTttUJraoFS\na8NQ2g2UgmuM0mzNEVmOsvc+ZufeC0UsLsoIgdlJHP0FEWZze//VZJL34xDBOlKbbfdxLUSepyJx\nSTMkQrmKzIHjt3atR+eu/2AUtQ1Hda9/2X0aaf08hOppO6A04e2IzK5GYpX97Fz2QYS1O3B0oiVk\nFsLcJu5GDxg7l6YDPTyWR3iiWk6wNBcL83o7CK3aeg8ije5IDfcwGuxAZDQLEdFYNBC2ReKJz2z7\nRUgFdygayB9Eaao2KCpxbuszUX2qzN47FpHMbOA9NGCDxAuDkQDiDZRy7Gn9PYzSXCfa9k9R3WkA\nUvy1QYKDNRGpTba/XyebsBvZcYoofTYfpflWJVu9dxQivU2QKCIJC8VdUT3ODfb7IwKfZ9dztx0P\n9KDwP0TK1yDiryCTujsMRcKIHnY9kxH5XIaIc4Bd63t2n55DRPUuStH9D1lArWef1RN2D3Y1Yv0L\nEs6cl3em8G4THisyPFEtR1iai0WiRfBOQgP3tWgw7IGMS89AqaCdgLNNjLEvqslcgAiiPXpqfxsN\n2h+iKKoakdnvUTRxASKKTmSu5r9CEcEI9DSfN7jtiZR4NyBxRxcyWXc/RJJDEEGshsguRZHQiyhV\nti4i3flYLcuOM4Bs2fgNbV812aKHg2yfq4F9hCK5L1CqdBqKMGsRga1pr/cjNeJGdi5PowjrBbKo\nazVUg3vOfn8bpURno4hnA9t2vV1/b0RsR9o9cPL6iUjs8Lm5dhxr9/cCNE9rqySOngoLxTPtXlxN\nJsrwbhMeKzw8US2HWJKLRaKl7S9Fcu0/WtrwcFR72QjVPv4YFopbmcz9aPS0vxuKtI5FNZIz0cC8\nAIkealH6b1dkZrslIhYnnb8WpbJq0YBcjaKtShSBrY0G6d+gSOTXaPB/0M6rDNV8mqPo5RoUfbnF\nF3tY3z3s3OaiGk2ISKGJHcOpH0NEnlva31VIBLGBbe+MiKwjIs/brO26qJ7UAsnhx6OoyK1GvI2d\n/ypkc8CcUGRjlKLsjlR/5ShVV2PnNtTOObL70xtFenskcfStfY432bVtafd5N5ugfSgi8/uAP+Qm\nd3u3CY8VHp6ollMkcXQbSmttDDxrZqsOg9BT/PlhoXhyojWiRqAU1FdooB0fForNbN/5qL7SCkmz\nD0my1YSdWqwMGJhoYcZzUFqvhsy49TFEOKPs70b29/Sk7npXjW3/2kiRtz+K9pwtEohULkVk9rht\n62L770XE18/eAyKp1ZFL+A1IAdnZtqVokvAOKKX2Pop+Ots1XY0iqruQOANEQnOw9aLsvN16YGUo\nEupGJqlfC5HS6Ujc8C1S5Ln7sHC9KESUTlb/Dzvn+SaQGWPnVotc8s9J4qg6LBT7IHHJk8DhzmHf\n3CYmIGI/NYmjC+pzSffwWN7hiWo5xuJcLErcK4aHheJ+tv1lNE/qRRQhvJZzsxhOJgG/NiwUO5rk\neSekYEuBdcJC8YqwUAySOHoADdaf2XsGAVOTODoQRXpuvaiOYaG4tdXQuqIB12GBEeVfEZE5T8EP\nkjj6wpYWGQA8gmpDKXCived1NEA7nJ7E0Wj7fTCKDkEpt52SOPrEIo2nbHuKiPeUJI6qUNrSYSLZ\ncu8d7Hqc3HwgEim41By2fZckjoYmcZSGheL+ZC7nN6O1oCaGWhbErS11OVqsscaEMWNQtDgVpfoe\nBAgLxe5ItPIWOdcJ7zbhsTLBe/2tAAgLxU3IXMH3SuLoKdveDEU63VFx/UnbXobWIOqJajZ93Tyc\nsFC8DCnrvgB2TOLov7b9EFTrwvo83FJSLVBNBuvzt0kcfWl1k9ko2gFFD+clcfRNWCh+TDaX6Trg\nzETLqz+K0mGg+tHxFm38HREvKKI6LImjqrBQHIwmEoNUc3uhKO8iRJygiLCH/V4gWwZkGlkkdDYS\njTgyaoYinjOQytJFbqsmcTTD7us/UPoVlJ57wjz6rkJpOIBrkjg6ye7fqig63BJ4KImjPWz76ihd\nuAMiqS6JrdIbalXn51AqcHun4DO3iUdQxLiPn8jrsaLDE9UKAnMan4DqLwdbxOMGyGfQoLxTEkeT\nbHszVOjvhAbC3ydxdK893b9v279Gtjyv2HsSlLIrQ4q/UxB5fYJECOUozXVAEkfPh4XiTFTrKUMR\n0XRkZTTU2gb286Ftv8Xaprb9NZTmu6Xkcicgsixdjv56VFM7sWT7BWju0Z4l209G9btt69l+Gtl8\nLAc3wXkUikwdVkG1NOdjmKIaVLskjmaFheLads4bobTm2kkcfWUuE/ehlOY8YMNEKzu7hRufQ6nV\nHXIPElsjUg7QZ+Mn8nqs8PBEtQLBXNPHoYH3hCSOrrPtnZBEvAzomcTRR7Z9K6Ri+xalD4ej6GJf\npNj7EkUX+yRx9JgtcXEKilpqEAmNQeTVCM3bmoFqXQVU/H8SpfXmI3JyNao3kXy8A4q8WqLBvQqJ\nF3qgOlFzpPZrj1KWXW1bgOYbrW/7ZyLVHyganItI4x1EEE5gMBmRzAwk+55v1/iunY9b82m+nes8\nJOpwIo6L7Dpa2r3riqK/k3LXMQ2YnMRRX1v2Y4L13RylJS9A87CGoBRlW1Srusc+l1Z23zZCsvQX\nbHtvFH19hZz1/URej5UCvka1AqHExeLasFC80OpJefeKCWGhuJq1fw0NvO3sPc7N4lk0wH+Fop3x\n5nYwDhHSlUh48B6ad7UZGmzvRNHFc2TrKo1FhPM0IodqFHF0RSQ1HA3uoBRbI0QOr5CRmjPHvRqR\nY4oEB+ugqOthMrEDSOX3J/u9C9nihl+RzSdri8iuGYoKOyMycfJ2kMCiBZkc/UqUKl2AUorzUGrz\nRGQ465bn6IDWntoORbON7Z7OQalO5zLxnN2vO3Ik1RjVpOq4ToSF4oF4twmPlRSeqFYwlLhYXIq5\nWJS4V4xzIgqUPpuIpOcnIdJ5BQ2WGyHCeQENrpuiyKUjqsNsgCblfoWiqjZIXNGBbDXbPyAC64Os\njsoQGThRwbEoIgJFJjVIvFCFSOu/aLAHRTQ1iKiORyTRBQlKyu1a3GKQeW/A8db2SzQXLCVT7M1D\nJO7smuYgwvwdMuCdYMfC7tPniKTftfOsRinHLRGRfWltZ6Ga1Aw0b2p3uw8TkMvEhXYfP0WpRlc7\nvBk9bCx0nTC3ibvwbhMeKyl86m8FhQ16l6MJu/ci8UNlWCj+Bk1mfQil9BaEWoJ+EooKjkN1k00Q\nAX2G0l53IaJ7E6XHOpCJE55BpqzzUbTREtWQdrc+miGCegYNwgkitulo0G+DiKkxing2RJFGNbba\nLyKTAJFcGZp/9RtEXOV23AmoDuX6+gal7XYgS/F9hVJ0HayvpojcmqJ0YRWKyEYjwp+Ooqqm1n8/\n29bO3vcemlt1B6p3PY5cJTqgNGN/FDXuZcebheykDkFk/+uc+GUIIuPzkjgabJL1S1GqcDSqPfqJ\nvB4rHTxRreAIC8WzUKTxOCKmWWGheBxykLgZiSjSsFA8HEU0/4dseEYgKTZo8vDtZOapoMH/eWvr\nlkrfDankts+dwiZoMvBO9nc1EnzciuZJpYhkpqGJs9i2uYgQ1iVL9c1BEco69neAyOJbRHxOhPGN\nvb+9/V1m76tCBFOe27YApfzKUPTWF8m+nWjkfVSze8LeG9i236FosrG9DkCENt3e9wSa7LsecnsH\npT8PQirMMcAVNicNc50YgtKbp9o5XoPI7AZUc/QTeT1WSvjU3wqO+lwskji6Fk2KPQoRCyhVOAo9\nwW+AooMT0eB/HZozdQySX4McFJogddxE27YTmjx7Tu4Ufo3cLPLzfMpQWu0FNPB/jNKMl5CRzat2\nzJvt73JUT9scRX7OlLcPUvQ5scY3SCxxJIrGylHKbFO7vkZ2/NtQXesZazcdRYXfIDFIOTKO7Y4U\njY6krkP1o0Z2/Z+iVN4C69OR1B6oDvaYneffEJHXIOJ5HaX/KHWdsH7zbhPHepLyWJnhI6qVBGGh\nuAcaqD9Fg3uCIp1jgFOSOLraVIOT0WC9dRJH88JC8Tw0WFajJ/0RKPJYD0Uee6M60UvWZo8kjh4N\nC8UnyFa/HWN9uOUoZiLXh0PJakm3oAji32QPUJ+imlC33KU8hFKKbm7TR0hGv1VJm95kiyp+iKKx\nTXNtDkb1OrcUyVsoHfcAmTP7/ojgXcQ4LYmjjraK8r9RyvIEZKV0PXogmIck5bujdOkqwKgkjva3\nVN5odP+7J3H0hrlOFBFh9kcpxtGI9E/zE3k9PDxRrVSweTtFNKm1H6o33Y/SVgckcTTKBs4JwPAk\njk6zeVVvozRaK1SLeQsRzwL7/VBUC5qKBuZeyOX7V4gMFthPc7I6kLNeesvaNUO1o/nIRmgW2Rys\nGjRXa12qF7/5AAAR3ElEQVQU1dQgUmxCFoFhx18DkVgt2aRerF2N7UtQDakJiqRm23lW2b1pRd16\nG4ic2yBCdPOb2th9PAX5981HzvUfo2jpG0SW69q8qWNQRHZ6EkdDzXXiSeTKvrPdn4eRLdbhiV82\n3sMD8Km/lQpJHD2P0lvVqF6yA6qZPA/cERaKvZI4egQV/08NC8U+5it3MRq870ZRx5HW5bUofTYW\nDer/RNHNeFRHegXVxhYgkgBFSa2BKWQE04xM3u2sjF5D389vURrOkZSzWXKOF66eBSKfCuujzP4G\nKfECJLl3fzdBxNaObHHEKjvPD1Fk0xyJST5EhL46itbaIYUfKCLbA6VEmyL134UoMmsNDDOS6oIk\n6Y8jW6v17T5NR5HUGogA10Mr9nqS8vAw+IhqJUSpiwVK4U1EAoKdUPTwMqqxbEamnqtGtkJ3oKhn\nEkodjkeChPFowvAz9t6bUN1pMhq0n0YKQmf+OoFsuXpQtLc72fypIhI3uDTfj8EoVEty+CfZelmg\n9ORe9nuKLIr6ki0z3w0JHRag6KkXcmOvQuT9W3udj1KFfRGBhSjV+QxSM25mfSx0nUAE7d0mPDwW\nAx9RrYSwCcA7oajFDeD9ULrtYfR0PxCR0Qg0WF+KajytyZaV3wIJMnohEuuPyG5f9N3qjwbpW9Ag\n/D8UcbgIqAUa3N3T0hNk6yxVI1n2u/b3FDsn1/YrRDYOz6FUpsMlZEKGb6wvt5Dgo0h16Po6g8xE\ntxY5abiI5hnkiHGw/X2pncsp9nc/u+ZDUH2qp7XfH6VPv0Kmvj3QfKyZiNDbI8LrhNJ/c5FVkicp\nD48S+IhqJYZN+r0XPflfhAb+Z5CAYUe0VtVgJBK4gyyq2gIp+ZwZ6vNky9WXoblAw9Gg/7j1dwBK\n4R2E6jjui1dLJhd3fy+w/RXUjaZqbD9kQolS1JBJ0h2qyeZf5fvLu1A0IktFHoVUeE3QPKnnsEm5\nSNFYQGnBL5Co4gC3L4mjK8JC8R6yaGp95EpxN5K0F5HIZG8USY1EKcl+fiKvh0f98ES1kiMsFBsh\nufThyCroPpSS+w9KwxVRFLQ5ihbuRNHCaFTreZVsMcFqe98OaNC/EpFWJapj9UACBLci7Wlk5ADZ\n5N15tr0p2aRf6mnnXqGuqCKPamvXGJFpI+uvtH2VXffGSI5egRzSz7D9I1BEVIWEHfNQPakJipD2\nRMTUCqVEB9vPa3bsLVHq8BBEhC0RmT+DHO/9svEeHouBT/2t5EjiaAFZBHESmjs1EJHPXSgKAM0R\nGoWe/i9Gg/9DyLNvGyR6aInqXa/Ye1ogQmqCSOd8NJC/Z/0FiOwus/blKCXX1H5uz53qY0hiDlLt\nfW7tZyKxQ4DIw9kt1dj5V9jxb0CijQpEti4yux/V4xojL8Pn7RxvJRN2vIAiJ5Dw4kq77gBFli2R\nCe1HSEgxB4krrkRkdjhKPR6C6lrroXlVY9ASK56kPDyWAB9ReSxEiYvFGLTExs2ohuJcKz4ii6oa\no5RgT5QOHGFdvY0iE1CEtTl6KHrF2lUgWfp61sfHqGbTmMwmCTJpOmQRlEvrubRdLao9tbH31/ce\nl0Z0ab4K2+7k6GXW9lskAqlFar91rc2HyGHD/b6htbkOEc+XyK7qLrJo6t92D69ApDoERayN8W4T\nHh7fCz6i8liIEheLI9DgehRyqnCuFe+RRVUT0IA/ABEYaGDewH6/GaW8vkIquq3t9TM08F+KSGRt\nNIgHZFFTGRJ3lJORiKtlzbTXv9l71kTRmlv4MCVLIZYjYppJVvP62rYX7e9VUI2ug/X3D6SITOx6\nN0Eik2pEUsPI7JX6WV/jyKKp28jcJ960+3g/mtPl3SY8PL4nfETlsQhKXCxeRgKIc5G9zzdImXcr\niqpOQVHIQDQw74/IrQ+KOpzU/AukInQefW4hRbf+UzUa/L9B85SWhBko3TYfpemwvtog4myymPeB\nSGwGktODiM1ZL61m29zKxHOsT7etKapPRWROFgOQC0ZvFD0ORhL0PnZvnNtGigQq3m3Cw+N7wkdU\nHosgiaPxyJeuHeYRiMjpRpTS604WVY1DA7MTNXREA/prKOIAqQXXQJGVU9+9Z9teIasvLbBjOvWb\nW+IeREqgCKUtSsG1REQzHZHMfxDBfELmROHSiC5S+xZFUKm1a2LnuhpK4VWh2lqCSMpJ3itRVNTC\nrhFEvv1RZHa+HeNLRF5/R0uJvGf9bAcc4knKw+P7wxOVR70ocbHohgbsc9BgfQpyXtiUzCliB0Q0\nHeznYxSRTbd2KSIYp77bCKXjuqNoxi3rAVlE5SYGTyFbhqMrIpMNyGpPq1mf3VG6sBMiuXI7fh5O\n9efazUJikPkouiu3frvYcboi0pqPyHl1lKoE1dXaIILcH0nN/4zk7IeRGdx2xrtNeHj8YHii8lgs\nkjh6C82N+hQN3J8jyfr/kI3Sf1HN5b9Inj0NRRsdEUH0QjL2WjToOxFDM9vWGpFCG3t1vnoudXed\nvd5qry6N6OTqzlUdMlJrVfJ6k70Ot9dmi2nn3l9OJlt3fY9G9aUK2+dqcNvade2MoqltEVmvhQix\nmf30SuLIzTnz8PD4nvBE5bFElLhYrIUIZhUUxXyNoqV30CTWz61Na0QAjVDUUolSbq4elJJ990rn\nPs1HEdQcFIGBhA0p8AGZSq++eVOu4FqJIiXnngESXIDk51XUVRfmC7Wu3wW2/2OUBk3JXNU7o4it\nH3KN38fuz9Z2T9ZEpDoL7zbh4fGj4YnKY6kwG6DeSPnWBpHQN2gC7zREVo3RwL6OvW1dlNrrjWpB\nbclUefVNzHXk8DZKrX2JSA6kHHwXRTJfIjJbXB9zUb2rFYoE3YKN7rw2R6IP1z7/6n6vRiTrjrOp\nHd8tJdLJzmMDFDHNQ5Gnk7RXoKhz+ySO3qvnPD2WIwRBkARB0PsXOM6gIAhuX0qbX+RcGho8UXl8\nJyRxNAct/X4bSpOtiiKGNijCmIsiqfb2lk1RdFGNBvQaMoeI+jDP+tvS/q7J9bWx9f0NIrHGKCoq\nlazWIGujFkjosBFKJ86yvmbZ3xvb/sXJw51LewtESt/Y8d3cMLeMPYi8KhGpuRWFnwd29pZIHisa\ngiD4KQyivzc8UXl8Z5S4WJSjQb8RmWKvE1nNpzWyFAKRSjmqPeWjl8rc780Q+VWjSKyV/e3IqIP1\nmZ/A6+C2uZRgI6QobGn9OTVhFdkaU2tYu9R+qnL9lZN5CbpamlsyJLXzamXnWY2ixRa237tNrMAI\nguDIIAieCYJgSBAEM4Ig+DAIgv65/U8GQTA4CIIXgyCYGQTB6CAIVrV9vYIgmFLSXxIEQe8gCPqh\nyeMHBkEwOwiC1/keCIKgbRAE44Ig+NLOa1wQBGvbvv2DIHilpP2ZQRA8aL83sev5OAiCz4MgGBEE\nQbP8OQdBcG4QBJ+huZG/ODxReXwvJHFUm8TR2Wg5jwARRjM0mLvBmjStxeboVZAp7RxJzUa+easj\nZ4s8GqVp2jpNa9dIa6tXra2uCtLamto0TfNk5Cb+foKEDF3RfK8gdwzSNE3T2tqy2uqqtrVV8zqk\n1VXt0tqa8jRNa8kIMEAqvRAt8+GioLLcD2ma1qS1NbWpzqdtmtaukaZpa+qa494A7JfE0bzvdVM9\nljf0QKng1dACoTcGQZB/ADscWY91RA8ywxfpoQRpmj6MrMTuSdO0ZZqmWyztPSUoQySyLkpzz0Pe\nkqCHp85BEGycaz8QqVRBrioboGzG+qjOfFGubXv0cLYucOz3PK+fBJ6oPH4QnItFamyU1tZSPeur\nl2ur5p1eM2/WH2vnzZ6KJpSXUTeKugmteHttEkezkIz7BDLbI6itqa2Z9fVDaU3NibWVc4bVVs2f\nBZSX9HUNsHESRxOTOHoX2TidTd10XpDWVFfXzpt1V1BW/vuaebPuSGtq3MRi189VSJU3LYmjscjW\naVC+nzRNA6A8XVA5u6ZyzrC0pvqkmtlfP0RtTW3uWJfh3SZWFnyUpun19vB0K4q218ztH5mm6Rtp\nms5BbiUHBEFQXl9HPxXSNP0qTdP70zSdm6bpLDRNYhfbV4lWLBgIEARBV/RgNs4I9hjg9DRNv7b3\nXoYm+TvUAhenaVqZpukyeQjzzhQePwqtukVj2+58RG8qGu3z8ZB9Hs7v63TG/Y+UNWqyuz1svgMc\nlMRRvSmNsFDsXlM55/myiiYE5RXrm8Gr2xfUVld9XFbReO20tnZGUFa2dxJHExfTz4Zpbe3ooKxs\nw7Smen5QXtE6iaOq3P7GafWC6QRBq7S68sCP/3rAvYvppxN6Qt0NoHbBgmlljRqtlcRRmmsT1lbO\nnfTty2O++GbiyPW/803zWK4QBEECHJ2m6WNBEBxpv++Y258CXdI0fT8IgieB+9I0/bvta4EyCO1R\njfP2NE3XXkzfg4D10zQd+F3OpWR7czTBvB+ZWrYVUJGmaU0QBNshL8pfIfeUtmmaHhcEwRpIrTsz\n3x16MGwZBEEv4I40Tdf6rvfrZ0Gapv7H//ygHySkmFHearUOi2vT8fgbJ6/S88BJ6547LlhKX93K\nmq0ypeNxN65d3/51zx0XtNvzrOfLmra8cqnnVd7o8Da7Hv3uuueOW3UxfTVvtNq6TwMDl9ZXyy37\n39vxuBumLu78W209wJnqbrWsPw//8/P8oAnfve33I4FnSvaniGDAXFxy+zYmq9FuA3yd21eOpmG4\nvi9GRPadzqVk+4V27Pb295Z2XhW5Nu+iVPnHwI62rQwJodZazPF6AVOW+WewrE/A/yy/P2jxv4eX\n0qYZEjBULKXd+cAVS2mzNfDGdzivu4HDl9LmCODu79DXG0C3pbQZApy/rD8P//Pz/PwAopqCjIyb\no/Xd7rR9rY0UIlTbvBilmF3fx6NlasqWci79yZbCaYrqv39By+44Re4D9RDV+cjd/4OSPoehBVTX\nsL/XAvra7w2CqHyNyuPHoCmSfC8WqXLaNSx+Rd7v3BeaNNx0KW0acl8eKwdGAregeXVNgVMB0jSd\nidZ7uwHN8ZuDSM3hPnv9KgiCV5fQ/3gklnA/g4Ch6KFwOjJBfrie941E00ZGlmw/F/ly/jsIgm/R\n2m8bLvUqf0H4GpXHD0YQBJsjU9rOqQrL9bXZGhiVpmnn+vbn2h2KoqC+S2hzJLBvmqYDltLXYKQe\nPGsJbYYAVWmanreUvsbZ+d+yhDYTgFvTNL1zSX15rPiwGtXtaZresKzPpRQmOf8CZQj+u6zP5/vA\nR1QePxhpmk5CT4YH1rffFEVno1V+l4b7ga2CIKhXlhsEQWO0zMh36et64IggCFarb6dtP8LaLQ3X\nAqfZ8evra0s06fef36EvD49liROAl5Y3kgJPVB4/HqcBw2xS4cLvUxAELVHtZmMkJV8i0jSdD5yO\nJLPb5/eZMukelJ8f/x36+gAZ2k4IgqBLSV9d0IKP16Vp+uHS+kJLeHwE3GPnke9re2AskvbOr+/N\nHh4NAaYWPA04cxmfyg+CT/15/GgEQdATkVEr4ClURO6LlrQ/Pk3Tr75HX/ujwvB05Mm3OlIq3Qac\nnaZp1RLenu8nQP+U5wCTkaHtr9DaWX8Brky/45c/CIIm9p7D7fqmI1VVO+CcNE3vW8LbPTw8fiQ8\nUXn8JDBi2BYRwQLgiTRNP/mBfZUDuyIPwVlIWTjjB/bVFM0tWRPNF3n4h0Y/QRC0tb5aoYUbn1hc\nbc7Dw+OngycqDw8PD48GDV+j8vDw8PBo0PBE5eHh4eHRoOGJysPDw8OjQcMTlYeHh4dHg4YnKg8P\nDw+PBg1PVB4eHh4eDRqeqDw8PDw8GjQ8UXl4eHh4NGh4ovLw8PDwaNDwROXh4eHh0aDhicrDw8PD\no0HDE5WHh4eHR4OGJyoPDw8PjwYNT1QeHh4eHg0anqg8PDw8PBo0PFF5eHh4eDRoeKLy8PDw8GjQ\n8ETl4eHh4dGg4YnKw8PDw6NBwxOVh4eHh0eDhicqDw8PD48GDU9UHh4eHh4NGp6oPDw8PDwaNDxR\neXh4eHg0aHii8vDw8PBo0PBE5eHh4eHRoOGJysPDw8OjQcMTlYeHh4dHg4YnKg8PDw+PBg1PVB4e\nHh4eDRqeqDw8PDw8GjQ8UXl4eHh4NGj8PxQfJqBDNQUpAAAAAElFTkSuQmCC\n",
      "text/plain": [
       "<matplotlib.figure.Figure at 0x206ad395f28>"
      ]
     },
     "metadata": {},
     "output_type": "display_data"
    },
    {
     "name": "stdout",
     "output_type": "stream",
     "text": [
      "Mean squared error: 0.3888357827172429\n"
     ]
    }
   ],
   "source": [
    "from keras.models import Sequential\n",
    "from keras.layers import Dense, Activation\n",
    "from keras import optimizers\n",
    "\n",
    "# Feature selection\n",
    "X = data['standardized'][['duration', 'num_voted_users', 'budget', 'title_year']]\n",
    "y = data['standardized'][['gross']]\n",
    "X_train, X_test, y_train, y_test = train_test_split(X, y, test_size=0.25, random_state=42)\n",
    "shape = X.shape[1]\n",
    "adam = optimizers.Adam(lr=0.01, beta_1=0.9, beta_2=0.999, epsilon=1e-08, decay=0.0)\n",
    "model = Sequential()\n",
    "model.add(Dense(15, input_shape=(shape,), activation='relu'))\n",
    "model.add(Dense(1, activation='linear'))\n",
    "model.compile(loss='mean_squared_error', optimizer=adam, metrics=[])\n",
    "history = model.fit(X_train.values, y_train.values, epochs = 30, batch_size=500, shuffle=False, verbose=0)\n",
    "y_pred = model.predict(X_test.values, batch_size = 1000)\n",
    "error = mean_squared_error(y_test, y_pred)\n",
    "network = DrawNN([shape, 15, 1])\n",
    "network.draw()\n",
    "print(\"Mean squared error: {}\".format(error))"
   ]
  },
  {
   "cell_type": "markdown",
   "metadata": {},
   "source": [
    "We can see that the neural network, illustrated above, has an error rate of 0.38, thus an increase in model performance can be achieved by using a neural network instead of a linear classifier, with an error rate of 0.47. The neural network above is fairly simple, and it is possible that even better performance can be reached with a different architecture."
   ]
  },
  {
   "cell_type": "code",
   "execution_count": 154,
   "metadata": {
    "collapsed": true
   },
   "outputs": [],
   "source": [
    "## 5. Statistically evaluate if there is a significant performance difference between the fitted ANN and linear regression models based on the same cross-validation splits (i.e., considering the credibility interval equivalent to the use of a paired t-test as described in lecture 6 and last exercise week 6). Compare in addition if the performance of your models are better than simply predicting the output to be the average of the training data output. "
   ]
  },
  {
   "cell_type": "markdown",
   "metadata": {},
   "source": [
    "<b>Model Evaluation and Comparisson</b><br>\n",
    "To evaluate our two models we want to run them against each other on the same training set and see which model performs best. Since the weights in the neural network models are initiated with random values we should do more than a single round. If we perform a comparisson 50 times, we should be able to estimate how the model will perform compared to the baseline linear prediction."
   ]
  },
  {
   "cell_type": "code",
   "execution_count": 114,
   "metadata": {},
   "outputs": [],
   "source": [
    "from sklearn.model_selection import train_test_split\n",
    "from keras.models import Sequential\n",
    "from keras.layers import Dense, Activation\n",
    "from keras import optimizers\n",
    "from sklearn.linear_model import LinearRegression\n",
    "from sklearn.metrics import mean_squared_error, r2_score\n",
    "\n",
    "# Feature selection\n",
    "X = data['standardized'][['duration', 'num_voted_users', 'budget', 'title_year']]\n",
    "y = data['standardized'][['gross']]\n",
    "\n",
    "lm = LinearRegression()\n",
    "\n",
    "shape = X.shape[1]\n",
    "adam = optimizers.Adam(lr=0.01, beta_1=0.9, beta_2=0.999, epsilon=1e-08, decay=0.0)\n",
    "\n",
    "scores = []\n",
    "\n",
    "for n in range(50):\n",
    "    if (n % 1 == 0):\n",
    "        pass\n",
    "        #print(n)\n",
    "    X_train, X_test, y_train, y_test = train_test_split(X, y, test_size=0.1, random_state=42)\n",
    "    lm.fit(X_train, y_train)\n",
    "    lm_y_pred = lm.predict(X_test)\n",
    "    lm_error = mean_squared_error(y_test, lm_y_pred)\n",
    "    \n",
    "    model = Sequential()\n",
    "    model.add(Dense(15, input_shape=(shape,), activation='relu'))\n",
    "    model.add(Dense(1, activation='linear'))\n",
    "    model.compile(loss='mean_squared_error', optimizer=adam, metrics=[])\n",
    "    history = model.fit(X_train.values, y_train.values, epochs=300, batch_size=500, shuffle=False, verbose=0)\n",
    "    ann_y_pred = model.predict(X_test.values, batch_size = 1000)\n",
    "    ann_error = mean_squared_error(y_test, ann_y_pred)\n",
    "    #print(\"[{}] LinearModel: {}\\tANN: {}\".format(n, lm_error, ann_error))\n",
    "    scores.append([lm_error, ann_error])"
   ]
  },
  {
   "cell_type": "code",
   "execution_count": 115,
   "metadata": {
    "scrolled": false
   },
   "outputs": [
    {
     "data": {
      "image/png": "iVBORw0KGgoAAAANSUhEUgAAAXwAAAEICAYAAABcVE8dAAAABHNCSVQICAgIfAhkiAAAAAlwSFlz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\nDHxJ6gkDX5J6wsCXpJ74/+H74UKEXe/eAAAAAElFTkSuQmCC\n",
      "text/plain": [
       "<matplotlib.figure.Figure at 0x2069d204940>"
      ]
     },
     "metadata": {},
     "output_type": "display_data"
    }
   ],
   "source": [
    "pd.DataFrame(scores).hist();"
   ]
  },
  {
   "cell_type": "markdown",
   "metadata": {},
   "source": [
    "From the histogram we can see that the neural network has a better performance than our linear model. To further investigate this we can use a t-test and compare the errors from both models, and finally computer a p-value which we can compare to an alpha of 0.05."
   ]
  },
  {
   "cell_type": "code",
   "execution_count": 123,
   "metadata": {},
   "outputs": [
    {
     "name": "stdout",
     "output_type": "stream",
     "text": [
      "Classifiers are significantly different.\n"
     ]
    },
    {
     "data": {
      "image/png": "iVBORw0KGgoAAAANSUhEUgAAAX0AAAEICAYAAACzliQjAAAABHNCSVQICAgIfAhkiAAAAAlwSFlz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\nSEI/IqIgCf2IiIIk9CMiCpLQj4goyP8HaG+GGR9/DKkAAAAASUVORK5CYII=\n",
      "text/plain": [
       "<matplotlib.figure.Figure at 0x206b1f184e0>"
      ]
     },
     "metadata": {},
     "output_type": "display_data"
    }
   ],
   "source": [
    "# exercise 6.3.1\n",
    "from matplotlib.pyplot import figure, boxplot, xlabel, ylabel, show\n",
    "import numpy as np\n",
    "from scipy.io import loadmat\n",
    "import sklearn.linear_model as lm\n",
    "from sklearn import cross_validation, tree\n",
    "from scipy import stats\n",
    "\n",
    "X = data['standardized'][['duration', 'num_voted_users', 'budget', 'title_year']].values\n",
    "y = data['standardized'][['gross']].values\n",
    "N, M = X.shape\n",
    "\n",
    "## Crossvalidation\n",
    "# Create crossvalidation partition for evaluation\n",
    "K = 10\n",
    "CV = cross_validation.KFold(N,K,shuffle=True)\n",
    "#CV = cross_validation.StratifiedKFold(y.A.ravel(),k=K)\n",
    "\n",
    "# Initialize variables\n",
    "Error_lm = np.empty((K,1))\n",
    "Error_ann = np.empty((K,1))\n",
    "\n",
    "n_tested=0\n",
    "\n",
    "k=0\n",
    "for train_index, test_index in CV:\n",
    "    \n",
    "    #print('CV-fold {0} of {1}'.format(k+1,K))\n",
    "    \n",
    "    # extract training and test set for current CV fold\n",
    "    X_train = X[train_index,:]\n",
    "    y_train = y[train_index]\n",
    "    X_test = X[test_index,:]\n",
    "    y_test = y[test_index]\n",
    "\n",
    "    # Fit and evaluate Logistic Regression classifier\n",
    "    #model = lm.logistic.LogisticRegression(C=N)\n",
    "    lm = LinearRegression()\n",
    "    lm.fit(X_train, y_train)\n",
    "    y_lm = lm.predict(X_test)\n",
    "    #print(y_lm)\n",
    "    #Error_lm[k] = 100*(y_lm!=y_test).sum().astype(float)/len(y_test)\n",
    "    #print(Error_lm)\n",
    "    \n",
    "    # Fit and evaluate Decision Tree classifier\n",
    "    #model2 = tree.DecisionTreeClassifier()\n",
    "    model.fit(X_train, y_train, epochs=60, batch_size=500, shuffle=False, verbose=0)\n",
    "    y_ann = model.predict(X_test)\n",
    "    #Error_ann[k] = 100*(y_ann!=y_test).sum().astype(float)/len(y_test)\n",
    "    Error_lm[k] = mean_squared_error(y_test, y_lm)\n",
    "    Error_ann[k] = mean_squared_error(y_test, y_ann)\n",
    "    \n",
    "    k+=1\n",
    "    \n",
    "# Test if classifiers are significantly different using methods in section 9.3.3\n",
    "# by computing credibility interval. Notice this can also be accomplished by computing the p-value using\n",
    "# [tstatistic, pvalue] = stats.ttest_ind(Error_logreg,Error_dectree)\n",
    "# and test if the p-value is less than alpha=0.05. \n",
    "\n",
    "z = (lm_error - ann_error)\n",
    "zb = z.mean()\n",
    "nu = K-1\n",
    "sig =  (z-zb).std()  / np.sqrt(K-1)\n",
    "alpha = 0.05\n",
    "\n",
    "zL = zb + sig * stats.t.ppf(alpha/2, nu);\n",
    "zH = zb + sig * stats.t.ppf(1-alpha/2, nu);\n",
    "\n",
    "if zL <= 0 and zH >= 0 :\n",
    "    print('Classifiers are not significantly different')        \n",
    "else:\n",
    "    print('Classifiers are significantly different.')\n",
    "    \n",
    "# Boxplot to compare classifier error distributions\n",
    "pd.DataFrame(np.array([Error_lm.flatten(), Error_ann.flatten()]).T).plot.box(title='Classifier Error Distributions (0: lm, 1: ann)');"
   ]
  },
  {
   "cell_type": "markdown",
   "metadata": {},
   "source": [
    "By statistically comparing the two classifiers with a t-test we can conclude that the models are indeed significantly different. This means that for our dataset, the neural network is better at predicting movie gross, based only on four features."
   ]
  },
  {
   "cell_type": "code",
   "execution_count": null,
   "metadata": {
    "collapsed": true
   },
   "outputs": [],
   "source": []
  }
 ],
 "metadata": {
  "kernelspec": {
   "display_name": "Python 3",
   "language": "python",
   "name": "python3"
  },
  "language_info": {
   "codemirror_mode": {
    "name": "ipython",
    "version": 3
   },
   "file_extension": ".py",
   "mimetype": "text/x-python",
   "name": "python",
   "nbconvert_exporter": "python",
   "pygments_lexer": "ipython3",
   "version": "3.6.1"
  }
 },
 "nbformat": 4,
 "nbformat_minor": 2
}
