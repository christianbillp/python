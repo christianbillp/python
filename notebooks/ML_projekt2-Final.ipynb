{
 "cells": [
  {
   "cell_type": "code",
   "execution_count": 48,
   "metadata": {},
   "outputs": [
    {
     "data": {
      "text/html": [
       "<script>\n",
       "code_show=true; \n",
       "function code_toggle() {\n",
       " if (code_show){\n",
       " $('div.input').hide();\n",
       " } else {\n",
       " $('div.input').show();\n",
       " }\n",
       " code_show = !code_show\n",
       "} \n",
       "$( document ).ready(code_toggle);\n",
       "</script>\n",
       "<form action=\"javascript:code_toggle()\"><input type=\"submit\" value=\"Click here to toggle on/off the raw code.\"></form>"
      ],
      "text/plain": [
       "<IPython.core.display.HTML object>"
      ]
     },
     "execution_count": 48,
     "metadata": {},
     "output_type": "execute_result"
    }
   ],
   "source": [
    "from IPython.display import HTML\n",
    "\n",
    "HTML('''<script>\n",
    "code_show=true; \n",
    "function code_toggle() {\n",
    " if (code_show){\n",
    " $('div.input').hide();\n",
    " } else {\n",
    " $('div.input').show();\n",
    " }\n",
    " code_show = !code_show\n",
    "} \n",
    "$( document ).ready(code_toggle);\n",
    "</script>\n",
    "<form action=\"javascript:code_toggle()\"><input type=\"submit\" value=\"Click here to toggle on/off the raw code.\"></form>''')"
   ]
  },
  {
   "cell_type": "code",
   "execution_count": 1,
   "metadata": {
    "collapsed": true
   },
   "outputs": [],
   "source": [
    "#%%\n",
    "from matplotlib import pyplot\n",
    "from math import cos, sin, atan\n",
    "\n",
    "\n",
    "class Neuron():\n",
    "    def __init__(self, x, y):\n",
    "        self.x = x\n",
    "        self.y = y\n",
    "\n",
    "    def draw(self, neuron_radius):\n",
    "        circle = pyplot.Circle((self.x, self.y), radius=neuron_radius, fill=False)\n",
    "        pyplot.gca().add_patch(circle)\n",
    "\n",
    "\n",
    "class Layer():\n",
    "    def __init__(self, network, number_of_neurons, number_of_neurons_in_widest_layer):\n",
    "        self.vertical_distance_between_layers = 10\n",
    "        self.horizontal_distance_between_neurons = 2\n",
    "        self.neuron_radius = 0.5\n",
    "        self.number_of_neurons_in_widest_layer = number_of_neurons_in_widest_layer\n",
    "        self.previous_layer = self.__get_previous_layer(network)\n",
    "        self.y = self.__calculate_layer_y_position()\n",
    "        self.neurons = self.__intialise_neurons(number_of_neurons)\n",
    "\n",
    "    def __intialise_neurons(self, number_of_neurons):\n",
    "        neurons = []\n",
    "        x = self.__calculate_left_margin_so_layer_is_centered(number_of_neurons)\n",
    "        for iteration in range(number_of_neurons):\n",
    "            neuron = Neuron(x, self.y)\n",
    "            neurons.append(neuron)\n",
    "            x += self.horizontal_distance_between_neurons\n",
    "        return neurons\n",
    "\n",
    "    def __calculate_left_margin_so_layer_is_centered(self, number_of_neurons):\n",
    "        return self.horizontal_distance_between_neurons * (self.number_of_neurons_in_widest_layer - number_of_neurons) / 2\n",
    "\n",
    "    def __calculate_layer_y_position(self):\n",
    "        if self.previous_layer:\n",
    "            return self.previous_layer.y + self.vertical_distance_between_layers\n",
    "        else:\n",
    "            return 0\n",
    "\n",
    "    def __get_previous_layer(self, network):\n",
    "        if len(network.layers) > 0:\n",
    "            return network.layers[-1]\n",
    "        else:\n",
    "            return None\n",
    "\n",
    "    def __line_between_two_neurons(self, neuron1, neuron2):\n",
    "        angle = atan((neuron2.x - neuron1.x) / float(neuron2.y - neuron1.y))\n",
    "        x_adjustment = self.neuron_radius * sin(angle)\n",
    "        y_adjustment = self.neuron_radius * cos(angle)\n",
    "        line = pyplot.Line2D((neuron1.x - x_adjustment, neuron2.x + x_adjustment), (neuron1.y - y_adjustment, neuron2.y + y_adjustment))\n",
    "        pyplot.gca().add_line(line)\n",
    "\n",
    "    def draw(self, layerType=0):\n",
    "        for neuron in self.neurons:\n",
    "            neuron.draw( self.neuron_radius )\n",
    "            if self.previous_layer:\n",
    "                for previous_layer_neuron in self.previous_layer.neurons:\n",
    "                    self.__line_between_two_neurons(neuron, previous_layer_neuron)\n",
    "        # write Text\n",
    "        x_text = self.number_of_neurons_in_widest_layer * self.horizontal_distance_between_neurons\n",
    "        if layerType == 0:\n",
    "            pyplot.text(x_text, self.y, 'Input Layer', fontsize = 12)\n",
    "        elif layerType == -1:\n",
    "            pyplot.text(x_text, self.y, 'Output Layer', fontsize = 12)\n",
    "        else:\n",
    "            pyplot.text(x_text, self.y, 'Hidden Layer '+str(layerType), fontsize = 12)\n",
    "\n",
    "class NeuralNetwork():\n",
    "    def __init__(self, number_of_neurons_in_widest_layer):\n",
    "        self.number_of_neurons_in_widest_layer = number_of_neurons_in_widest_layer\n",
    "        self.layers = []\n",
    "        self.layertype = 0\n",
    "\n",
    "    def add_layer(self, number_of_neurons ):\n",
    "        layer = Layer(self, number_of_neurons, self.number_of_neurons_in_widest_layer)\n",
    "        self.layers.append(layer)\n",
    "\n",
    "    def draw(self):\n",
    "        pyplot.figure(figsize=(8, 4))\n",
    "        for i in range( len(self.layers) ):\n",
    "            layer = self.layers[i]\n",
    "            if i == len(self.layers)-1:\n",
    "                i = -1\n",
    "            layer.draw( i )\n",
    "        pyplot.axis('scaled')\n",
    "        pyplot.axis('off')\n",
    "        pyplot.title( 'Neural Network architecture', fontsize=15 )\n",
    "        pyplot.show()\n",
    "\n",
    "class DrawNN():\n",
    "    def __init__( self, neural_network ):\n",
    "        self.neural_network = neural_network\n",
    "\n",
    "    def draw( self ):\n",
    "        widest_layer = max( self.neural_network )\n",
    "        network = NeuralNetwork( widest_layer )\n",
    "        for l in self.neural_network:\n",
    "            network.add_layer(l)\n",
    "        network.draw()"
   ]
  },
  {
   "cell_type": "code",
   "execution_count": 2,
   "metadata": {
    "collapsed": true
   },
   "outputs": [],
   "source": [
    "%matplotlib inline \n",
    "import pandas as pd\n",
    "import seaborn as sns\n",
    "import numpy as np\n",
    "import matplotlib.pyplot as plt\n",
    "from matplotlib.patches import Rectangle\n",
    "from sklearn.decomposition import PCA\n",
    "from sklearn.preprocessing import StandardScaler\n",
    "from sklearn.cluster import KMeans"
   ]
  },
  {
   "cell_type": "code",
   "execution_count": 3,
   "metadata": {
    "collapsed": true
   },
   "outputs": [],
   "source": [
    "import warnings\n",
    "warnings.filterwarnings('ignore')"
   ]
  },
  {
   "cell_type": "code",
   "execution_count": 4,
   "metadata": {
    "collapsed": true
   },
   "outputs": [],
   "source": [
    "import pandas as pd\n",
    "import matplotlib.pyplot as plt\n",
    "%matplotlib inline \n",
    "#figure_number = 0\n",
    "data = pd.Series({})\n",
    "data['raw'] = pd.read_csv(\"movie_metadata.csv\")\n",
    "#figure_number += 1\n",
    "#print(\"Figure: {} - Boxplot for budget and gross\".format(figure_number))"
   ]
  },
  {
   "cell_type": "code",
   "execution_count": 5,
   "metadata": {
    "collapsed": true,
    "scrolled": true
   },
   "outputs": [],
   "source": [
    "from sklearn.preprocessing import StandardScaler\n",
    "data['reduced'] = data['raw'][data['raw']['country'] == 'USA']\n",
    "data['reduced'] = data['reduced'].drop(['actor_1_facebook_likes', 'actor_2_facebook_likes', 'actor_3_facebook_likes', \n",
    "                                        'cast_total_facebook_likes', 'director_facebook_likes', 'movie_facebook_likes',\n",
    "                                        'aspect_ratio', 'facenumber_in_poster'], axis=1)\n",
    "data['reduced'] = data['reduced'].dropna()\n",
    "data['numerical'] = data['reduced'].select_dtypes(exclude=['object'])\n",
    "data['standardized'] = StandardScaler().fit_transform(data['numerical'].values)\n",
    "data['standardized'] = pd.DataFrame(data['standardized'], columns=data['numerical'].columns.values)"
   ]
  },
  {
   "cell_type": "code",
   "execution_count": 6,
   "metadata": {
    "collapsed": true
   },
   "outputs": [],
   "source": [
    "#budget_top15 = data['reduced']['budget'].nlargest(15).keys()\n",
    "#data['reduced'].loc[budget_top15][['movie_title', 'country', 'budget', 'gross']]"
   ]
  },
  {
   "cell_type": "code",
   "execution_count": 7,
   "metadata": {
    "collapsed": true
   },
   "outputs": [],
   "source": [
    "#gross_top15 = data['reduced']['gross'].nlargest(15).keys()\n",
    "#data['reduced'].loc[gross_top15][['movie_title', 'country', 'budget', 'gross']]"
   ]
  },
  {
   "cell_type": "markdown",
   "metadata": {},
   "source": [
    "# Regression (Christian)"
   ]
  },
  {
   "cell_type": "markdown",
   "metadata": {},
   "source": [
    "We want to create two models for our regression analysis. A simple model using linear regression which will serve as our baseline prediction, and a more advanced neural network. For both our model, we first standardize our numerical data, and split our dataset into seperate training and test sets with a test-to-train ratio of 0.25."
   ]
  },
  {
   "cell_type": "code",
   "execution_count": 8,
   "metadata": {
    "collapsed": true
   },
   "outputs": [],
   "source": [
    "from sklearn.model_selection import train_test_split\n",
    "\n",
    "X = data['standardized'].drop('gross', axis=1)\n",
    "y = data['standardized'][['gross']]\n",
    "\n",
    "X_train, X_test, y_train, y_test = train_test_split(X, y, test_size=0.25, random_state=42)"
   ]
  },
  {
   "cell_type": "code",
   "execution_count": 9,
   "metadata": {
    "collapsed": true
   },
   "outputs": [],
   "source": [
    "## 2. Apply linear regression with forward selection and consider if transforming or combining attributes potentially may be useful. For linear regression, plotting the residual error vs. the attributes can give some insight into whether including a transformation of a variable can improve the model, i.e. potentially describe parts of the residuals."
   ]
  },
  {
   "cell_type": "markdown",
   "metadata": {},
   "source": [
    "## Linear Regression"
   ]
  },
  {
   "cell_type": "markdown",
   "metadata": {},
   "source": [
    "<b>Forward feature selection</b><br>\n",
    "Before creating our linear model, we want to check which features are the most significant. We can do this with forward selection. With this method of feature selection an unused feature, which gives the largest descrease in error, is added to the regression model. When there are no features left that descrease the error, or all features are allocated, the iteration is over. We will do forward selection for 5 iterations and investigate what features our model should be using."
   ]
  },
  {
   "cell_type": "code",
   "execution_count": 10,
   "metadata": {},
   "outputs": [
    {
     "data": {
      "image/png": "[encoded data removed]",
      "text/plain": [
       "<matplotlib.figure.Figure at 0x7f6eb8cdef98>"
      ]
     },
     "metadata": {},
     "output_type": "display_data"
    }
   ],
   "source": [
    "# exercise 6.2.1\n",
    "from matplotlib.pyplot import figure, plot, subplot, title, xlabel, ylabel, show, clim\n",
    "from scipy.io import loadmat\n",
    "import sklearn.linear_model as lm\n",
    "from sklearn import cross_validation\n",
    "from toolbox_02450 import feature_selector_lr, bmplot\n",
    "import numpy as np\n",
    "\n",
    "# Load data from dataset\n",
    "X = data['standardized'].drop('gross', axis=1)\n",
    "y = data['standardized'][['gross']]\n",
    "\n",
    "attributeNames = X.columns.values\n",
    "N, M = X.shape\n",
    "\n",
    "\n",
    "## Crossvalidation\n",
    "# Create crossvalidation partition for evaluation\n",
    "K = 5\n",
    "CV = cross_validation.KFold(N,K,shuffle=True)\n",
    "\n",
    "# Initialize variables\n",
    "Features = np.zeros((M,K))\n",
    "Error_train = np.empty((K,1))\n",
    "Error_test = np.empty((K,1))\n",
    "Error_train_fs = np.empty((K,1))\n",
    "Error_test_fs = np.empty((K,1))\n",
    "Error_train_nofeatures = np.empty((K,1))\n",
    "Error_test_nofeatures = np.empty((K,1))\n",
    "\n",
    "k=0\n",
    "for train_index, test_index in CV:\n",
    "    \n",
    "    # extract training and test set for current CV fold\n",
    "    X_train = X.values[train_index,:]\n",
    "    y_train = y.values[train_index]\n",
    "    X_test = X.values[test_index,:]\n",
    "    y_test = y.values[test_index]\n",
    "    internal_cross_validation = 10\n",
    "    \n",
    "    # Compute squared error without using the input data at all\n",
    "    Error_train_nofeatures[k] = np.square(y_train-y_train.mean()).sum()/y_train.shape[0]\n",
    "    Error_test_nofeatures[k] = np.square(y_test-y_test.mean()).sum()/y_test.shape[0]\n",
    "\n",
    "    # Compute squared error with all features selected (no feature selection)\n",
    "    m = lm.LinearRegression(fit_intercept=True).fit(X_train, y_train)\n",
    "    Error_train[k] = np.square(y_train-m.predict(X_train)).sum()/y_train.shape[0]\n",
    "    Error_test[k] = np.square(y_test-m.predict(X_test)).sum()/y_test.shape[0]\n",
    "\n",
    "    # Compute squared error with feature subset selection\n",
    "    #textout = 'verbose';\n",
    "    textout = '';\n",
    "    selected_features, features_record, loss_record = feature_selector_lr(X_train, y_train, internal_cross_validation,display=textout)\n",
    "    \n",
    "    Features[selected_features,k]=1\n",
    "    # .. alternatively you could use module sklearn.feature_selection\n",
    "    if len(selected_features) is 0:\n",
    "        print('No features were selected, i.e. the data (X) in the fold cannot describe the outcomes (y).' )\n",
    "    else:\n",
    "        m = lm.LinearRegression(fit_intercept=True).fit(X_train[:,selected_features], y_train)\n",
    "        Error_train_fs[k] = np.square(y_train-m.predict(X_train[:,selected_features])).sum()/y_train.shape[0]\n",
    "        Error_test_fs[k] = np.square(y_test-m.predict(X_test[:,selected_features])).sum()/y_test.shape[0]\n",
    "    '''\n",
    "        figure(k)\n",
    "        subplot(1,2,1)\n",
    "        plot(range(1,len(loss_record)), loss_record[1:])\n",
    "        xlabel('Iteration')\n",
    "        ylabel('Squared error (crossvalidation)')    \n",
    "        \n",
    "        subplot(1,3,3)\n",
    "        bmplot(attributeNames, range(1,features_record.shape[1]), -features_record[:,1:])\n",
    "        clim(-1.5,0)\n",
    "        xlabel('Iteration')\n",
    "    \n",
    "    print('Cross validation fold {0}/{1}'.format(k+1,K))\n",
    "    print('Train indices: {0}'.format(train_index))\n",
    "    print('Test indices: {0}'.format(test_index))\n",
    "    print('Features no: {0}\\n'.format(selected_features.size))\n",
    "    ''';\n",
    "    k+=1\n",
    "\n",
    "\n",
    "# Display results\n",
    "'''\n",
    "print('\\n')\n",
    "print('Linear regression without feature selection:\\n')\n",
    "print('- Training error: {0}'.format(Error_train.mean()))\n",
    "print('- Test error:     {0}'.format(Error_test.mean()))\n",
    "print('- R^2 train:     {0}'.format((Error_train_nofeatures.sum()-Error_train.sum())/Error_train_nofeatures.sum()))\n",
    "print('- R^2 test:     {0}'.format((Error_test_nofeatures.sum()-Error_test.sum())/Error_test_nofeatures.sum()))\n",
    "print('Linear regression with feature selection:\\n')\n",
    "print('- Training error: {0}'.format(Error_train_fs.mean()))\n",
    "print('- Test error:     {0}'.format(Error_test_fs.mean()))\n",
    "print('- R^2 train:     {0}'.format((Error_train_nofeatures.sum()-Error_train_fs.sum())/Error_train_nofeatures.sum()))\n",
    "print('- R^2 test:     {0}'.format((Error_test_nofeatures.sum()-Error_test_fs.sum())/Error_test_nofeatures.sum()))\n",
    "''';\n",
    "figure(k)\n",
    "subplot(1,3,2)\n",
    "bmplot(attributeNames, range(1,Features.shape[1]+1), -Features)\n",
    "clim(-1.5,0)\n",
    "xlabel('Crossvalidation fold')\n",
    "ylabel('Attribute')\n",
    "\n",
    "\n",
    "# Inspect selected feature coefficients effect on the entire dataset and\n",
    "# plot the fitted model residual error as function of each attribute to\n",
    "# inspect for systematic structure in the residual\n",
    "'''\n",
    "f=2 # cross-validation fold to inspect\n",
    "ff=Features[:,f-1].nonzero()[0]\n",
    "if len(ff) is 0:\n",
    "    print('\\nNo features were selected, i.e. the data (X) in the fold cannot describe the outcomes (y).' )\n",
    "else:\n",
    "    m = lm.LinearRegression(fit_intercept=True).fit(X.values[:,ff], y)\n",
    "    \n",
    "    y_est= m.predict(X.values[:,ff])\n",
    "    residual=y-y_est\n",
    "    \n",
    "    figure(k+1)\n",
    "    title('Residual error vs. Attributes for features selected in cross-validation fold {0}'.format(f))\n",
    "    for i in range(0,len(ff)):\n",
    "       subplot(2,np.ceil(len(ff)/2.0),i+1)\n",
    "       plot(X.values[:,ff[i]],residual,'.')\n",
    "       xlabel(attributeNames[ff[i]])\n",
    "       ylabel('residual error')\n",
    "    \n",
    "    \n",
    "    show()    \n",
    "''';"
   ]
  },
  {
   "cell_type": "markdown",
   "metadata": {},
   "source": [
    "In the crossvalidation graph we can see that a model with: 'title_year', 'budget', 'num_voted_users' and 'duration' yields the best result."
   ]
  },
  {
   "cell_type": "markdown",
   "metadata": {},
   "source": [
    "<b>Residual analysis</b><br>\n",
    "As a final analysis before creating our linear model, we can investigate the residual distributions for features selected in a crossvalidation fold."
   ]
  },
  {
   "cell_type": "code",
   "execution_count": 11,
   "metadata": {},
   "outputs": [
    {
     "data": {
      "image/png": "[encoded data removed]",
      "text/plain": [
       "<matplotlib.figure.Figure at 0x7f6eb861ef98>"
      ]
     },
     "metadata": {},
     "output_type": "display_data"
    }
   ],
   "source": [
    "# Inspect selected feature coefficients effect on the entire dataset and\n",
    "# plot the fitted model residual error as function of each attribute to\n",
    "# inspect for systematic structure in the residual\n",
    "\n",
    "f=3 # cross-validation fold to inspect\n",
    "ff=Features[:,f-1].nonzero()[0]\n",
    "if len(ff) is 0:\n",
    "    print('\\nNo features were selected, i.e. the data (X) in the fold cannot describe the outcomes (y).' )\n",
    "else:\n",
    "    m = lm.LinearRegression(fit_intercept=True).fit(X.values[:,ff], y)\n",
    "    \n",
    "    y_est= m.predict(X.values[:,ff])\n",
    "    residual=y-y_est\n",
    "    figure(figsize=(8,6.5))\n",
    "    title('Residual error vs. Attributes for features selected in cross-validation fold {0}'.format(f))\n",
    "    for i in range(0,len(ff)):\n",
    "       subplot(2,np.ceil(len(ff)/2.0),i+1)\n",
    "       plot(X.values[:,ff[i]],residual,'.')\n",
    "       xlabel(attributeNames[ff[i]])\n",
    "       ylabel('residual error')    \n",
    "    show()    "
   ]
  },
  {
   "cell_type": "markdown",
   "metadata": {},
   "source": [
    "When we look at the residual graphs we can see that there is no immediately visible pattern and residuals seem to be clustered around 0. It does seem that the residuals for 'num_votes_users' and 'title_year' has a somewhat heteroscedastic. While this might not be a problem, it might be worth considering if further experimentation with feature transformation might improve the model."
   ]
  },
  {
   "cell_type": "markdown",
   "metadata": {},
   "source": [
    "<b>Linear Model baseline prediction</b><br>\n",
    "We now have everything we need to create our linear model. To calculate our error rate we will use the mean squared error method, comparing the predicted against the true values from our test set."
   ]
  },
  {
   "cell_type": "code",
   "execution_count": 12,
   "metadata": {},
   "outputs": [
    {
     "data": {
      "image/png": "[encoded data removed]",
      "text/plain": [
       "<matplotlib.figure.Figure at 0x7f6eb8cdec50>"
      ]
     },
     "metadata": {},
     "output_type": "display_data"
    }
   ],
   "source": [
    "from sklearn.linear_model import LinearRegression\n",
    "from sklearn.metrics import mean_squared_error, r2_score\n",
    "from sklearn.model_selection import train_test_split\n",
    "\n",
    "X = data['standardized'][['duration', 'num_voted_users', 'budget', 'title_year']]\n",
    "\n",
    "#X = data['standardized'].drop('gross', axis=1)\n",
    "y = data['standardized'][['gross']]\n",
    "\n",
    "X_train, X_test, y_train, y_test = train_test_split(X, y, test_size=0.25, random_state=42)\n",
    "\n",
    "lm = LinearRegression()\n",
    "lm.fit(X_train, y_train)\n",
    "y_pred = lm.predict(X_test)\n",
    "error = mean_squared_error(y_test, y_pred)\n",
    "\n",
    "# Visualize prediction against true value\n",
    "plt.figure(figsize=(6,4))\n",
    "plt.plot(y_test,y_pred,'.')\n",
    "plt.grid()\n",
    "plt.title('{0}, Mean squared error: {1:.04f}'.format(y_train.columns[0], error))\n",
    "plt.xlabel('True Value')\n",
    "plt.ylabel('Predicted Value')\n",
    "plt.show()"
   ]
  },
  {
   "cell_type": "markdown",
   "metadata": {},
   "source": [
    "With a mean squared error of 0.4681 our model isn't great at predicting, but hopefully we can create a better prediction with the neural network."
   ]
  },
  {
   "cell_type": "code",
   "execution_count": 13,
   "metadata": {
    "collapsed": true
   },
   "outputs": [],
   "source": [
    "## 3. Explain how a new data observation is predicted according to the estimated model. I.e. what are the effects of the selected attributes in terms of predicting the data. (Notice, if you interpret the magnitude of the estimated coefficients this in general requires that each attribute be normalized prior to the analysis.)."
   ]
  },
  {
   "cell_type": "markdown",
   "metadata": {},
   "source": [
    "<b>Prediction method</b><br>\n",
    "The model is now able to predict the gross of a movie based on four features: 'title_year', 'budget', 'num_voted_users' and 'duration'. This prediction is calculated based on a bias called the intercept, and one scalar weight for each feature. The prediction is calculated by summing up all weight and feature product, and adding the intercept. We can get a better overview of exactly how much each feature contributes, by showing the weights in a table and a graph."
   ]
  },
  {
   "cell_type": "code",
   "execution_count": 14,
   "metadata": {
    "scrolled": false
   },
   "outputs": [
    {
     "name": "stdout",
     "output_type": "stream",
     "text": [
      "title_year       :\t-0.0567\n",
      "budget           :\t0.4946\n",
      "num_voted_users  :\t0.4912\n",
      "duration         :\t-0.0936\n"
     ]
    },
    {
     "data": {
      "image/png": "[encoded data removed]",
      "text/plain": [
       "<matplotlib.figure.Figure at 0x7f6eb836da90>"
      ]
     },
     "metadata": {},
     "output_type": "display_data"
    }
   ],
   "source": [
    "for feature in zip(['title_year', 'budget', 'num_voted_users', 'duration'], lm.coef_[0]):\n",
    "    print(\"{:17}:\\t{:.4f}\".format(feature[0], feature[1]))\n",
    "pd.DataFrame(lm.coef_, columns=X.columns.values.tolist()).plot.bar(grid=True, figsize=(8,4), title='Feature weights');"
   ]
  },
  {
   "cell_type": "markdown",
   "metadata": {},
   "source": [
    "From the above graph and table we can see that some features contribute significantly less than others. It is of course always possible a better model exists, but according to our feature selection, this is the best model we can make with the features available."
   ]
  },
  {
   "cell_type": "markdown",
   "metadata": {},
   "source": [
    "<b>Artificial Neural Network Predictor</b><br>\n",
    "With a baseline prediction established, we can move on to creating a neural network model. We will use a simple model with a single 15 node layer and a single output node, and since we are working with a regression problem, we will use a linear function as our activation."
   ]
  },
  {
   "cell_type": "code",
   "execution_count": 16,
   "metadata": {},
   "outputs": [
    {
     "name": "stderr",
     "output_type": "stream",
     "text": [
      "Using TensorFlow backend.\n"
     ]
    },
    {
     "data": {
      "image/png": "[encoded data removed]",
      "text/plain": [
       "<matplotlib.figure.Figure at 0x7f6ea390dc18>"
      ]
     },
     "metadata": {},
     "output_type": "display_data"
    },
    {
     "name": "stdout",
     "output_type": "stream",
     "text": [
      "Mean squared error: 0.37128901132201514\n"
     ]
    }
   ],
   "source": [
    "from keras.models import Sequential\n",
    "from keras.layers import Dense, Activation\n",
    "from keras import optimizers\n",
    "\n",
    "# Feature selection\n",
    "X = data['standardized'][['duration', 'num_voted_users', 'budget', 'title_year']]\n",
    "y = data['standardized'][['gross']]\n",
    "X_train, X_test, y_train, y_test = train_test_split(X, y, test_size=0.25, random_state=42)\n",
    "shape = X.shape[1]\n",
    "adam = optimizers.Adam(lr=0.01, beta_1=0.9, beta_2=0.999, epsilon=1e-08, decay=0.0)\n",
    "model = Sequential()\n",
    "model.add(Dense(15, input_shape=(shape,), activation='relu'))\n",
    "model.add(Dense(1, activation='linear'))\n",
    "model.compile(loss='mean_squared_error', optimizer=adam, metrics=[])\n",
    "history = model.fit(X_train.values, y_train.values, epochs = 30, batch_size=500, shuffle=False, verbose=0)\n",
    "y_pred = model.predict(X_test.values, batch_size = 1000)\n",
    "error = mean_squared_error(y_test, y_pred)\n",
    "network = DrawNN([shape, 15, 1])\n",
    "network.draw()\n",
    "print(\"Mean squared error: {}\".format(error))"
   ]
  },
  {
   "cell_type": "markdown",
   "metadata": {},
   "source": [
    "We can see that the neural network, illustrated above, has an error rate of 0.38, thus an increase in model performance can be achieved by using a neural network instead of a linear classifier, with an error rate of 0.47. The neural network above is fairly simple, and it is possible that even better performance can be reached with a different architecture."
   ]
  },
  {
   "cell_type": "code",
   "execution_count": 17,
   "metadata": {
    "collapsed": true
   },
   "outputs": [],
   "source": [
    "## 5. Statistically evaluate if there is a significant performance difference between the fitted ANN and linear regression models based on the same cross-validation splits (i.e., considering the credibility interval equivalent to the use of a paired t-test as described in lecture 6 and last exercise week 6). Compare in addition if the performance of your models are better than simply predicting the output to be the average of the training data output. "
   ]
  },
  {
   "cell_type": "markdown",
   "metadata": {},
   "source": [
    "<b>Model Evaluation and Comparisson</b><br>\n",
    "To evaluate our two models we want to run them against each other on the same training set and see which model performs best. Since the weights in the neural network models are initiated with random values we should do more than a single round. If we perform a comparisson 50 times, we should be able to estimate how the model will perform compared to the baseline linear prediction."
   ]
  },
  {
   "cell_type": "code",
   "execution_count": 18,
   "metadata": {
    "collapsed": true
   },
   "outputs": [],
   "source": [
    "from sklearn.model_selection import train_test_split\n",
    "from keras.models import Sequential\n",
    "from keras.layers import Dense, Activation\n",
    "from keras import optimizers\n",
    "from sklearn.linear_model import LinearRegression\n",
    "from sklearn.metrics import mean_squared_error, r2_score\n",
    "\n",
    "# Feature selection\n",
    "X = data['standardized'][['duration', 'num_voted_users', 'budget', 'title_year']]\n",
    "y = data['standardized'][['gross']]\n",
    "\n",
    "lm = LinearRegression()\n",
    "\n",
    "shape = X.shape[1]\n",
    "adam = optimizers.Adam(lr=0.01, beta_1=0.9, beta_2=0.999, epsilon=1e-08, decay=0.0)\n",
    "\n",
    "scores = []\n",
    "\n",
    "for n in range(50):\n",
    "    if (n % 1 == 0):\n",
    "        pass\n",
    "        #print(n)\n",
    "    X_train, X_test, y_train, y_test = train_test_split(X, y, test_size=0.1, random_state=42)\n",
    "    lm.fit(X_train, y_train)\n",
    "    lm_y_pred = lm.predict(X_test)\n",
    "    lm_error = mean_squared_error(y_test, lm_y_pred)\n",
    "    \n",
    "    model = Sequential()\n",
    "    model.add(Dense(15, input_shape=(shape,), activation='relu'))\n",
    "    model.add(Dense(1, activation='linear'))\n",
    "    model.compile(loss='mean_squared_error', optimizer=adam, metrics=[])\n",
    "    history = model.fit(X_train.values, y_train.values, epochs=300, batch_size=500, shuffle=False, verbose=0)\n",
    "    ann_y_pred = model.predict(X_test.values, batch_size = 1000)\n",
    "    ann_error = mean_squared_error(y_test, ann_y_pred)\n",
    "    #print(\"[{}] LinearModel: {}\\tANN: {}\".format(n, lm_error, ann_error))\n",
    "    scores.append([lm_error, ann_error])"
   ]
  },
  {
   "cell_type": "code",
   "execution_count": 19,
   "metadata": {
    "scrolled": false
   },
   "outputs": [
    {
     "data": {
      "image/png": "[encoded data removed]",
      "text/plain": [
       "<matplotlib.figure.Figure at 0x7f6e8ef7f6d8>"
      ]
     },
     "metadata": {},
     "output_type": "display_data"
    }
   ],
   "source": [
    "pd.DataFrame(scores).hist();"
   ]
  },
  {
   "cell_type": "markdown",
   "metadata": {},
   "source": [
    "From the histogram we can see that the neural network has a better performance than our linear model. To further investigate this we can use a t-test and compare the errors from both models, and finally computer a p-value which we can compare to an alpha of 0.05."
   ]
  },
  {
   "cell_type": "code",
   "execution_count": 20,
   "metadata": {},
   "outputs": [
    {
     "name": "stdout",
     "output_type": "stream",
     "text": [
      "Classifiers are significantly different.\n"
     ]
    },
    {
     "data": {
      "image/png": "[encoded data removed]",
      "text/plain": [
       "<matplotlib.figure.Figure at 0x7f6e769810f0>"
      ]
     },
     "metadata": {},
     "output_type": "display_data"
    }
   ],
   "source": [
    "# exercise 6.3.1\n",
    "from matplotlib.pyplot import figure, boxplot, xlabel, ylabel, show\n",
    "import numpy as np\n",
    "from scipy.io import loadmat\n",
    "import sklearn.linear_model as lm\n",
    "from sklearn import cross_validation, tree\n",
    "from scipy import stats\n",
    "\n",
    "X = data['standardized'][['duration', 'num_voted_users', 'budget', 'title_year']].values\n",
    "y = data['standardized'][['gross']].values\n",
    "N, M = X.shape\n",
    "\n",
    "## Crossvalidation\n",
    "# Create crossvalidation partition for evaluation\n",
    "K = 10\n",
    "CV = cross_validation.KFold(N,K,shuffle=True)\n",
    "#CV = cross_validation.StratifiedKFold(y.A.ravel(),k=K)\n",
    "\n",
    "# Initialize variables\n",
    "Error_lm = np.empty((K,1))\n",
    "Error_ann = np.empty((K,1))\n",
    "\n",
    "n_tested=0\n",
    "\n",
    "k=0\n",
    "for train_index, test_index in CV:\n",
    "    \n",
    "    #print('CV-fold {0} of {1}'.format(k+1,K))\n",
    "    \n",
    "    # extract training and test set for current CV fold\n",
    "    X_train = X[train_index,:]\n",
    "    y_train = y[train_index]\n",
    "    X_test = X[test_index,:]\n",
    "    y_test = y[test_index]\n",
    "\n",
    "    # Fit and evaluate Logistic Regression classifier\n",
    "    #model = lm.logistic.LogisticRegression(C=N)\n",
    "    lm = LinearRegression()\n",
    "    lm.fit(X_train, y_train)\n",
    "    y_lm = lm.predict(X_test)\n",
    "    #print(y_lm)\n",
    "    #Error_lm[k] = 100*(y_lm!=y_test).sum().astype(float)/len(y_test)\n",
    "    #print(Error_lm)\n",
    "    \n",
    "    # Fit and evaluate Decision Tree classifier\n",
    "    #model2 = tree.DecisionTreeClassifier()\n",
    "    model.fit(X_train, y_train, epochs=60, batch_size=500, shuffle=False, verbose=0)\n",
    "    y_ann = model.predict(X_test)\n",
    "    #Error_ann[k] = 100*(y_ann!=y_test).sum().astype(float)/len(y_test)\n",
    "    Error_lm[k] = mean_squared_error(y_test, y_lm)\n",
    "    Error_ann[k] = mean_squared_error(y_test, y_ann)\n",
    "    \n",
    "    k+=1\n",
    "    \n",
    "# Test if classifiers are significantly different using methods in section 9.3.3\n",
    "# by computing credibility interval. Notice this can also be accomplished by computing the p-value using\n",
    "# [tstatistic, pvalue] = stats.ttest_ind(Error_logreg,Error_dectree)\n",
    "# and test if the p-value is less than alpha=0.05. \n",
    "\n",
    "z = (lm_error - ann_error)\n",
    "zb = z.mean()\n",
    "nu = K-1\n",
    "sig =  (z-zb).std()  / np.sqrt(K-1)\n",
    "alpha = 0.05\n",
    "\n",
    "zL = zb + sig * stats.t.ppf(alpha/2, nu);\n",
    "zH = zb + sig * stats.t.ppf(1-alpha/2, nu);\n",
    "\n",
    "if zL <= 0 and zH >= 0 :\n",
    "    print('Classifiers are not significantly different')        \n",
    "else:\n",
    "    print('Classifiers are significantly different.')\n",
    "    \n",
    "# Boxplot to compare classifier error distributions\n",
    "pd.DataFrame(np.array([Error_lm.flatten(), Error_ann.flatten()]).T).plot.box(title='Classifier Error Distributions (0: lm, 1: ann)');"
   ]
  },
  {
   "cell_type": "markdown",
   "metadata": {},
   "source": [
    "By statistically comparing the two classifiers with a t-test we can conclude that the models are indeed significantly different. This means that for our dataset, the neural network is better at predicting movie gross, based only on four features."
   ]
  },
  {
   "cell_type": "markdown",
   "metadata": {
    "collapsed": true
   },
   "source": [
    "## Classification"
   ]
  },
  {
   "cell_type": "markdown",
   "metadata": {},
   "source": [
    "The goal with the classification is to predict wether a movie is good or bad. A good movie will correspond to that a given movie has a 'imdb_score' ≥ 6.  "
   ]
  },
  {
   "cell_type": "markdown",
   "metadata": {},
   "source": [
    "### Decision Trees: Random Forest Classifier\n",
    "For classification the first method used on the dataset is the Random Forest Classifier"
   ]
  },
  {
   "cell_type": "code",
   "execution_count": 21,
   "metadata": {},
   "outputs": [],
   "source": [
    "%matplotlib inline\n",
    "import numpy as np\n",
    "import scipy as sp\n",
    "import pandas as pd\n",
    "import sklearn\n",
    "import seaborn as sns\n",
    "from matplotlib import pyplot as plt\n",
    "\n",
    "import sklearn.cross_validation"
   ]
  },
  {
   "cell_type": "markdown",
   "metadata": {},
   "source": [
    "The numerical part of the dataset is copied into 'CLF' and will be used in the different types of classification."
   ]
  },
  {
   "cell_type": "code",
   "execution_count": 22,
   "metadata": {},
   "outputs": [
    {
     "data": {
      "text/html": [
       "<div>\n",
       "<style>\n",
       "    .dataframe thead tr:only-child th {\n",
       "        text-align: right;\n",
       "    }\n",
       "\n",
       "    .dataframe thead th {\n",
       "        text-align: left;\n",
       "    }\n",
       "\n",
       "    .dataframe tbody tr th {\n",
       "        vertical-align: top;\n",
       "    }\n",
       "</style>\n",
       "<table border=\"1\" class=\"dataframe\">\n",
       "  <thead>\n",
       "    <tr style=\"text-align: right;\">\n",
       "      <th></th>\n",
       "      <th>num_critic_for_reviews</th>\n",
       "      <th>duration</th>\n",
       "      <th>gross</th>\n",
       "      <th>num_voted_users</th>\n",
       "      <th>num_user_for_reviews</th>\n",
       "      <th>budget</th>\n",
       "      <th>title_year</th>\n",
       "      <th>imdb_score</th>\n",
       "    </tr>\n",
       "  </thead>\n",
       "  <tbody>\n",
       "    <tr>\n",
       "      <th>0</th>\n",
       "      <td>723.0</td>\n",
       "      <td>178.0</td>\n",
       "      <td>760505847.0</td>\n",
       "      <td>886204</td>\n",
       "      <td>3054.0</td>\n",
       "      <td>237000000.0</td>\n",
       "      <td>2009.0</td>\n",
       "      <td>7.9</td>\n",
       "    </tr>\n",
       "    <tr>\n",
       "      <th>1</th>\n",
       "      <td>302.0</td>\n",
       "      <td>169.0</td>\n",
       "      <td>309404152.0</td>\n",
       "      <td>471220</td>\n",
       "      <td>1238.0</td>\n",
       "      <td>300000000.0</td>\n",
       "      <td>2007.0</td>\n",
       "      <td>7.1</td>\n",
       "    </tr>\n",
       "    <tr>\n",
       "      <th>3</th>\n",
       "      <td>813.0</td>\n",
       "      <td>164.0</td>\n",
       "      <td>448130642.0</td>\n",
       "      <td>1144337</td>\n",
       "      <td>2701.0</td>\n",
       "      <td>250000000.0</td>\n",
       "      <td>2012.0</td>\n",
       "      <td>8.5</td>\n",
       "    </tr>\n",
       "    <tr>\n",
       "      <th>5</th>\n",
       "      <td>462.0</td>\n",
       "      <td>132.0</td>\n",
       "      <td>73058679.0</td>\n",
       "      <td>212204</td>\n",
       "      <td>738.0</td>\n",
       "      <td>263700000.0</td>\n",
       "      <td>2012.0</td>\n",
       "      <td>6.6</td>\n",
       "    </tr>\n",
       "    <tr>\n",
       "      <th>6</th>\n",
       "      <td>392.0</td>\n",
       "      <td>156.0</td>\n",
       "      <td>336530303.0</td>\n",
       "      <td>383056</td>\n",
       "      <td>1902.0</td>\n",
       "      <td>258000000.0</td>\n",
       "      <td>2007.0</td>\n",
       "      <td>6.2</td>\n",
       "    </tr>\n",
       "  </tbody>\n",
       "</table>\n",
       "</div>"
      ],
      "text/plain": [
       "   num_critic_for_reviews  duration        gross  num_voted_users  \\\n",
       "0                   723.0     178.0  760505847.0           886204   \n",
       "1                   302.0     169.0  309404152.0           471220   \n",
       "3                   813.0     164.0  448130642.0          1144337   \n",
       "5                   462.0     132.0   73058679.0           212204   \n",
       "6                   392.0     156.0  336530303.0           383056   \n",
       "\n",
       "   num_user_for_reviews       budget  title_year  imdb_score  \n",
       "0                3054.0  237000000.0      2009.0         7.9  \n",
       "1                1238.0  300000000.0      2007.0         7.1  \n",
       "3                2701.0  250000000.0      2012.0         8.5  \n",
       "5                 738.0  263700000.0      2012.0         6.6  \n",
       "6                1902.0  258000000.0      2007.0         6.2  "
      ]
     },
     "execution_count": 22,
     "metadata": {},
     "output_type": "execute_result"
    }
   ],
   "source": [
    "data['CLF'] = data['numerical'].copy()\n",
    "data['CLF'].head()"
   ]
  },
  {
   "cell_type": "markdown",
   "metadata": {},
   "source": [
    "The features for the classification will be all attributes from 'CLF' except 'imdb_score' which will be the target for the classification."
   ]
  },
  {
   "cell_type": "code",
   "execution_count": 23,
   "metadata": {
    "collapsed": true
   },
   "outputs": [],
   "source": [
    "X = data['CLF'].drop('imdb_score', axis =1)"
   ]
  },
  {
   "cell_type": "markdown",
   "metadata": {},
   "source": [
    "Since 'imdb_score' will be the target but the problem is simplified as a binary problem, movies with an 'imdb_score' lesser than 6 will be classified as a \"bad\" movie, and an imdb_score greater or equal than 6 are classified as a \"good\" movie. "
   ]
  },
  {
   "cell_type": "code",
   "execution_count": 24,
   "metadata": {
    "collapsed": true
   },
   "outputs": [],
   "source": [
    "data['CLF']['imdb_score'] = np.where(data['CLF']['imdb_score'] > 5.9, 1,0)\n",
    "Y = data['CLF']['imdb_score']"
   ]
  },
  {
   "cell_type": "markdown",
   "metadata": {},
   "source": [
    "Train and test set is created, with a test size of 10 % of the data.\n",
    "\n",
    "From sklearn's train_test_split function 'is_train' is added to the data set, with a booloen value of True or False."
   ]
  },
  {
   "cell_type": "code",
   "execution_count": 25,
   "metadata": {
    "collapsed": true
   },
   "outputs": [],
   "source": [
    "from sklearn.model_selection import train_test_split\n",
    "X_train, X_test, y_train, y_test = train_test_split(X,\n",
    "                                                    Y, \n",
    "                                                    test_size=0.10)"
   ]
  },
  {
   "cell_type": "markdown",
   "metadata": {},
   "source": [
    "Now the goal can be described as predicting the target Y (quality of the movie) as a function of all the features X.\n",
    "\n",
    "Now \"random forest classifier\" will be used to classify the quality of the movie.\n",
    "From scikit-learn the cross_val_score() function is used to plot all the different scores from the random forests, from 1 which is the simplest decision tree up  to 20.\n",
    "10-fold cross validation is used as validation.  "
   ]
  },
  {
   "cell_type": "code",
   "execution_count": 49,
   "metadata": {},
   "outputs": [],
   "source": [
    "from sklearn.ensemble import RandomForestClassifier\n",
    "from sklearn.cross_validation import cross_val_score\n",
    "import datetime\n",
    "\n",
    "#now = datetime.datetime.now()\n",
    "    \n",
    "scores = []\n",
    "\n",
    "for val in range (1,21):\n",
    "    clf = RandomForestClassifier(n_estimators = val)\n",
    "    validated = cross_val_score(clf, X_train, y_train, cv = 10)\n",
    "    scores.append(validated)\n",
    "    \n",
    "#print(datetime.datetime.now()-now)"
   ]
  },
  {
   "cell_type": "code",
   "execution_count": 27,
   "metadata": {},
   "outputs": [
    {
     "data": {
      "image/png": "[encoded data removed]",
      "text/plain": [
       "<matplotlib.figure.Figure at 0x7f6e75b50d30>"
      ]
     },
     "metadata": {},
     "output_type": "display_data"
    }
   ],
   "source": [
    "sns.boxplot(data = scores)\n",
    "plt.xlabel('Number of trees')\n",
    "plt.ylabel('Classification scores')\n",
    "plt.title('Classification score for number of trees')\n",
    "plt.show()"
   ]
  },
  {
   "cell_type": "markdown",
   "metadata": {},
   "source": [
    "On the above plot it seems like the classification score seems to be pretty good with more than 5 trees, and  above they don't differ that much. 10 trees is chosen to secure a good classification score on further computations.\n",
    "\n",
    "Now it could be interresting to see how many movies are labeled as good, since it's binary classification problem the classification score could be misleading if for example \"good\" movies appeared way to frequent."
   ]
  },
  {
   "cell_type": "code",
   "execution_count": 28,
   "metadata": {},
   "outputs": [
    {
     "name": "stdout",
     "output_type": "stream",
     "text": [
      "Percentage of movies labeled good: 69.61 %\n"
     ]
    }
   ],
   "source": [
    "len_y = len(y_train)\n",
    "temp = [i for i in y_train if i == 1]\n",
    "temp_1 = temp.count(1)\n",
    "\n",
    "percentage = float(temp_1)/float(len_y)*100\n",
    "\n",
    "print(\"Percentage of movies labeled good: %0.2f\" %(percentage), \"%\")\n",
    "\n"
   ]
  },
  {
   "cell_type": "markdown",
   "metadata": {},
   "source": [
    "The prediction probabilities can also be found from the random forest clasifier with predict_proba(). Following shows the predicted probabilities of the first 10 observations, from where it's possible to see how confident the classifier is about 'bad' and 'good' movies. \n",
    "Probabilities > 0.5 is predicted. "
   ]
  },
  {
   "cell_type": "code",
   "execution_count": 29,
   "metadata": {
    "scrolled": true
   },
   "outputs": [
    {
     "data": {
      "text/html": [
       "<div>\n",
       "<style>\n",
       "    .dataframe thead tr:only-child th {\n",
       "        text-align: right;\n",
       "    }\n",
       "\n",
       "    .dataframe thead th {\n",
       "        text-align: left;\n",
       "    }\n",
       "\n",
       "    .dataframe tbody tr th {\n",
       "        vertical-align: top;\n",
       "    }\n",
       "</style>\n",
       "<table border=\"1\" class=\"dataframe\">\n",
       "  <thead>\n",
       "    <tr style=\"text-align: right;\">\n",
       "      <th></th>\n",
       "      <th>0</th>\n",
       "      <th>1</th>\n",
       "    </tr>\n",
       "  </thead>\n",
       "  <tbody>\n",
       "    <tr>\n",
       "      <th>0</th>\n",
       "      <td>0.0</td>\n",
       "      <td>1.0</td>\n",
       "    </tr>\n",
       "    <tr>\n",
       "      <th>1</th>\n",
       "      <td>0.1</td>\n",
       "      <td>0.9</td>\n",
       "    </tr>\n",
       "    <tr>\n",
       "      <th>2</th>\n",
       "      <td>0.0</td>\n",
       "      <td>1.0</td>\n",
       "    </tr>\n",
       "  </tbody>\n",
       "</table>\n",
       "</div>"
      ],
      "text/plain": [
       "     0    1\n",
       "0  0.0  1.0\n",
       "1  0.1  0.9\n",
       "2  0.0  1.0"
      ]
     },
     "execution_count": 29,
     "metadata": {},
     "output_type": "execute_result"
    }
   ],
   "source": [
    "clf = RandomForestClassifier(n_estimators= 10)\n",
    "clf.fit(X_train,y_train)\n",
    "pd.DataFrame(clf.predict_proba(X), columns=clf.classes_)[0:3]"
   ]
  },
  {
   "cell_type": "markdown",
   "metadata": {},
   "source": [
    "Since the different features are used to predict the target, it could be interresting to see the importance of the different feautures. And from that find out which attributes can be neglected in prediction wether a movie is 'bad' or 'good'.   "
   ]
  },
  {
   "cell_type": "code",
   "execution_count": 31,
   "metadata": {},
   "outputs": [
    {
     "data": {
      "text/plain": [
       "<function matplotlib.pyplot.show>"
      ]
     },
     "execution_count": 31,
     "metadata": {},
     "output_type": "execute_result"
    },
    {
     "data": {
      "image/png": "[encoded data removed]",
      "text/plain": [
       "<matplotlib.figure.Figure at 0x7f6e75a8e710>"
      ]
     },
     "metadata": {},
     "output_type": "display_data"
    }
   ],
   "source": [
    "clf.fit(X_train,y_train)\n",
    "\n",
    "imp = clf.feature_importances_\n",
    "names = data['CLF'].columns\n",
    "\n",
    "imp, names = zip(*sorted(zip(imp, names)))\n",
    "\n",
    "plt.barh(range(len(names)), imp, align = 'center')\n",
    "plt.yticks(range(len(names)), names)\n",
    "\n",
    "plt.xlabel('Importance of features')\n",
    "plt.ylabel('Features')\n",
    "plt.title('Importance of each feature')\n",
    "plt.show"
   ]
  },
  {
   "cell_type": "markdown",
   "metadata": {},
   "source": [
    "'num_voted_users' is the most important feature and contribute more than twice to the prediction than 'title_year'.\n",
    "\n",
    "Now the model is used on the test set, and the accuracy of the model is then calculated."
   ]
  },
  {
   "cell_type": "code",
   "execution_count": 32,
   "metadata": {
    "scrolled": true
   },
   "outputs": [
    {
     "name": "stdout",
     "output_type": "stream",
     "text": [
      "Accuracy: 0.77 (+/- 0.04)\n"
     ]
    }
   ],
   "source": [
    "from sklearn.model_selection import cross_val_score\n",
    "scores = cross_val_score(clf.fit(X_test, y_test), X, Y, cv=10)\n",
    "print(\"Accuracy: %0.2f (+/- %0.2f)\" % (scores.mean(), scores.std() * 2))\n"
   ]
  },
  {
   "cell_type": "markdown",
   "metadata": {},
   "source": [
    "With an accuracy of 77 % the Random Forest Classifier seems pretty good at predicting the quality of the movie. "
   ]
  },
  {
   "cell_type": "code",
   "execution_count": 33,
   "metadata": {
    "collapsed": true
   },
   "outputs": [],
   "source": [
    "## Naive bayes\n",
    "#The same classification problem will now be done with Naive Bayes\n",
    "\n",
    "from sklearn.naive_bayes import GaussianNB\n",
    "from sklearn import cross_validation\n",
    "# The Naive Bayes classifier model is initialized\n",
    "clfNB = GaussianNB() \n",
    "# 10 fold crossvalidation is performed on the fitted model\n",
    "validatedNB = cross_val_score(clf, X_train, y_train, cv = 10)\n",
    "#print(\"Accuracy: %0.2f (+/- %0.2f)\" % (validatedNB.mean(), validatedNB.std() * 2))"
   ]
  },
  {
   "cell_type": "markdown",
   "metadata": {},
   "source": [
    "### Decision Trees"
   ]
  },
  {
   "cell_type": "markdown",
   "metadata": {},
   "source": [
    "To compare two different types of classifiers basic Decision Trees are now used. This will be done by implementing given scripts from previous excercises with a few tweaks, so that the wanted comparison can be done with paired t-test. "
   ]
  },
  {
   "cell_type": "code",
   "execution_count": 35,
   "metadata": {
    "scrolled": false
   },
   "outputs": [],
   "source": [
    "from sklearn import cross_validation, tree\n",
    "#### two layer cross validation decision tree\n",
    "#select X and Y                                                \n",
    "X = X_train\n",
    "y = y_train\n",
    "\n",
    "# Tree complexity parameter - constraint on maximum depth\n",
    "tc = np.arange(2, 30, 1)\n",
    "\n",
    "# K-fold crossvalidation setup\n",
    "K = 10\n",
    "CV = cross_validation.KFold(X.shape[0],K,shuffle=True)\n",
    "\n",
    "# Initialize variable\n",
    "TREE_Error_train = np.empty((len(tc),K))\n",
    "TREE_Error_test = np.empty((len(tc),K))\n",
    "\n",
    "#Outer loop (Kfold)\n",
    "k=0\n",
    "for train_index, test_index in CV:\n",
    "    # Print info on progress\n",
    "    #print('Computing CV fold: {0}/{1}..'.format(k+1,K))\n",
    "    \n",
    "    # get train and test values for current KFold\n",
    "    X_train, y_train = X.iloc[train_index,:], y.iloc[train_index]\n",
    "    X_test, y_test = X.iloc[test_index,:], y.iloc[test_index]\n",
    "    \n",
    "    # inner loop (model selection)\n",
    "    for i, t in enumerate(tc):\n",
    "        \n",
    "        # clasify\n",
    "        clf = tree.DecisionTreeClassifier(criterion='gini', max_depth=t)\n",
    "        clf = clf.fit(X_train, y_train)\n",
    "\n",
    "        #predict\n",
    "        y_est_test = clf.predict(X_test)\n",
    "        y_est_train = clf.predict(X_train)\n",
    "    \n",
    "        #evaluate misclasification in the current Kfold\n",
    "        misclass_rate_test = sum(np.abs(y_est_test - y_test)) / float(len(y_est_test))\n",
    "        misclass_rate_train = sum(np.abs(y_est_train - y_train)) / float(len(y_est_train))\n",
    "        TREE_Error_test[i,k], TREE_Error_train[i,k] = misclass_rate_test, misclass_rate_train\n",
    "    \n",
    "    # increment kfold counter\n",
    "    k+=1"
   ]
  },
  {
   "cell_type": "markdown",
   "metadata": {},
   "source": [
    "The complexity of the model is now plotted vs the test error and the misclassification rate for the different folds. "
   ]
  },
  {
   "cell_type": "code",
   "execution_count": 40,
   "metadata": {
    "scrolled": true
   },
   "outputs": [
    {
     "data": {
      "image/png": "[encoded data removed]",
      "text/plain": [
       "<matplotlib.figure.Figure at 0x7f6e745284a8>"
      ]
     },
     "metadata": {},
     "output_type": "display_data"
    },
    {
     "data": {
      "image/png": "[encoded data removed]",
      "text/plain": [
       "<matplotlib.figure.Figure at 0x7f6e769d6828>"
      ]
     },
     "metadata": {},
     "output_type": "display_data"
    }
   ],
   "source": [
    "f = plt.figure(); f.hold(True)\n",
    "plt.boxplot(TREE_Error_test.T)\n",
    "plt.xlabel('Model complexity (max tree depth)')\n",
    "plt.ylabel('Test error across CV folds, K={0})'.format(K))\n",
    "\n",
    "f = plt.figure(); f.hold(True)\n",
    "plt.plot(tc, TREE_Error_train.mean(1))\n",
    "plt.plot(tc, TREE_Error_test.mean(1))\n",
    "plt.xlabel('Model complexity (max tree depth)')\n",
    "plt.ylabel('Error (misclassification rate, CV K={0})'.format(K))\n",
    "plt.legend(['Error_train','Error_test'])\n",
    "    \n",
    "plt.show()"
   ]
  },
  {
   "cell_type": "markdown",
   "metadata": {},
   "source": [
    "On the above plots it's seen that the model don't get better with higher complexity. And the best model is already found with 5 trees."
   ]
  },
  {
   "cell_type": "markdown",
   "metadata": {},
   "source": [
    "### K-nearest neighbor"
   ]
  },
  {
   "cell_type": "markdown",
   "metadata": {},
   "source": [
    "Now K-nearest neighbor are used, and will again be implemented from the given scripts, so that the wanted comparison can be done with paired t-test. "
   ]
  },
  {
   "cell_type": "code",
   "execution_count": 43,
   "metadata": {},
   "outputs": [],
   "source": [
    "import datetime\n",
    "from sklearn import cross_validation\n",
    "from sklearn.neighbors import KNeighborsClassifier\n",
    "#### two layer cross validation K-nearest neighbor\n",
    "#select X and Y                                                \n",
    "X = X_train\n",
    "y = y_train\n",
    "\n",
    "# Tree complexity parameter - constraint on maximum depth\n",
    "tc = np.arange(2, 30, 1)\n",
    "\n",
    "# K-fold crossvalidation setup\n",
    "K = 10\n",
    "CV = cross_validation.KFold(X.shape[0],K,shuffle=True)\n",
    "\n",
    "# Initialize variable\n",
    "KN_Error_train = np.empty((len(tc),K))\n",
    "KN_Error_test = np.empty((len(tc),K))\n",
    "\n",
    "#Outer loop (Kfold)\n",
    "k=0\n",
    "for train_index, test_index in CV:\n",
    "    # Print info on progress\n",
    "    #now = datetime.datetime.now()\n",
    "    #print(now)\n",
    "    #print('Computing CV fold: {0}/{1}..'.format(k+1,K))\n",
    "    \n",
    "    # get train and test values for current KFold\n",
    "    X_train, y_train = X.iloc[train_index,:], y.iloc[train_index]\n",
    "    X_test, y_test = X.iloc[test_index,:], y.iloc[test_index]\n",
    "    \n",
    "    # inner loop (model selection)\n",
    "    for i, t in enumerate(tc):\n",
    "        \n",
    "        # clasify\n",
    "        neigh = KNeighborsClassifier(n_neighbors=t)\n",
    "        neigh.fit(X_train, y_train) \n",
    "\n",
    "        #predict\n",
    "        y_est_test = neigh.predict(X_test)\n",
    "        y_est_train = neigh.predict(X_train)\n",
    "    \n",
    "        #evaluate misclasification in the current Kfold\n",
    "        misclass_rate_test = sum(np.abs(y_est_test - y_test)) / float(len(y_est_test))\n",
    "        misclass_rate_train = sum(np.abs(y_est_train - y_train)) / float(len(y_est_train))\n",
    "        KN_Error_test[i,k], KN_Error_train[i,k] = misclass_rate_test, misclass_rate_train\n",
    "    \n",
    "    # increment kfold counter\n",
    "    k+=1"
   ]
  },
  {
   "cell_type": "code",
   "execution_count": 44,
   "metadata": {
    "scrolled": true
   },
   "outputs": [
    {
     "data": {
      "image/png": "[encoded data removed]",
      "text/plain": [
       "<matplotlib.figure.Figure at 0x7f6e744550b8>"
      ]
     },
     "metadata": {},
     "output_type": "display_data"
    },
    {
     "data": {
      "image/png": "[encoded data removed]",
      "text/plain": [
       "<matplotlib.figure.Figure at 0x7f6e740b75f8>"
      ]
     },
     "metadata": {},
     "output_type": "display_data"
    }
   ],
   "source": [
    "f = plt.figure(); f.hold(True)\n",
    "plt.boxplot(KN_Error_test.T)\n",
    "plt.xlabel('Model complexity (N-nearest neighbors)')\n",
    "plt.ylabel('Test error across CV folds, K={0})'.format(K))\n",
    "\n",
    "f = plt.figure(); f.hold(True)\n",
    "plt.plot(tc, KN_Error_train.mean(1))\n",
    "plt.plot(tc, KN_Error_test.mean(1))\n",
    "plt.xlabel('Model complexity (N-nearest neighbors)')\n",
    "plt.ylabel('Error (misclassification rate, CV K={0})'.format(K))\n",
    "plt.legend(['Error_train','Error_test'])\n",
    "    \n",
    "plt.show()"
   ]
  },
  {
   "cell_type": "markdown",
   "metadata": {},
   "source": [
    "It's seen on the plot that the model performs better as the number of nearest neigbors increases up to a number around 16, where more neigbors doesn't effect the model more. "
   ]
  },
  {
   "cell_type": "markdown",
   "metadata": {},
   "source": [
    "### Artificial Neural Network"
   ]
  },
  {
   "cell_type": "markdown",
   "metadata": {},
   "source": [
    "For the classification problem, an Artificial Network is now implemented."
   ]
  },
  {
   "cell_type": "code",
   "execution_count": 45,
   "metadata": {},
   "outputs": [],
   "source": [
    "from keras.models import Sequential\n",
    "from keras.layers import Dense, Activation\n",
    "from keras import optimizers\n",
    "from sklearn import cross_validation\n",
    "import datetime\n",
    "\n",
    "#select X and Y                                                \n",
    "X = X_train\n",
    "y = y_train\n",
    "# Tree complexity parameter - constraint on maximum depth\n",
    "tc = np.arange(2, 15, 1)\n",
    "\n",
    "# K-fold crossvalidation setup\n",
    "K = 10\n",
    "CV = cross_validation.KFold(X.shape[0],K,shuffle=True)\n",
    "\n",
    "# Initialize variable\n",
    "NN_Error_train = np.empty((len(tc),K))\n",
    "NN_Error_test = np.empty((len(tc),K))\n",
    "\n",
    "#Outer loop (Kfold)\n",
    "k=0\n",
    "for train_index, test_index in CV:\n",
    "    # Print info on progress\n",
    "    #now = datetime.datetime.now()\n",
    "    #print(now)\n",
    "    #print('Computing CV fold: {0}/{1}..'.format(k+1,K))\n",
    "    \n",
    "    # get train and test values for current KFold\n",
    "    X_train, y_train = X.iloc[train_index,:], y.iloc[train_index]\n",
    "    X_test, y_test = X.iloc[test_index,:], y.iloc[test_index]\n",
    "    \n",
    "    # inner loop (model selection)\n",
    "    for i, t in enumerate(tc):\n",
    "        \n",
    "        model = Sequential()\n",
    "\n",
    "        # adding layers\n",
    "        model.add(Dense(t*10, activation='relu', input_dim=X_train.shape[1],))\n",
    "        model.add(Dense(t*5, activation='relu'))\n",
    "        model.add(Dense(1, activation='sigmoid'))\n",
    "\n",
    "        # tweaking settings\n",
    "        adam = optimizers.Adam(lr=0.001, beta_1=0.9,\n",
    "        beta_2=0.999, epsilon=1e-08, decay=0.0)\n",
    "        model.compile(loss='binary_crossentropy', optimizer=adam, metrics=['accuracy'])\n",
    "\n",
    "        # fitting model\n",
    "        history = model.fit(X_train.values,y_train.values, validation_data=(X_test.values,y_test.values),\n",
    "        epochs = 25, batch_size=500, shuffle=False,verbose=0)\n",
    "        \n",
    "        # predict\n",
    "        y_est_test = model.predict(X_test.values, batch_size = 1000).reshape((-1,))\n",
    "        y_est_train = model.predict(X_train.values, batch_size = 1000).reshape((-1,))\n",
    "    \n",
    "        #evaluate misclasification in the current Kfold\n",
    "        misclass_rate_test = sum(np.abs(y_est_test - y_test)) / float(len(y_est_test))\n",
    "        misclass_rate_train = sum(np.abs(y_est_train - y_train)) / float(len(y_est_train))\n",
    "        NN_Error_test[i,k], NN_Error_train[i,k] = misclass_rate_test, misclass_rate_train\n",
    "    \n",
    "    # increment kfold counter\n",
    "    k+=1"
   ]
  },
  {
   "cell_type": "code",
   "execution_count": 46,
   "metadata": {
    "scrolled": true
   },
   "outputs": [
    {
     "data": {
      "image/png": "[encoded data removed]",
      "text/plain": [
       "<matplotlib.figure.Figure at 0x7f6e74a04588>"
      ]
     },
     "metadata": {},
     "output_type": "display_data"
    },
    {
     "data": {
      "image/png": "[encoded data removed]",
      "text/plain": [
       "<matplotlib.figure.Figure at 0x7f6e745e22b0>"
      ]
     },
     "metadata": {},
     "output_type": "display_data"
    }
   ],
   "source": [
    "f = plt.figure()\n",
    "plt.boxplot(NN_Error_test.T)\n",
    "plt.xlabel('Model complexity (Model number)')\n",
    "plt.ylabel('Test error across CV folds, K={0})'.format(K))\n",
    "\n",
    "f = plt.figure()\n",
    "plt.plot(tc, NN_Error_train.mean(1))\n",
    "plt.plot(tc, NN_Error_test.mean(1))\n",
    "plt.xlabel('Model complexity (t-value')\n",
    "plt.ylabel('Error (misclassification rate, CV K={0})'.format(K))\n",
    "plt.legend(['Error_train','Error_test'])\n",
    "    \n",
    "plt.show()"
   ]
  },
  {
   "cell_type": "markdown",
   "metadata": {},
   "source": [
    "On the above plots it's clearly seen that the Artificial Neural Network overall is the worst of all the implemented models. And only model number 3 and 6 is compare with the Decision Trees or the K-nearest neighbor models."
   ]
  },
  {
   "cell_type": "markdown",
   "metadata": {},
   "source": [
    "## Evaluation"
   ]
  },
  {
   "cell_type": "code",
   "execution_count": 47,
   "metadata": {},
   "outputs": [
    {
     "name": "stdout",
     "output_type": "stream",
     "text": [
      "Classifiers are not significantly different\n"
     ]
    }
   ],
   "source": [
    "from scipy import stats\n",
    "kn_test = KN_Error_test.T[:,2]\n",
    "tree_test = TREE_Error_test.T[:,25]\n",
    "[tstatistic, pvalue] = stats.ttest_ind(kn_test,tree_test)\n",
    "alpha = 0.05\n",
    "if pvalue <= alpha:\n",
    "    print('Classifiers are not significantly different')        \n",
    "else:\n",
    "    print('Classifiers are significantly different.')"
   ]
  },
  {
   "cell_type": "markdown",
   "metadata": {
    "collapsed": true
   },
   "source": [
    "With scipy's library stats, it's possible to make a paired t-test on the Decision tree and the K-nearest Neigbors test set. \n",
    "And with a significant level of 0.05 the two models are not significant different."
   ]
  }
 ],
 "metadata": {
  "kernelspec": {
   "display_name": "Python 3",
   "language": "python",
   "name": "python3"
  },
  "language_info": {
   "codemirror_mode": {
    "name": "ipython",
    "version": 3
   },
   "file_extension": ".py",
   "mimetype": "text/x-python",
   "name": "python",
   "nbconvert_exporter": "python",
   "pygments_lexer": "ipython3",
   "version": "3.6.1"
  }
 },
 "nbformat": 4,
 "nbformat_minor": 2
}
